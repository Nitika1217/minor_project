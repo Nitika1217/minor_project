{
 "cells": [
  {
   "cell_type": "code",
   "execution_count": 1,
   "id": "59922fb3",
   "metadata": {},
   "outputs": [],
   "source": [
    "import pandas as pd\n",
    "import numpy as np\n",
    "from sklearn.model_selection import train_test_split"
   ]
  },
  {
   "cell_type": "code",
   "execution_count": 2,
   "id": "028845dd",
   "metadata": {},
   "outputs": [],
   "source": [
    "temp = []\n",
    "base_path3 = 'C:\\\\Users\\\\KIIT\\\\Documents\\\\Minor Project\\\\DataSet_3sec\\\\'\n",
    "\n",
    "for i in range(1, 21):\n",
    "    folder_path = base_path3 + 'S' + str(i) +'_3' + '\\\\'\n",
    "    for j in range(0,10):\n",
    "        if i < 10:\n",
    "            file_name = folder_path + 's0' + str(i) + '_video' + str(j) + '_features(five_block).csv'\n",
    "        else:\n",
    "            file_name = folder_path + 's' + str(i) + '_video' + str(j) + '_features(five_block).csv'\n",
    "        df = pd.read_csv(file_name)\n",
    "        data = df.to_numpy()\n",
    "        temp.append(len(data))"
   ]
  },
  {
   "cell_type": "code",
   "execution_count": 3,
   "id": "c01bfbf9",
   "metadata": {},
   "outputs": [
    {
     "data": {
      "text/plain": [
       "20274"
      ]
     },
     "execution_count": 3,
     "metadata": {},
     "output_type": "execute_result"
    }
   ],
   "source": [
    "min(temp)"
   ]
  },
  {
   "cell_type": "code",
   "execution_count": 4,
   "id": "b11e3a3b",
   "metadata": {},
   "outputs": [],
   "source": [
    "data = pd.read_excel(\"C:\\\\Users\\\\KIIT\\\\Documents\\\\Minor Project\\\\ML DATA ASSESSMENT_Rh_Ra.xlsx\")"
   ]
  },
  {
   "cell_type": "code",
   "execution_count": 5,
   "id": "4553c164",
   "metadata": {},
   "outputs": [
    {
     "data": {
      "text/html": [
       "<div>\n",
       "<style scoped>\n",
       "    .dataframe tbody tr th:only-of-type {\n",
       "        vertical-align: middle;\n",
       "    }\n",
       "\n",
       "    .dataframe tbody tr th {\n",
       "        vertical-align: top;\n",
       "    }\n",
       "\n",
       "    .dataframe thead th {\n",
       "        text-align: right;\n",
       "    }\n",
       "</style>\n",
       "<table border=\"1\" class=\"dataframe\">\n",
       "  <thead>\n",
       "    <tr style=\"text-align: right;\">\n",
       "      <th></th>\n",
       "      <th>Roll number</th>\n",
       "      <th>Video Number</th>\n",
       "      <th>Pre_Quiz Score</th>\n",
       "      <th>Post_Quiz Score</th>\n",
       "      <th>Post - Pre</th>\n",
       "      <th>Class_label</th>\n",
       "      <th>label</th>\n",
       "      <th>Unnamed: 7</th>\n",
       "      <th>Unnamed: 8</th>\n",
       "    </tr>\n",
       "  </thead>\n",
       "  <tbody>\n",
       "    <tr>\n",
       "      <th>0</th>\n",
       "      <td>118CS0220</td>\n",
       "      <td>Lecture_1</td>\n",
       "      <td>7.5</td>\n",
       "      <td>8.5</td>\n",
       "      <td>NaN</td>\n",
       "      <td>1.0</td>\n",
       "      <td>0</td>\n",
       "      <td>NaN</td>\n",
       "      <td>NaN</td>\n",
       "    </tr>\n",
       "    <tr>\n",
       "      <th>1</th>\n",
       "      <td>NaN</td>\n",
       "      <td>Lecture_2</td>\n",
       "      <td>5.0</td>\n",
       "      <td>7.5</td>\n",
       "      <td>NaN</td>\n",
       "      <td>2.5</td>\n",
       "      <td>0</td>\n",
       "      <td>0.0</td>\n",
       "      <td>111.0</td>\n",
       "    </tr>\n",
       "    <tr>\n",
       "      <th>2</th>\n",
       "      <td>NaN</td>\n",
       "      <td>Lecture_3</td>\n",
       "      <td>7.5</td>\n",
       "      <td>7.5</td>\n",
       "      <td>NaN</td>\n",
       "      <td>0.0</td>\n",
       "      <td>0</td>\n",
       "      <td>1.0</td>\n",
       "      <td>49.0</td>\n",
       "    </tr>\n",
       "    <tr>\n",
       "      <th>3</th>\n",
       "      <td>NaN</td>\n",
       "      <td>Lecture_4</td>\n",
       "      <td>6.6</td>\n",
       "      <td>10.0</td>\n",
       "      <td>NaN</td>\n",
       "      <td>3.4</td>\n",
       "      <td>1</td>\n",
       "      <td>2.0</td>\n",
       "      <td>40.0</td>\n",
       "    </tr>\n",
       "    <tr>\n",
       "      <th>4</th>\n",
       "      <td>NaN</td>\n",
       "      <td>Lecture_5</td>\n",
       "      <td>8.5</td>\n",
       "      <td>10.0</td>\n",
       "      <td>NaN</td>\n",
       "      <td>1.5</td>\n",
       "      <td>0</td>\n",
       "      <td>NaN</td>\n",
       "      <td>NaN</td>\n",
       "    </tr>\n",
       "  </tbody>\n",
       "</table>\n",
       "</div>"
      ],
      "text/plain": [
       "  Roll number Video Number  Pre_Quiz Score  Post_Quiz Score  Post - Pre   \\\n",
       "0   118CS0220    Lecture_1             7.5              8.5          NaN   \n",
       "1         NaN    Lecture_2             5.0              7.5          NaN   \n",
       "2         NaN    Lecture_3             7.5              7.5          NaN   \n",
       "3         NaN    Lecture_4             6.6             10.0          NaN   \n",
       "4         NaN    Lecture_5             8.5             10.0          NaN   \n",
       "\n",
       "   Class_label  label  Unnamed: 7  Unnamed: 8  \n",
       "0          1.0      0         NaN         NaN  \n",
       "1          2.5      0         0.0       111.0  \n",
       "2          0.0      0         1.0        49.0  \n",
       "3          3.4      1         2.0        40.0  \n",
       "4          1.5      0         NaN         NaN  "
      ]
     },
     "execution_count": 5,
     "metadata": {},
     "output_type": "execute_result"
    }
   ],
   "source": [
    "data.head()"
   ]
  },
  {
   "cell_type": "code",
   "execution_count": 6,
   "id": "6ebae25a",
   "metadata": {},
   "outputs": [],
   "source": [
    "final_labels = [0]*len(data[\"label\"])\n",
    "i = 0\n",
    "for i in range(len(data[\"label\"])):\n",
    "    if(data[\"label\"][i] == 2):\n",
    "        final_labels[i] = 1\n",
    "    else:\n",
    "        final_labels[i] = data[\"label\"][i]\n",
    "data[\"final_labels\"] = final_labels"
   ]
  },
  {
   "cell_type": "code",
   "execution_count": 7,
   "id": "e0f3946e",
   "metadata": {},
   "outputs": [
    {
     "data": {
      "text/html": [
       "<div>\n",
       "<style scoped>\n",
       "    .dataframe tbody tr th:only-of-type {\n",
       "        vertical-align: middle;\n",
       "    }\n",
       "\n",
       "    .dataframe tbody tr th {\n",
       "        vertical-align: top;\n",
       "    }\n",
       "\n",
       "    .dataframe thead th {\n",
       "        text-align: right;\n",
       "    }\n",
       "</style>\n",
       "<table border=\"1\" class=\"dataframe\">\n",
       "  <thead>\n",
       "    <tr style=\"text-align: right;\">\n",
       "      <th></th>\n",
       "      <th>Roll number</th>\n",
       "      <th>Video Number</th>\n",
       "      <th>Pre_Quiz Score</th>\n",
       "      <th>Post_Quiz Score</th>\n",
       "      <th>Post - Pre</th>\n",
       "      <th>Class_label</th>\n",
       "      <th>label</th>\n",
       "      <th>Unnamed: 7</th>\n",
       "      <th>Unnamed: 8</th>\n",
       "      <th>final_labels</th>\n",
       "    </tr>\n",
       "  </thead>\n",
       "  <tbody>\n",
       "    <tr>\n",
       "      <th>0</th>\n",
       "      <td>118CS0220</td>\n",
       "      <td>Lecture_1</td>\n",
       "      <td>7.5</td>\n",
       "      <td>8.5</td>\n",
       "      <td>NaN</td>\n",
       "      <td>1.0</td>\n",
       "      <td>0</td>\n",
       "      <td>NaN</td>\n",
       "      <td>NaN</td>\n",
       "      <td>0</td>\n",
       "    </tr>\n",
       "    <tr>\n",
       "      <th>1</th>\n",
       "      <td>NaN</td>\n",
       "      <td>Lecture_2</td>\n",
       "      <td>5.0</td>\n",
       "      <td>7.5</td>\n",
       "      <td>NaN</td>\n",
       "      <td>2.5</td>\n",
       "      <td>0</td>\n",
       "      <td>0.0</td>\n",
       "      <td>111.0</td>\n",
       "      <td>0</td>\n",
       "    </tr>\n",
       "    <tr>\n",
       "      <th>2</th>\n",
       "      <td>NaN</td>\n",
       "      <td>Lecture_3</td>\n",
       "      <td>7.5</td>\n",
       "      <td>7.5</td>\n",
       "      <td>NaN</td>\n",
       "      <td>0.0</td>\n",
       "      <td>0</td>\n",
       "      <td>1.0</td>\n",
       "      <td>49.0</td>\n",
       "      <td>0</td>\n",
       "    </tr>\n",
       "    <tr>\n",
       "      <th>3</th>\n",
       "      <td>NaN</td>\n",
       "      <td>Lecture_4</td>\n",
       "      <td>6.6</td>\n",
       "      <td>10.0</td>\n",
       "      <td>NaN</td>\n",
       "      <td>3.4</td>\n",
       "      <td>1</td>\n",
       "      <td>2.0</td>\n",
       "      <td>40.0</td>\n",
       "      <td>1</td>\n",
       "    </tr>\n",
       "    <tr>\n",
       "      <th>4</th>\n",
       "      <td>NaN</td>\n",
       "      <td>Lecture_5</td>\n",
       "      <td>8.5</td>\n",
       "      <td>10.0</td>\n",
       "      <td>NaN</td>\n",
       "      <td>1.5</td>\n",
       "      <td>0</td>\n",
       "      <td>NaN</td>\n",
       "      <td>NaN</td>\n",
       "      <td>0</td>\n",
       "    </tr>\n",
       "  </tbody>\n",
       "</table>\n",
       "</div>"
      ],
      "text/plain": [
       "  Roll number Video Number  Pre_Quiz Score  Post_Quiz Score  Post - Pre   \\\n",
       "0   118CS0220    Lecture_1             7.5              8.5          NaN   \n",
       "1         NaN    Lecture_2             5.0              7.5          NaN   \n",
       "2         NaN    Lecture_3             7.5              7.5          NaN   \n",
       "3         NaN    Lecture_4             6.6             10.0          NaN   \n",
       "4         NaN    Lecture_5             8.5             10.0          NaN   \n",
       "\n",
       "   Class_label  label  Unnamed: 7  Unnamed: 8  final_labels  \n",
       "0          1.0      0         NaN         NaN             0  \n",
       "1          2.5      0         0.0       111.0             0  \n",
       "2          0.0      0         1.0        49.0             0  \n",
       "3          3.4      1         2.0        40.0             1  \n",
       "4          1.5      0         NaN         NaN             0  "
      ]
     },
     "execution_count": 7,
     "metadata": {},
     "output_type": "execute_result"
    }
   ],
   "source": [
    "data.head()"
   ]
  },
  {
   "cell_type": "markdown",
   "id": "3aa5c02c",
   "metadata": {},
   "source": [
    "# Test-Train Splitting"
   ]
  },
  {
   "cell_type": "code",
   "execution_count": 8,
   "id": "32b77e89",
   "metadata": {},
   "outputs": [],
   "source": [
    "y=data.final_labels"
   ]
  },
  {
   "cell_type": "code",
   "execution_count": 9,
   "id": "554f4b43",
   "metadata": {},
   "outputs": [
    {
     "data": {
      "text/plain": [
       "(200,)"
      ]
     },
     "execution_count": 9,
     "metadata": {},
     "output_type": "execute_result"
    }
   ],
   "source": [
    "y.shape"
   ]
  },
  {
   "cell_type": "code",
   "execution_count": 10,
   "id": "95b86b86",
   "metadata": {},
   "outputs": [
    {
     "name": "stdout",
     "output_type": "stream",
     "text": [
      "[[1778.95390609 1566.25444932 1469.74351504 ... 2947.97506774\n",
      "  2295.35182488 2437.68127531]\n",
      " [ 699.30608463  178.60011198  100.62305899 ... 1987.17915649\n",
      "  1930.7501133  2155.95222582]\n",
      " [ 525.44933152  182.33211456   13.89244399 ...  396.67619036\n",
      "   448.46961993  386.90825786]\n",
      " ...\n",
      " [2894.89516218 2894.89516218 2894.89516218 ... 3506.48228286\n",
      "  2823.1999575  2896.30937574]\n",
      " [2896.30937574   83.21658489  157.69908053 ...  132.82319075\n",
      "   108.2266141    90.78546139]\n",
      " [1534.58398271 3558.40526079 2278.22474747 ...  212.8755505\n",
      "   177.55280905 3128.68294974]]\n"
     ]
    }
   ],
   "source": [
    "base_path2 = 'C:\\\\Users\\\\KIIT\\\\Documents\\\\Minor Project\\\\DataSet_2sec\\\\'\n",
    "l = 20274\n",
    "xm = []\n",
    "for i in range(1,21):\n",
    "        folder_path = base_path2 + 'S' + str(i) +'_2' + '\\\\'\n",
    "        for j in range(0,10):\n",
    "            if i < 10:\n",
    "                file_name = folder_path + 's0' + str(i) + '_video' + str(j) + '_features(five_block).csv'\n",
    "            else:\n",
    "                file_name = folder_path + 's' + str(i) + '_video' + str(j) + '_features(five_block).csv'\n",
    "            df = pd.read_csv(file_name, header=None)\n",
    "            t = df.to_numpy()\n",
    "            t = t.reshape(len(t))\n",
    "            t = t[0:l]\n",
    "            xm.append(t)\n",
    "x = np.array(xm)\n",
    "print(x)"
   ]
  },
  {
   "cell_type": "code",
   "execution_count": 11,
   "id": "a3d6811a",
   "metadata": {},
   "outputs": [
    {
     "data": {
      "text/plain": [
       "(200, 20274)"
      ]
     },
     "execution_count": 11,
     "metadata": {},
     "output_type": "execute_result"
    }
   ],
   "source": [
    "x.shape"
   ]
  },
  {
   "cell_type": "code",
   "execution_count": 12,
   "id": "3bc83950",
   "metadata": {},
   "outputs": [],
   "source": [
    "x_train,x_test,y_train,y_test=train_test_split(x,y,test_size=0.2)"
   ]
  },
  {
   "cell_type": "code",
   "execution_count": 13,
   "id": "c21452c5",
   "metadata": {},
   "outputs": [
    {
     "data": {
      "text/plain": [
       "(160, 20274)"
      ]
     },
     "execution_count": 13,
     "metadata": {},
     "output_type": "execute_result"
    }
   ],
   "source": [
    "x_train.shape"
   ]
  },
  {
   "cell_type": "code",
   "execution_count": 14,
   "id": "e994df35",
   "metadata": {},
   "outputs": [
    {
     "data": {
      "text/plain": [
       "(40, 20274)"
      ]
     },
     "execution_count": 14,
     "metadata": {},
     "output_type": "execute_result"
    }
   ],
   "source": [
    "x_test.shape"
   ]
  },
  {
   "cell_type": "code",
   "execution_count": 15,
   "id": "ccd536c6",
   "metadata": {},
   "outputs": [
    {
     "data": {
      "text/plain": [
       "(160,)"
      ]
     },
     "execution_count": 15,
     "metadata": {},
     "output_type": "execute_result"
    }
   ],
   "source": [
    "y_train.shape"
   ]
  },
  {
   "cell_type": "code",
   "execution_count": 16,
   "id": "f4fd36a0",
   "metadata": {},
   "outputs": [
    {
     "data": {
      "text/plain": [
       "(40,)"
      ]
     },
     "execution_count": 16,
     "metadata": {},
     "output_type": "execute_result"
    }
   ],
   "source": [
    "y_test.shape"
   ]
  },
  {
   "cell_type": "markdown",
   "id": "fed4313f",
   "metadata": {},
   "source": [
    "# Model Fitting"
   ]
  },
  {
   "cell_type": "code",
   "execution_count": 17,
   "id": "253f2d3b",
   "metadata": {},
   "outputs": [
    {
     "data": {
      "text/plain": [
       "KNeighborsClassifier(n_neighbors=7)"
      ]
     },
     "execution_count": 17,
     "metadata": {},
     "output_type": "execute_result"
    }
   ],
   "source": [
    "# KNN\n",
    "from sklearn.neighbors import KNeighborsClassifier\n",
    "knn = KNeighborsClassifier(n_neighbors=7)\n",
    "knn.fit(x_train, y_train)"
   ]
  },
  {
   "cell_type": "code",
   "execution_count": 18,
   "id": "4cddc51b",
   "metadata": {},
   "outputs": [
    {
     "name": "stdout",
     "output_type": "stream",
     "text": [
      "0.625\n"
     ]
    },
    {
     "name": "stderr",
     "output_type": "stream",
     "text": [
      "C:\\Users\\KIIT\\anaconda3\\lib\\site-packages\\sklearn\\neighbors\\_classification.py:228: FutureWarning: Unlike other reduction functions (e.g. `skew`, `kurtosis`), the default behavior of `mode` typically preserves the axis it acts along. In SciPy 1.11.0, this behavior will change: the default value of `keepdims` will become False, the `axis` over which the statistic is taken will be eliminated, and the value None will no longer be accepted. Set `keepdims` to True or False to avoid this warning.\n",
      "  mode, _ = stats.mode(_y[neigh_ind, k], axis=1)\n"
     ]
    }
   ],
   "source": [
    "from sklearn.metrics import accuracy_score\n",
    "print(accuracy_score(y_test, knn.predict(x_test)))"
   ]
  },
  {
   "cell_type": "code",
   "execution_count": 19,
   "id": "ed17f903",
   "metadata": {},
   "outputs": [
    {
     "name": "stdout",
     "output_type": "stream",
     "text": [
      "[1 0 0 1 0 1 0 0 0 0 0 1 0 0 0 0 0 0 0 0 1 1 1 0 0 0 0 0 0 1 0 0 0 1 0 0 0\n",
      " 0 1 1]\n"
     ]
    },
    {
     "name": "stderr",
     "output_type": "stream",
     "text": [
      "C:\\Users\\KIIT\\anaconda3\\lib\\site-packages\\sklearn\\neighbors\\_classification.py:228: FutureWarning: Unlike other reduction functions (e.g. `skew`, `kurtosis`), the default behavior of `mode` typically preserves the axis it acts along. In SciPy 1.11.0, this behavior will change: the default value of `keepdims` will become False, the `axis` over which the statistic is taken will be eliminated, and the value None will no longer be accepted. Set `keepdims` to True or False to avoid this warning.\n",
      "  mode, _ = stats.mode(_y[neigh_ind, k], axis=1)\n"
     ]
    }
   ],
   "source": [
    "print(knn.predict(x_test))"
   ]
  },
  {
   "cell_type": "code",
   "execution_count": 20,
   "id": "c4fcf1cf",
   "metadata": {},
   "outputs": [
    {
     "name": "stdout",
     "output_type": "stream",
     "text": [
      "0.55\n"
     ]
    }
   ],
   "source": [
    "# SVM\n",
    "from sklearn import svm\n",
    "from sklearn.metrics import accuracy_score\n",
    "clf = svm.SVC(kernel='linear')\n",
    "clf.fit(x_train, y_train)\n",
    "predictions = clf.predict(x_test)\n",
    "print(accuracy_score(y_test, predictions))"
   ]
  },
  {
   "cell_type": "code",
   "execution_count": 21,
   "id": "e8b8eeb8",
   "metadata": {},
   "outputs": [
    {
     "name": "stdout",
     "output_type": "stream",
     "text": [
      "[0 0 1 1 0 1 0 0 0 0 0 0 1 0 1 0 0 0 1 1 0 1 1 1 0 0 0 0 0 1 1 0 0 0 1 0 0\n",
      " 0 1 0]\n"
     ]
    }
   ],
   "source": [
    "print(clf.predict(x_test))"
   ]
  },
  {
   "cell_type": "code",
   "execution_count": 22,
   "id": "62835f87",
   "metadata": {},
   "outputs": [
    {
     "name": "stdout",
     "output_type": "stream",
     "text": [
      "Results Using Gini Index:\n",
      "Predicted values:\n",
      "[1 0 0 1 1 0 0 0 0 0 1 1 0 0 0 0 0 0 0 0 1 1 0 1 1 0 0 0 0 0 0 1 0 0 1 0 0\n",
      " 0 0 1]\n",
      "Confusion Matrix:  [[17 11]\n",
      " [11  1]]\n",
      "Accuracy :  45.0\n",
      "Report :                precision    recall  f1-score   support\n",
      "\n",
      "           0       0.61      0.61      0.61        28\n",
      "           1       0.08      0.08      0.08        12\n",
      "\n",
      "    accuracy                           0.45        40\n",
      "   macro avg       0.35      0.35      0.35        40\n",
      "weighted avg       0.45      0.45      0.45        40\n",
      "\n",
      "Results Using Entropy:\n",
      "Predicted values:\n",
      "[1 0 0 1 1 0 0 1 0 0 1 1 1 0 1 1 0 0 1 1 1 1 1 1 1 1 0 0 0 0 0 1 0 0 1 0 0\n",
      " 0 1 1]\n",
      "Confusion Matrix:  [[14 14]\n",
      " [ 5  7]]\n",
      "Accuracy :  52.5\n",
      "Report :                precision    recall  f1-score   support\n",
      "\n",
      "           0       0.74      0.50      0.60        28\n",
      "           1       0.33      0.58      0.42        12\n",
      "\n",
      "    accuracy                           0.53        40\n",
      "   macro avg       0.54      0.54      0.51        40\n",
      "weighted avg       0.62      0.53      0.54        40\n",
      "\n"
     ]
    }
   ],
   "source": [
    "#DT \n",
    "from sklearn.tree import DecisionTreeClassifier\n",
    "from sklearn.metrics import confusion_matrix\n",
    "from sklearn.metrics import classification_report\n",
    "# Function to perform training with giniIndex.\n",
    "def train_using_gini(x_train, x_test, y_train):\n",
    "  \n",
    "    # Creating the classifier object\n",
    "    clf_gini = DecisionTreeClassifier(criterion = \"gini\",\n",
    "            random_state = 100,max_depth=3, min_samples_leaf=5)\n",
    "  \n",
    "    # Performing training\n",
    "    clf_gini.fit(x_train, y_train)\n",
    "    return clf_gini\n",
    "      \n",
    "# Function to perform training with entropy.\n",
    "def tarin_using_entropy(x_train, x_test, y_train):\n",
    "  \n",
    "    # Decision tree with entropy\n",
    "    clf_entropy = DecisionTreeClassifier(\n",
    "            criterion = \"entropy\", random_state = 100,\n",
    "            max_depth = 3, min_samples_leaf = 5)\n",
    "  \n",
    "    # Performing training\n",
    "    clf_entropy.fit(x_train, y_train)\n",
    "    return clf_entropy\n",
    "  \n",
    "  \n",
    "# Function to make predictions\n",
    "def prediction(x_test, clf_object):\n",
    "  \n",
    "    # Predicton on test with giniIndex\n",
    "    y_pred = clf_object.predict(x_test)\n",
    "    print(\"Predicted values:\")\n",
    "    print(y_pred)\n",
    "    return y_pred\n",
    "      \n",
    "# Function to calculate accuracy\n",
    "def cal_accuracy(y_test, y_pred):\n",
    "      \n",
    "    print(\"Confusion Matrix: \",\n",
    "        confusion_matrix(y_test, y_pred))\n",
    "      \n",
    "    print (\"Accuracy : \",\n",
    "    accuracy_score(y_test,y_pred)*100)\n",
    "      \n",
    "    print(\"Report : \",\n",
    "    classification_report(y_test, y_pred))\n",
    "\n",
    "\n",
    "\n",
    "clf_gini = train_using_gini(x_train, x_test, y_train)\n",
    "clf_entropy = tarin_using_entropy(x_train, x_test, y_train)\n",
    "      \n",
    "# Operational Phase\n",
    "clf_gini = train_using_gini(x_train, x_test, y_train)\n",
    "clf_entropy = tarin_using_entropy(x_train, x_test, y_train)\n",
    "      \n",
    "# Operational Phase\n",
    "print(\"Results Using Gini Index:\")\n",
    "      \n",
    "# Prediction using gini\n",
    "y_pred_gini = prediction(x_test, clf_gini)\n",
    "cal_accuracy(y_test, y_pred_gini)\n",
    "      \n",
    "print(\"Results Using Entropy:\")\n",
    "\n",
    "# Prediction using entropy\n",
    "y_pred_entropy = prediction(x_test, clf_entropy)\n",
    "cal_accuracy(y_test, y_pred_entropy)"
   ]
  },
  {
   "cell_type": "code",
   "execution_count": 23,
   "id": "d498be56",
   "metadata": {},
   "outputs": [
    {
     "name": "stdout",
     "output_type": "stream",
     "text": [
      "The accuracy score achieved using Naive Bayes is: 37.5 %\n"
     ]
    }
   ],
   "source": [
    "#NB\n",
    "from sklearn.naive_bayes import GaussianNB \n",
    "nb = GaussianNB()\n",
    "Y_train=y_train.astype('int')\n",
    "nb.fit(x_train,Y_train)\n",
    "Y_pred_nb = nb.predict(x_test)\n",
    "\n",
    "Y_pred_nb = Y_pred_nb.astype('int64')\n",
    "Y_test = y_test.astype('int64')\n",
    "score_nb = round(accuracy_score(Y_pred_nb,Y_test)*100,2)\n",
    "print(\"The accuracy score achieved using Naive Bayes is: \"+str(score_nb)+\" %\")"
   ]
  },
  {
   "cell_type": "code",
   "execution_count": 24,
   "id": "e86c50e3",
   "metadata": {},
   "outputs": [
    {
     "name": "stdout",
     "output_type": "stream",
     "text": [
      "[1 0 0 1 1 1 1 0 1 1 1 1 0 1 0 0 1 1 0 0 1 0 0 0 0 0 1 1 1 1 0 1 1 1 1 0 0\n",
      " 1 0 1]\n"
     ]
    }
   ],
   "source": [
    "print(nb.predict(x_test))"
   ]
  },
  {
   "cell_type": "code",
   "execution_count": 25,
   "id": "42e2caf6",
   "metadata": {},
   "outputs": [
    {
     "name": "stdout",
     "output_type": "stream",
     "text": [
      "Accuracy on training set: 1.000\n",
      "Accuracy on test set: 0.600\n"
     ]
    }
   ],
   "source": [
    "#Random forest with 100 trees\n",
    "from sklearn.ensemble import RandomForestClassifier\n",
    "rf = RandomForestClassifier(n_estimators=100, random_state=0)\n",
    "rf.fit(x_train, y_train)\n",
    "print(\"Accuracy on training set: {:.3f}\".format(rf.score(x_train, y_train)))\n",
    "print(\"Accuracy on test set: {:.3f}\".format(rf.score(x_test, y_test)))"
   ]
  },
  {
   "cell_type": "code",
   "execution_count": 26,
   "id": "7610629f",
   "metadata": {},
   "outputs": [
    {
     "name": "stdout",
     "output_type": "stream",
     "text": [
      "Accuracy on training set: 0.956\n",
      "Accuracy on test set: 0.450\n"
     ]
    }
   ],
   "source": [
    "rf1 = RandomForestClassifier(max_depth=3, n_estimators=100, random_state=0)\n",
    "rf1.fit(x_train, y_train)\n",
    "print(\"Accuracy on training set: {:.3f}\".format(rf1.score(x_train, y_train)))\n",
    "print(\"Accuracy on test set: {:.3f}\".format(rf1.score(x_test, y_test)))"
   ]
  },
  {
   "cell_type": "code",
   "execution_count": 27,
   "id": "85c6f336",
   "metadata": {},
   "outputs": [
    {
     "name": "stdout",
     "output_type": "stream",
     "text": [
      "[1 0 1 1 0 1 0 0 0 0 0 1 0 0 1 0 0 1 0 1 1 0 1 1 1 0 0 0 0 0 1 0 0 1 1 1 0\n",
      " 0 1 1]\n"
     ]
    }
   ],
   "source": [
    "print(rf1.predict(x_test))"
   ]
  },
  {
   "cell_type": "code",
   "execution_count": 28,
   "id": "abe754d3",
   "metadata": {},
   "outputs": [
    {
     "name": "stdout",
     "output_type": "stream",
     "text": [
      "80.0\n",
      "1212\n"
     ]
    }
   ],
   "source": [
    "from sklearn.ensemble import RandomForestClassifier\n",
    "max_accuracy = 0\n",
    "for x in range(2000):\n",
    "    rf = RandomForestClassifier(random_state=x)\n",
    "    rf.fit(x_train,y_train)\n",
    "    Y_pred_rf = rf.predict(x_test)\n",
    "    current_accuracy = round(accuracy_score(Y_pred_rf,y_test)*100,2)\n",
    "    if(current_accuracy>max_accuracy):\n",
    "        max_accuracy = current_accuracy\n",
    "        best_x = x\n",
    "        \n",
    "print(max_accuracy)\n",
    "print(best_x)\n",
    "\n",
    "rf = RandomForestClassifier(random_state=best_x)\n",
    "rf.fit(x_train,y_train)\n",
    "Y_pred_rf = rf.predict(x_test)"
   ]
  },
  {
   "cell_type": "code",
   "execution_count": 29,
   "id": "dde0e802",
   "metadata": {},
   "outputs": [
    {
     "name": "stdout",
     "output_type": "stream",
     "text": [
      "The accuracy score achieved using Decision Tree is: 80.0 %\n"
     ]
    }
   ],
   "source": [
    "score_rf = round(accuracy_score(Y_pred_rf,Y_test)*100,2)\n",
    "print(\"The accuracy score achieved using Decision Tree is: \"+str(score_rf)+\" %\")"
   ]
  },
  {
   "cell_type": "code",
   "execution_count": 29,
   "id": "5272a960",
   "metadata": {},
   "outputs": [
    {
     "name": "stdout",
     "output_type": "stream",
     "text": [
      "5\n",
      "KNN\n",
      "              precision    recall  f1-score   support\n",
      "\n",
      "           0       0.72      0.75      0.74        28\n",
      "           1       0.36      0.33      0.35        12\n",
      "\n",
      "    accuracy                           0.62        40\n",
      "   macro avg       0.54      0.54      0.54        40\n",
      "weighted avg       0.62      0.62      0.62        40\n",
      "\n",
      "accuracy 0.625\n",
      "pr 0.36363636363636365\n",
      "re 0.3333333333333333\n",
      "f1  0.34782608695652173\n",
      "SVM\n",
      "              precision    recall  f1-score   support\n",
      "\n",
      "           0       0.69      0.64      0.67        28\n",
      "           1       0.29      0.33      0.31        12\n",
      "\n",
      "    accuracy                           0.55        40\n",
      "   macro avg       0.49      0.49      0.49        40\n",
      "weighted avg       0.57      0.55      0.56        40\n",
      "\n",
      "accuracy 0.55\n",
      "pr 0.2857142857142857\n",
      "re 0.3333333333333333\n",
      "f1  0.30769230769230765\n",
      "RFT\n",
      "              precision    recall  f1-score   support\n",
      "\n",
      "           0       0.71      0.71      0.71        28\n",
      "           1       0.33      0.33      0.33        12\n",
      "\n",
      "    accuracy                           0.60        40\n",
      "   macro avg       0.52      0.52      0.52        40\n",
      "weighted avg       0.60      0.60      0.60        40\n",
      "\n",
      "accuracy 0.6\n",
      "pr 0.3333333333333333\n",
      "re 0.3333333333333333\n",
      "f1  0.3333333333333333\n",
      "NB\n",
      "              precision    recall  f1-score   support\n",
      "\n",
      "           0       0.59      0.36      0.44        28\n",
      "           1       0.22      0.42      0.29        12\n",
      "\n",
      "    accuracy                           0.38        40\n",
      "   macro avg       0.40      0.39      0.37        40\n",
      "weighted avg       0.48      0.38      0.40        40\n",
      "\n",
      "accuracy 0.375\n",
      "pr 0.21739130434782608\n",
      "re 0.4166666666666667\n",
      "f1  0.2857142857142857\n",
      "DT\n",
      "              precision    recall  f1-score   support\n",
      "\n",
      "           0       0.61      0.61      0.61        28\n",
      "           1       0.08      0.08      0.08        12\n",
      "\n",
      "    accuracy                           0.45        40\n",
      "   macro avg       0.35      0.35      0.35        40\n",
      "weighted avg       0.45      0.45      0.45        40\n",
      "\n",
      "accuracy 0.45\n",
      "pr 0.08333333333333333\n",
      "re 0.08333333333333333\n",
      "f1  0.08333333333333333\n"
     ]
    },
    {
     "name": "stderr",
     "output_type": "stream",
     "text": [
      "C:\\Users\\KIIT\\anaconda3\\lib\\site-packages\\sklearn\\neighbors\\_classification.py:228: FutureWarning: Unlike other reduction functions (e.g. `skew`, `kurtosis`), the default behavior of `mode` typically preserves the axis it acts along. In SciPy 1.11.0, this behavior will change: the default value of `keepdims` will become False, the `axis` over which the statistic is taken will be eliminated, and the value None will no longer be accepted. Set `keepdims` to True or False to avoid this warning.\n",
      "  mode, _ = stats.mode(_y[neigh_ind, k], axis=1)\n"
     ]
    }
   ],
   "source": [
    "classifiers = ['KNN','SVM','RFT','NB','DT']\n",
    "y_test_s= y_test\n",
    "y_pred_s= [knn.predict(x_test ), clf.predict(x_test) , rf.predict(x_test) , nb.predict(x_test) , y_pred_gini]\n",
    "#from sklearn.metrics import accuracy_score,precision_score,recall__score\n",
    "from sklearn.metrics import precision_score, recall_score, f1_score, accuracy_score\n",
    "from sklearn.metrics import classification_report\n",
    "print(len(classifiers))\n",
    "for cls in range(len(classifiers)):\n",
    "    print(classifiers[cls])\n",
    "    yproba = y_pred_s[cls]\n",
    "    print(classification_report(y_test_s, yproba))\n",
    "    print(\"accuracy\",accuracy_score(y_test_s, yproba))\n",
    "    print(\"pr\",precision_score(y_test_s, yproba))\n",
    "    print(\"re\",recall_score(y_test_s, yproba))\n",
    "    print(\"f1 \",f1_score(y_test_s, yproba))"
   ]
  },
  {
   "cell_type": "code",
   "execution_count": null,
   "id": "5740c31a",
   "metadata": {},
   "outputs": [],
   "source": []
  }
 ],
 "metadata": {
  "kernelspec": {
   "display_name": "Python 3 (ipykernel)",
   "language": "python",
   "name": "python3"
  },
  "language_info": {
   "codemirror_mode": {
    "name": "ipython",
    "version": 3
   },
   "file_extension": ".py",
   "mimetype": "text/x-python",
   "name": "python",
   "nbconvert_exporter": "python",
   "pygments_lexer": "ipython3",
   "version": "3.9.13"
  }
 },
 "nbformat": 4,
 "nbformat_minor": 5
}
