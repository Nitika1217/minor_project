{
 "cells": [
  {
   "cell_type": "code",
   "execution_count": 1,
   "id": "5a118473",
   "metadata": {},
   "outputs": [],
   "source": [
    "import pandas as pd\n",
    "import numpy as np\n",
    "from sklearn.model_selection import train_test_split"
   ]
  },
  {
   "cell_type": "code",
   "execution_count": 2,
   "id": "f9a1ba77",
   "metadata": {},
   "outputs": [],
   "source": [
    "temp = []\n",
    "base_path1 = 'C:\\\\Users\\\\KIIT\\\\Documents\\\\Minor Project\\\\DataSet_1sec\\\\'\n",
    "\n",
    "for i in range(1, 21):\n",
    "    folder_path = base_path1 + 'S' + str(i) +'_1' + '\\\\'\n",
    "    for j in range(0,10):\n",
    "        if i < 10:\n",
    "            file_name = folder_path + 's0' + str(i) + '_video' + str(j) + '_features(seven_block).csv'\n",
    "        else:\n",
    "            file_name = folder_path + 's' + str(i) + '_video' + str(j) + '_features(seven_block).csv'\n",
    "        df = pd.read_csv(file_name)\n",
    "        data = df.to_numpy()\n",
    "        temp.append(len(data))"
   ]
  },
  {
   "cell_type": "code",
   "execution_count": 3,
   "id": "3abb89a1",
   "metadata": {},
   "outputs": [
    {
     "data": {
      "text/plain": [
       "14554"
      ]
     },
     "execution_count": 3,
     "metadata": {},
     "output_type": "execute_result"
    }
   ],
   "source": [
    "min(temp)"
   ]
  },
  {
   "cell_type": "code",
   "execution_count": 4,
   "id": "985d2933",
   "metadata": {},
   "outputs": [],
   "source": [
    "data = pd.read_excel(\"C:\\\\Users\\\\KIIT\\\\Documents\\\\Minor Project\\\\ML DATA ASSESSMENT_Rh_Ra.xlsx\")"
   ]
  },
  {
   "cell_type": "code",
   "execution_count": 5,
   "id": "bdedf3a4",
   "metadata": {},
   "outputs": [
    {
     "data": {
      "text/html": [
       "<div>\n",
       "<style scoped>\n",
       "    .dataframe tbody tr th:only-of-type {\n",
       "        vertical-align: middle;\n",
       "    }\n",
       "\n",
       "    .dataframe tbody tr th {\n",
       "        vertical-align: top;\n",
       "    }\n",
       "\n",
       "    .dataframe thead th {\n",
       "        text-align: right;\n",
       "    }\n",
       "</style>\n",
       "<table border=\"1\" class=\"dataframe\">\n",
       "  <thead>\n",
       "    <tr style=\"text-align: right;\">\n",
       "      <th></th>\n",
       "      <th>Roll number</th>\n",
       "      <th>Video Number</th>\n",
       "      <th>Pre_Quiz Score</th>\n",
       "      <th>Post_Quiz Score</th>\n",
       "      <th>Post - Pre</th>\n",
       "      <th>Class_label</th>\n",
       "      <th>label</th>\n",
       "      <th>Unnamed: 7</th>\n",
       "      <th>Unnamed: 8</th>\n",
       "    </tr>\n",
       "  </thead>\n",
       "  <tbody>\n",
       "    <tr>\n",
       "      <th>0</th>\n",
       "      <td>118CS0220</td>\n",
       "      <td>Lecture_1</td>\n",
       "      <td>7.5</td>\n",
       "      <td>8.5</td>\n",
       "      <td>NaN</td>\n",
       "      <td>1.0</td>\n",
       "      <td>0</td>\n",
       "      <td>NaN</td>\n",
       "      <td>NaN</td>\n",
       "    </tr>\n",
       "    <tr>\n",
       "      <th>1</th>\n",
       "      <td>NaN</td>\n",
       "      <td>Lecture_2</td>\n",
       "      <td>5.0</td>\n",
       "      <td>7.5</td>\n",
       "      <td>NaN</td>\n",
       "      <td>2.5</td>\n",
       "      <td>0</td>\n",
       "      <td>0.0</td>\n",
       "      <td>111.0</td>\n",
       "    </tr>\n",
       "    <tr>\n",
       "      <th>2</th>\n",
       "      <td>NaN</td>\n",
       "      <td>Lecture_3</td>\n",
       "      <td>7.5</td>\n",
       "      <td>7.5</td>\n",
       "      <td>NaN</td>\n",
       "      <td>0.0</td>\n",
       "      <td>0</td>\n",
       "      <td>1.0</td>\n",
       "      <td>49.0</td>\n",
       "    </tr>\n",
       "    <tr>\n",
       "      <th>3</th>\n",
       "      <td>NaN</td>\n",
       "      <td>Lecture_4</td>\n",
       "      <td>6.6</td>\n",
       "      <td>10.0</td>\n",
       "      <td>NaN</td>\n",
       "      <td>3.4</td>\n",
       "      <td>1</td>\n",
       "      <td>2.0</td>\n",
       "      <td>40.0</td>\n",
       "    </tr>\n",
       "    <tr>\n",
       "      <th>4</th>\n",
       "      <td>NaN</td>\n",
       "      <td>Lecture_5</td>\n",
       "      <td>8.5</td>\n",
       "      <td>10.0</td>\n",
       "      <td>NaN</td>\n",
       "      <td>1.5</td>\n",
       "      <td>0</td>\n",
       "      <td>NaN</td>\n",
       "      <td>NaN</td>\n",
       "    </tr>\n",
       "  </tbody>\n",
       "</table>\n",
       "</div>"
      ],
      "text/plain": [
       "  Roll number Video Number  Pre_Quiz Score  Post_Quiz Score  Post - Pre   \\\n",
       "0   118CS0220    Lecture_1             7.5              8.5          NaN   \n",
       "1         NaN    Lecture_2             5.0              7.5          NaN   \n",
       "2         NaN    Lecture_3             7.5              7.5          NaN   \n",
       "3         NaN    Lecture_4             6.6             10.0          NaN   \n",
       "4         NaN    Lecture_5             8.5             10.0          NaN   \n",
       "\n",
       "   Class_label  label  Unnamed: 7  Unnamed: 8  \n",
       "0          1.0      0         NaN         NaN  \n",
       "1          2.5      0         0.0       111.0  \n",
       "2          0.0      0         1.0        49.0  \n",
       "3          3.4      1         2.0        40.0  \n",
       "4          1.5      0         NaN         NaN  "
      ]
     },
     "execution_count": 5,
     "metadata": {},
     "output_type": "execute_result"
    }
   ],
   "source": [
    "data.head()"
   ]
  },
  {
   "cell_type": "code",
   "execution_count": 6,
   "id": "63ecc396",
   "metadata": {},
   "outputs": [],
   "source": [
    "final_labels = [0]*len(data[\"label\"])\n",
    "i = 0\n",
    "for i in range(len(data[\"label\"])):\n",
    "    if(data[\"label\"][i] == 2):\n",
    "        final_labels[i] = 1\n",
    "    else:\n",
    "        final_labels[i] = data[\"label\"][i]\n",
    "data[\"final_labels\"] = final_labels"
   ]
  },
  {
   "cell_type": "code",
   "execution_count": 7,
   "id": "fc7d7692",
   "metadata": {},
   "outputs": [
    {
     "data": {
      "text/html": [
       "<div>\n",
       "<style scoped>\n",
       "    .dataframe tbody tr th:only-of-type {\n",
       "        vertical-align: middle;\n",
       "    }\n",
       "\n",
       "    .dataframe tbody tr th {\n",
       "        vertical-align: top;\n",
       "    }\n",
       "\n",
       "    .dataframe thead th {\n",
       "        text-align: right;\n",
       "    }\n",
       "</style>\n",
       "<table border=\"1\" class=\"dataframe\">\n",
       "  <thead>\n",
       "    <tr style=\"text-align: right;\">\n",
       "      <th></th>\n",
       "      <th>Roll number</th>\n",
       "      <th>Video Number</th>\n",
       "      <th>Pre_Quiz Score</th>\n",
       "      <th>Post_Quiz Score</th>\n",
       "      <th>Post - Pre</th>\n",
       "      <th>Class_label</th>\n",
       "      <th>label</th>\n",
       "      <th>Unnamed: 7</th>\n",
       "      <th>Unnamed: 8</th>\n",
       "      <th>final_labels</th>\n",
       "    </tr>\n",
       "  </thead>\n",
       "  <tbody>\n",
       "    <tr>\n",
       "      <th>0</th>\n",
       "      <td>118CS0220</td>\n",
       "      <td>Lecture_1</td>\n",
       "      <td>7.5</td>\n",
       "      <td>8.5</td>\n",
       "      <td>NaN</td>\n",
       "      <td>1.0</td>\n",
       "      <td>0</td>\n",
       "      <td>NaN</td>\n",
       "      <td>NaN</td>\n",
       "      <td>0</td>\n",
       "    </tr>\n",
       "    <tr>\n",
       "      <th>1</th>\n",
       "      <td>NaN</td>\n",
       "      <td>Lecture_2</td>\n",
       "      <td>5.0</td>\n",
       "      <td>7.5</td>\n",
       "      <td>NaN</td>\n",
       "      <td>2.5</td>\n",
       "      <td>0</td>\n",
       "      <td>0.0</td>\n",
       "      <td>111.0</td>\n",
       "      <td>0</td>\n",
       "    </tr>\n",
       "    <tr>\n",
       "      <th>2</th>\n",
       "      <td>NaN</td>\n",
       "      <td>Lecture_3</td>\n",
       "      <td>7.5</td>\n",
       "      <td>7.5</td>\n",
       "      <td>NaN</td>\n",
       "      <td>0.0</td>\n",
       "      <td>0</td>\n",
       "      <td>1.0</td>\n",
       "      <td>49.0</td>\n",
       "      <td>0</td>\n",
       "    </tr>\n",
       "    <tr>\n",
       "      <th>3</th>\n",
       "      <td>NaN</td>\n",
       "      <td>Lecture_4</td>\n",
       "      <td>6.6</td>\n",
       "      <td>10.0</td>\n",
       "      <td>NaN</td>\n",
       "      <td>3.4</td>\n",
       "      <td>1</td>\n",
       "      <td>2.0</td>\n",
       "      <td>40.0</td>\n",
       "      <td>1</td>\n",
       "    </tr>\n",
       "    <tr>\n",
       "      <th>4</th>\n",
       "      <td>NaN</td>\n",
       "      <td>Lecture_5</td>\n",
       "      <td>8.5</td>\n",
       "      <td>10.0</td>\n",
       "      <td>NaN</td>\n",
       "      <td>1.5</td>\n",
       "      <td>0</td>\n",
       "      <td>NaN</td>\n",
       "      <td>NaN</td>\n",
       "      <td>0</td>\n",
       "    </tr>\n",
       "  </tbody>\n",
       "</table>\n",
       "</div>"
      ],
      "text/plain": [
       "  Roll number Video Number  Pre_Quiz Score  Post_Quiz Score  Post - Pre   \\\n",
       "0   118CS0220    Lecture_1             7.5              8.5          NaN   \n",
       "1         NaN    Lecture_2             5.0              7.5          NaN   \n",
       "2         NaN    Lecture_3             7.5              7.5          NaN   \n",
       "3         NaN    Lecture_4             6.6             10.0          NaN   \n",
       "4         NaN    Lecture_5             8.5             10.0          NaN   \n",
       "\n",
       "   Class_label  label  Unnamed: 7  Unnamed: 8  final_labels  \n",
       "0          1.0      0         NaN         NaN             0  \n",
       "1          2.5      0         0.0       111.0             0  \n",
       "2          0.0      0         1.0        49.0             0  \n",
       "3          3.4      1         2.0        40.0             1  \n",
       "4          1.5      0         NaN         NaN             0  "
      ]
     },
     "execution_count": 7,
     "metadata": {},
     "output_type": "execute_result"
    }
   ],
   "source": [
    "data.head()"
   ]
  },
  {
   "cell_type": "markdown",
   "id": "62333c9b",
   "metadata": {},
   "source": [
    "# Test-Train Splitting"
   ]
  },
  {
   "cell_type": "code",
   "execution_count": 8,
   "id": "c7112534",
   "metadata": {},
   "outputs": [],
   "source": [
    "y=data.final_labels"
   ]
  },
  {
   "cell_type": "code",
   "execution_count": 9,
   "id": "37afe99a",
   "metadata": {},
   "outputs": [
    {
     "data": {
      "text/plain": [
       "(200,)"
      ]
     },
     "execution_count": 9,
     "metadata": {},
     "output_type": "execute_result"
    }
   ],
   "source": [
    "y.shape"
   ]
  },
  {
   "cell_type": "code",
   "execution_count": 10,
   "id": "0b9cde2d",
   "metadata": {},
   "outputs": [
    {
     "name": "stdout",
     "output_type": "stream",
     "text": [
      "[[1394.59850853  288.73690446 1228.43396241 ... 3626.44192012\n",
      "   942.2934787  3592.32028082]\n",
      " [1221.7647073  2969.24316956 1868.68108569 ...  591.84879826\n",
      "  2141.11933343 2468.05368661]\n",
      " [ 343.43121582 1765.47925505 1151.10468681 ...  418.04305998\n",
      "   524.83902294   28.63564213]\n",
      " ...\n",
      " [2047.02955523 2894.89516218 2048.03173804 ...  515.8614155\n",
      "  3586.44559418 3474.92057463]\n",
      " [2896.30937574  479.29218646 5256.67461424 ...  349.51680932\n",
      "   268.57028875  207.1714266 ]\n",
      " [1534.58398271 2307.8344828  4495.14638249 ... 1553.57458785\n",
      "  2349.25392412 1697.987338  ]]\n"
     ]
    }
   ],
   "source": [
    "base_path1 = 'C:\\\\Users\\\\KIIT\\\\Documents\\\\Minor Project\\\\DataSet_1sec\\\\'\n",
    "l = 14554\n",
    "xm = []\n",
    "for i in range(1,21):\n",
    "        folder_path = base_path1 + 'S' + str(i) +'_1' + '\\\\'\n",
    "        for j in range(0,10):\n",
    "            if i < 10:\n",
    "                file_name = folder_path + 's0' + str(i) + '_video' + str(j) + '_features(seven_block).csv'\n",
    "            else:\n",
    "                file_name = folder_path + 's' + str(i) + '_video' + str(j) + '_features(seven_block).csv'\n",
    "            df = pd.read_csv(file_name, header=None)\n",
    "            t = df.to_numpy()\n",
    "            t = t.reshape(len(t))\n",
    "            t = t[0:l]\n",
    "            xm.append(t)\n",
    "x = np.array(xm)\n",
    "print(x)"
   ]
  },
  {
   "cell_type": "code",
   "execution_count": 11,
   "id": "5e93cf0b",
   "metadata": {},
   "outputs": [
    {
     "data": {
      "text/plain": [
       "(200, 14554)"
      ]
     },
     "execution_count": 11,
     "metadata": {},
     "output_type": "execute_result"
    }
   ],
   "source": [
    "x.shape"
   ]
  },
  {
   "cell_type": "code",
   "execution_count": 12,
   "id": "f206a1d7",
   "metadata": {},
   "outputs": [],
   "source": [
    "x_train,x_test,y_train,y_test=train_test_split(x,y,test_size=0.2)"
   ]
  },
  {
   "cell_type": "code",
   "execution_count": 13,
   "id": "ea8fcf89",
   "metadata": {},
   "outputs": [
    {
     "data": {
      "text/plain": [
       "(160, 14554)"
      ]
     },
     "execution_count": 13,
     "metadata": {},
     "output_type": "execute_result"
    }
   ],
   "source": [
    "x_train.shape"
   ]
  },
  {
   "cell_type": "code",
   "execution_count": 14,
   "id": "8a196987",
   "metadata": {
    "scrolled": true
   },
   "outputs": [
    {
     "data": {
      "text/plain": [
       "(40, 14554)"
      ]
     },
     "execution_count": 14,
     "metadata": {},
     "output_type": "execute_result"
    }
   ],
   "source": [
    "x_test.shape"
   ]
  },
  {
   "cell_type": "code",
   "execution_count": 15,
   "id": "7dfeb97e",
   "metadata": {},
   "outputs": [
    {
     "data": {
      "text/plain": [
       "(160,)"
      ]
     },
     "execution_count": 15,
     "metadata": {},
     "output_type": "execute_result"
    }
   ],
   "source": [
    "y_train.shape"
   ]
  },
  {
   "cell_type": "code",
   "execution_count": 16,
   "id": "0ac9d664",
   "metadata": {},
   "outputs": [
    {
     "data": {
      "text/plain": [
       "(40,)"
      ]
     },
     "execution_count": 16,
     "metadata": {},
     "output_type": "execute_result"
    }
   ],
   "source": [
    "y_test.shape"
   ]
  },
  {
   "cell_type": "markdown",
   "id": "ef5d061e",
   "metadata": {},
   "source": [
    "# Model Fitting"
   ]
  },
  {
   "cell_type": "code",
   "execution_count": 17,
   "id": "54eff2d8",
   "metadata": {},
   "outputs": [
    {
     "data": {
      "text/plain": [
       "KNeighborsClassifier(n_neighbors=7)"
      ]
     },
     "execution_count": 17,
     "metadata": {},
     "output_type": "execute_result"
    }
   ],
   "source": [
    "# KNN\n",
    "from sklearn.neighbors import KNeighborsClassifier\n",
    "knn = KNeighborsClassifier(n_neighbors=7)\n",
    "knn.fit(x_train, y_train)"
   ]
  },
  {
   "cell_type": "code",
   "execution_count": 18,
   "id": "27b383e0",
   "metadata": {},
   "outputs": [
    {
     "name": "stdout",
     "output_type": "stream",
     "text": [
      "0.6\n"
     ]
    },
    {
     "name": "stderr",
     "output_type": "stream",
     "text": [
      "C:\\Users\\KIIT\\anaconda3\\lib\\site-packages\\sklearn\\neighbors\\_classification.py:228: FutureWarning: Unlike other reduction functions (e.g. `skew`, `kurtosis`), the default behavior of `mode` typically preserves the axis it acts along. In SciPy 1.11.0, this behavior will change: the default value of `keepdims` will become False, the `axis` over which the statistic is taken will be eliminated, and the value None will no longer be accepted. Set `keepdims` to True or False to avoid this warning.\n",
      "  mode, _ = stats.mode(_y[neigh_ind, k], axis=1)\n"
     ]
    }
   ],
   "source": [
    "from sklearn.metrics import accuracy_score\n",
    "print(accuracy_score(y_test, knn.predict(x_test)))"
   ]
  },
  {
   "cell_type": "code",
   "execution_count": 19,
   "id": "23b14828",
   "metadata": {},
   "outputs": [
    {
     "name": "stdout",
     "output_type": "stream",
     "text": [
      "[0 0 0 0 1 0 0 1 0 0 0 0 1 0 0 0 0 1 0 0 0 0 0 0 1 0 0 0 0 1 0 1 0 0 0 0 0\n",
      " 0 1 1]\n"
     ]
    },
    {
     "name": "stderr",
     "output_type": "stream",
     "text": [
      "C:\\Users\\KIIT\\anaconda3\\lib\\site-packages\\sklearn\\neighbors\\_classification.py:228: FutureWarning: Unlike other reduction functions (e.g. `skew`, `kurtosis`), the default behavior of `mode` typically preserves the axis it acts along. In SciPy 1.11.0, this behavior will change: the default value of `keepdims` will become False, the `axis` over which the statistic is taken will be eliminated, and the value None will no longer be accepted. Set `keepdims` to True or False to avoid this warning.\n",
      "  mode, _ = stats.mode(_y[neigh_ind, k], axis=1)\n"
     ]
    }
   ],
   "source": [
    "print(knn.predict(x_test))"
   ]
  },
  {
   "cell_type": "code",
   "execution_count": 20,
   "id": "f65c6402",
   "metadata": {},
   "outputs": [
    {
     "name": "stdout",
     "output_type": "stream",
     "text": [
      "0.375\n"
     ]
    }
   ],
   "source": [
    "# SVM\n",
    "from sklearn import svm\n",
    "from sklearn.metrics import accuracy_score\n",
    "clf = svm.SVC(kernel='linear')\n",
    "clf.fit(x_train, y_train)\n",
    "predictions = clf.predict(x_test)\n",
    "print(accuracy_score(y_test, predictions))"
   ]
  },
  {
   "cell_type": "code",
   "execution_count": 21,
   "id": "5bfa0a2b",
   "metadata": {},
   "outputs": [
    {
     "name": "stdout",
     "output_type": "stream",
     "text": [
      "[1 1 0 0 1 0 1 1 0 0 1 1 1 0 0 0 1 1 0 0 1 1 0 1 0 0 1 1 1 0 1 0 1 1 0 0 0\n",
      " 1 0 0]\n"
     ]
    }
   ],
   "source": [
    "print(clf.predict(x_test))"
   ]
  },
  {
   "cell_type": "code",
   "execution_count": 22,
   "id": "4d927335",
   "metadata": {},
   "outputs": [
    {
     "name": "stdout",
     "output_type": "stream",
     "text": [
      "Results Using Gini Index:\n",
      "Predicted values:\n",
      "[1 1 1 1 0 1 0 0 0 0 1 1 1 0 1 0 0 1 0 0 0 0 0 1 0 1 0 0 1 1 0 1 0 1 0 0 0\n",
      " 0 0 1]\n",
      "Confusion Matrix:  [[15 10]\n",
      " [ 8  7]]\n",
      "Accuracy :  55.00000000000001\n",
      "Report :                precision    recall  f1-score   support\n",
      "\n",
      "           0       0.65      0.60      0.63        25\n",
      "           1       0.41      0.47      0.44        15\n",
      "\n",
      "    accuracy                           0.55        40\n",
      "   macro avg       0.53      0.53      0.53        40\n",
      "weighted avg       0.56      0.55      0.55        40\n",
      "\n",
      "Results Using Entropy:\n",
      "Predicted values:\n",
      "[1 1 1 1 0 1 0 0 0 0 1 1 1 0 1 0 0 1 0 0 0 0 0 1 0 1 0 0 1 1 0 1 0 1 0 0 0\n",
      " 0 0 1]\n",
      "Confusion Matrix:  [[15 10]\n",
      " [ 8  7]]\n",
      "Accuracy :  55.00000000000001\n",
      "Report :                precision    recall  f1-score   support\n",
      "\n",
      "           0       0.65      0.60      0.63        25\n",
      "           1       0.41      0.47      0.44        15\n",
      "\n",
      "    accuracy                           0.55        40\n",
      "   macro avg       0.53      0.53      0.53        40\n",
      "weighted avg       0.56      0.55      0.55        40\n",
      "\n"
     ]
    }
   ],
   "source": [
    "#DT \n",
    "from sklearn.tree import DecisionTreeClassifier\n",
    "from sklearn.metrics import confusion_matrix\n",
    "from sklearn.metrics import classification_report\n",
    "# Function to perform training with giniIndex.\n",
    "def train_using_gini(x_train, x_test, y_train):\n",
    "  \n",
    "    # Creating the classifier object\n",
    "    clf_gini = DecisionTreeClassifier(criterion = \"gini\",\n",
    "            random_state = 100,max_depth=3, min_samples_leaf=5)\n",
    "  \n",
    "    # Performing training\n",
    "    clf_gini.fit(x_train, y_train)\n",
    "    return clf_gini\n",
    "      \n",
    "# Function to perform training with entropy.\n",
    "def tarin_using_entropy(x_train, x_test, y_train):\n",
    "  \n",
    "    # Decision tree with entropy\n",
    "    clf_entropy = DecisionTreeClassifier(\n",
    "            criterion = \"entropy\", random_state = 100,\n",
    "            max_depth = 3, min_samples_leaf = 5)\n",
    "  \n",
    "    # Performing training\n",
    "    clf_entropy.fit(x_train, y_train)\n",
    "    return clf_entropy\n",
    "  \n",
    "  \n",
    "# Function to make predictions\n",
    "def prediction(x_test, clf_object):\n",
    "  \n",
    "    # Predicton on test with giniIndex\n",
    "    y_pred = clf_object.predict(x_test)\n",
    "    print(\"Predicted values:\")\n",
    "    print(y_pred)\n",
    "    return y_pred\n",
    "      \n",
    "# Function to calculate accuracy\n",
    "def cal_accuracy(y_test, y_pred):\n",
    "      \n",
    "    print(\"Confusion Matrix: \",\n",
    "        confusion_matrix(y_test, y_pred))\n",
    "      \n",
    "    print (\"Accuracy : \",\n",
    "    accuracy_score(y_test,y_pred)*100)\n",
    "      \n",
    "    print(\"Report : \",\n",
    "    classification_report(y_test, y_pred))\n",
    "\n",
    "\n",
    "\n",
    "clf_gini = train_using_gini(x_train, x_test, y_train)\n",
    "clf_entropy = tarin_using_entropy(x_train, x_test, y_train)\n",
    "      \n",
    "# Operational Phase\n",
    "clf_gini = train_using_gini(x_train, x_test, y_train)\n",
    "clf_entropy = tarin_using_entropy(x_train, x_test, y_train)\n",
    "      \n",
    "# Operational Phase\n",
    "print(\"Results Using Gini Index:\")\n",
    "      \n",
    "# Prediction using gini\n",
    "y_pred_gini = prediction(x_test, clf_gini)\n",
    "cal_accuracy(y_test, y_pred_gini)\n",
    "      \n",
    "print(\"Results Using Entropy:\")\n",
    "\n",
    "# Prediction using entropy\n",
    "y_pred_entropy = prediction(x_test, clf_entropy)\n",
    "cal_accuracy(y_test, y_pred_entropy)\n",
    "      "
   ]
  },
  {
   "cell_type": "code",
   "execution_count": 23,
   "id": "c9bd46d4",
   "metadata": {},
   "outputs": [
    {
     "name": "stdout",
     "output_type": "stream",
     "text": [
      "The accuracy score achieved using Naive Bayes is: 32.5 %\n"
     ]
    }
   ],
   "source": [
    "#NB\n",
    "from sklearn.naive_bayes import GaussianNB \n",
    "nb = GaussianNB()\n",
    "Y_train=y_train.astype('int')\n",
    "nb.fit(x_train,Y_train)\n",
    "Y_pred_nb = nb.predict(x_test)\n",
    "\n",
    "Y_pred_nb = Y_pred_nb.astype('int64')\n",
    "Y_test = y_test.astype('int64')\n",
    "score_nb = round(accuracy_score(Y_pred_nb,Y_test)*100,2)\n",
    "print(\"The accuracy score achieved using Naive Bayes is: \"+str(score_nb)+\" %\")"
   ]
  },
  {
   "cell_type": "code",
   "execution_count": 24,
   "id": "afd435d1",
   "metadata": {},
   "outputs": [
    {
     "name": "stdout",
     "output_type": "stream",
     "text": [
      "[1 1 0 0 0 1 0 1 0 0 1 1 1 0 1 0 1 1 0 0 1 0 1 0 0 0 1 1 1 0 0 0 1 1 0 0 0\n",
      " 1 0 0]\n"
     ]
    }
   ],
   "source": [
    "print(nb.predict(x_test))"
   ]
  },
  {
   "cell_type": "code",
   "execution_count": 25,
   "id": "33c8e154",
   "metadata": {},
   "outputs": [
    {
     "name": "stdout",
     "output_type": "stream",
     "text": [
      "Accuracy on training set: 0.994\n",
      "Accuracy on test set: 0.500\n"
     ]
    }
   ],
   "source": [
    "#Random forest with 100 trees\n",
    "from sklearn.ensemble import RandomForestClassifier\n",
    "rf = RandomForestClassifier(n_estimators=100, random_state=0)\n",
    "rf.fit(x_train, y_train)\n",
    "print(\"Accuracy on training set: {:.3f}\".format(rf.score(x_train, y_train)))\n",
    "print(\"Accuracy on test set: {:.3f}\".format(rf.score(x_test, y_test)))"
   ]
  },
  {
   "cell_type": "code",
   "execution_count": 26,
   "id": "e3c53b6f",
   "metadata": {},
   "outputs": [
    {
     "name": "stdout",
     "output_type": "stream",
     "text": [
      "Accuracy on training set: 0.988\n",
      "Accuracy on test set: 0.500\n"
     ]
    }
   ],
   "source": [
    "rf1 = RandomForestClassifier(max_depth=3, n_estimators=100, random_state=0)\n",
    "rf1.fit(x_train, y_train)\n",
    "print(\"Accuracy on training set: {:.3f}\".format(rf1.score(x_train, y_train)))\n",
    "print(\"Accuracy on test set: {:.3f}\".format(rf1.score(x_test, y_test)))"
   ]
  },
  {
   "cell_type": "code",
   "execution_count": 27,
   "id": "cdafe40f",
   "metadata": {},
   "outputs": [
    {
     "name": "stdout",
     "output_type": "stream",
     "text": [
      "[1 1 0 0 1 1 1 1 0 0 0 0 1 0 1 0 0 1 0 0 0 1 1 1 1 0 1 0 0 1 1 1 1 0 1 0 0\n",
      " 0 1 1]\n"
     ]
    }
   ],
   "source": [
    "print(rf1.predict(x_test))"
   ]
  },
  {
   "cell_type": "code",
   "execution_count": 38,
   "id": "b5f5fc1c",
   "metadata": {},
   "outputs": [
    {
     "name": "stdout",
     "output_type": "stream",
     "text": [
      "80.0\n",
      "183\n"
     ]
    }
   ],
   "source": [
    "from sklearn.ensemble import RandomForestClassifier\n",
    "max_accuracy = 0\n",
    "for x in range(2000):\n",
    "    rf = RandomForestClassifier(random_state=x)\n",
    "    rf.fit(x_train,y_train)\n",
    "    Y_pred_rf = rf.predict(x_test)\n",
    "    current_accuracy = round(accuracy_score(Y_pred_rf,y_test)*100,2)\n",
    "    if(current_accuracy>max_accuracy):\n",
    "        max_accuracy = current_accuracy\n",
    "        best_x = x\n",
    "        \n",
    "print(max_accuracy)\n",
    "print(best_x)\n",
    "\n",
    "rf = RandomForestClassifier(random_state=best_x)\n",
    "rf.fit(x_train,y_train)\n",
    "Y_pred_rf = rf.predict(x_test)"
   ]
  },
  {
   "cell_type": "code",
   "execution_count": 39,
   "id": "d8ffaee3",
   "metadata": {},
   "outputs": [
    {
     "name": "stdout",
     "output_type": "stream",
     "text": [
      "The accuracy score is: 80.0 %\n"
     ]
    }
   ],
   "source": [
    "score_rf = round(accuracy_score(Y_pred_rf,Y_test)*100,2)\n",
    "print(\"The accuracy score is: \"+str(score_rf)+\" %\")"
   ]
  },
  {
   "cell_type": "code",
   "execution_count": 29,
   "id": "0743f2de",
   "metadata": {},
   "outputs": [
    {
     "name": "stdout",
     "output_type": "stream",
     "text": [
      "5\n",
      "KNN\n",
      "              precision    recall  f1-score   support\n",
      "\n",
      "           0       0.65      0.80      0.71        25\n",
      "           1       0.44      0.27      0.33        15\n",
      "\n",
      "    accuracy                           0.60        40\n",
      "   macro avg       0.54      0.53      0.52        40\n",
      "weighted avg       0.57      0.60      0.57        40\n",
      "\n",
      "accuracy 0.6\n",
      "pr 0.4444444444444444\n",
      "re 0.26666666666666666\n",
      "f1  0.33333333333333337\n",
      "SVM\n",
      "              precision    recall  f1-score   support\n",
      "\n",
      "           0       0.50      0.40      0.44        25\n",
      "           1       0.25      0.33      0.29        15\n",
      "\n",
      "    accuracy                           0.38        40\n",
      "   macro avg       0.38      0.37      0.37        40\n",
      "weighted avg       0.41      0.38      0.38        40\n",
      "\n",
      "accuracy 0.375\n",
      "pr 0.25\n",
      "re 0.3333333333333333\n",
      "f1  0.28571428571428575\n",
      "RFT\n",
      "              precision    recall  f1-score   support\n",
      "\n",
      "           0       0.65      0.44      0.52        25\n",
      "           1       0.39      0.60      0.47        15\n",
      "\n",
      "    accuracy                           0.50        40\n",
      "   macro avg       0.52      0.52      0.50        40\n",
      "weighted avg       0.55      0.50      0.51        40\n",
      "\n",
      "accuracy 0.5\n",
      "pr 0.391304347826087\n",
      "re 0.6\n",
      "f1  0.47368421052631576\n",
      "NB\n",
      "              precision    recall  f1-score   support\n",
      "\n",
      "           0       0.45      0.40      0.43        25\n",
      "           1       0.17      0.20      0.18        15\n",
      "\n",
      "    accuracy                           0.33        40\n",
      "   macro avg       0.31      0.30      0.30        40\n",
      "weighted avg       0.35      0.33      0.33        40\n",
      "\n",
      "accuracy 0.325\n",
      "pr 0.16666666666666666\n",
      "re 0.2\n",
      "f1  0.1818181818181818\n",
      "DT\n",
      "              precision    recall  f1-score   support\n",
      "\n",
      "           0       0.65      0.60      0.63        25\n",
      "           1       0.41      0.47      0.44        15\n",
      "\n",
      "    accuracy                           0.55        40\n",
      "   macro avg       0.53      0.53      0.53        40\n",
      "weighted avg       0.56      0.55      0.55        40\n",
      "\n",
      "accuracy 0.55\n",
      "pr 0.4117647058823529\n",
      "re 0.4666666666666667\n",
      "f1  0.43749999999999994\n"
     ]
    },
    {
     "name": "stderr",
     "output_type": "stream",
     "text": [
      "C:\\Users\\KIIT\\anaconda3\\lib\\site-packages\\sklearn\\neighbors\\_classification.py:228: FutureWarning: Unlike other reduction functions (e.g. `skew`, `kurtosis`), the default behavior of `mode` typically preserves the axis it acts along. In SciPy 1.11.0, this behavior will change: the default value of `keepdims` will become False, the `axis` over which the statistic is taken will be eliminated, and the value None will no longer be accepted. Set `keepdims` to True or False to avoid this warning.\n",
      "  mode, _ = stats.mode(_y[neigh_ind, k], axis=1)\n"
     ]
    }
   ],
   "source": [
    "classifiers = ['KNN','SVM','RFT','NB','DT']\n",
    "y_test_s= y_test\n",
    "y_pred_s= [knn.predict(x_test ), clf.predict(x_test) , rf.predict(x_test) , nb.predict(x_test) , y_pred_gini]\n",
    "#from sklearn.metrics import accuracy_score,precision_score,recall__score\n",
    "from sklearn.metrics import precision_score, recall_score, f1_score, accuracy_score\n",
    "from sklearn.metrics import classification_report\n",
    "print(len(classifiers))\n",
    "for cls in range(len(classifiers)):\n",
    "    print(classifiers[cls])\n",
    "    yproba = y_pred_s[cls]\n",
    "    print(classification_report(y_test_s, yproba))\n",
    "    print(\"accuracy\",accuracy_score(y_test_s, yproba))\n",
    "    print(\"pr\",precision_score(y_test_s, yproba))\n",
    "    print(\"re\",recall_score(y_test_s, yproba))\n",
    "    print(\"f1 \",f1_score(y_test_s, yproba))"
   ]
  },
  {
   "cell_type": "code",
   "execution_count": null,
   "id": "49d660b2",
   "metadata": {},
   "outputs": [],
   "source": []
  }
 ],
 "metadata": {
  "kernelspec": {
   "display_name": "Python 3 (ipykernel)",
   "language": "python",
   "name": "python3"
  },
  "language_info": {
   "codemirror_mode": {
    "name": "ipython",
    "version": 3
   },
   "file_extension": ".py",
   "mimetype": "text/x-python",
   "name": "python",
   "nbconvert_exporter": "python",
   "pygments_lexer": "ipython3",
   "version": "3.9.13"
  }
 },
 "nbformat": 4,
 "nbformat_minor": 5
}
