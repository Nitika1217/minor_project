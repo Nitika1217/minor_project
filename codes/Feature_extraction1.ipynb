{
 "cells": [
  {
   "cell_type": "code",
   "execution_count": 1,
   "id": "bbb3d662",
   "metadata": {},
   "outputs": [],
   "source": [
    "import numpy as np\n",
    "\n",
    "import matplotlib.pyplot as plt\n",
    "import matplotlib.image as mpimg\n",
    "from skimage.feature import hog\n",
    "\n",
    "import pandas as pd\n",
    "import pywt\n",
    "\n",
    "import csv\n",
    "import math\n",
    "import random"
   ]
  },
  {
   "cell_type": "code",
   "execution_count": 2,
   "id": "ea233721",
   "metadata": {},
   "outputs": [],
   "source": [
    "def hog_magnitude_orientation(m0,m1,x,m2,m3):\n",
    "    \n",
    "    if m1-m2!=0:\n",
    "        diff1=m1-m2\n",
    "    else:\n",
    "        diff1=m1\n",
    "    if m0-m3!=0:\n",
    "        diff2=m0-m3\n",
    "    else:\n",
    "        diff2=m0\n",
    "\n",
    "    grad_magnitude = np.sqrt(diff1**2 + diff2**2)\n",
    "    grad_orientation = math.degrees(math.atan(abs(diff2/diff1)))\n",
    "    \n",
    "    return grad_magnitude , grad_orientation"
   ]
  },
  {
   "cell_type": "markdown",
   "id": "7f8725fa",
   "metadata": {},
   "source": [
    "# Five Blocks"
   ]
  },
  {
   "cell_type": "code",
   "execution_count": 19,
   "id": "de7a1a36",
   "metadata": {},
   "outputs": [],
   "source": [
    "def get_feature_matrix(data):\n",
    "    hog_list_mag = np.array([])\n",
    "    hog_list_ori = np.array([])\n",
    "\n",
    "    for i in range(2, len(data), 5):\n",
    "        if i+2 < len(data):\n",
    "            grad_mag , grad_ori = (hog_magnitude_orientation(data[i-2], data[i-1], data[i], data[i+1], data[i+2]))\n",
    "            #bin1 = int(grad_ori)\n",
    "            #bin2 = int(grad_ori) + 1\n",
    "            hog_list_mag =  np.append(hog_list_mag,[grad_mag])\n",
    "            #hog_list_ori += int(grad_ori)\n",
    "            #hog_list += (grad_ori-bin1) * grad_mag\n",
    "  \n",
    "    return hog_list_mag"
   ]
  },
  {
   "cell_type": "markdown",
   "id": "b1566551",
   "metadata": {},
   "source": [
    "One Second Data"
   ]
  },
  {
   "cell_type": "code",
   "execution_count": 5,
   "id": "a6e3cbc0",
   "metadata": {},
   "outputs": [],
   "source": [
    "base_path1 = 'C:\\\\Users\\\\KIIT\\\\Documents\\\\Minor Project\\\\DataSet_1sec\\\\'"
   ]
  },
  {
   "cell_type": "code",
   "execution_count": 6,
   "id": "42637263",
   "metadata": {},
   "outputs": [
    {
     "name": "stdout",
     "output_type": "stream",
     "text": [
      "27033\n",
      "21196\n",
      "44544\n",
      "49561\n",
      "32051\n",
      "36966\n",
      "32563\n"
     ]
    },
    {
     "name": "stderr",
     "output_type": "stream",
     "text": [
      "C:\\Users\\KIIT\\AppData\\Local\\Temp\\ipykernel_7660\\2248056373.py:13: RuntimeWarning: divide by zero encountered in double_scalars\n",
      "  grad_orientation = math.degrees(math.atan(abs(diff2/diff1)))\n"
     ]
    },
    {
     "name": "stdout",
     "output_type": "stream",
     "text": [
      "37376\n",
      "32870\n",
      "26214\n"
     ]
    },
    {
     "name": "stderr",
     "output_type": "stream",
     "text": [
      "C:\\Users\\KIIT\\AppData\\Local\\Temp\\ipykernel_7660\\2248056373.py:13: RuntimeWarning: divide by zero encountered in double_scalars\n",
      "  grad_orientation = math.degrees(math.atan(abs(diff2/diff1)))\n"
     ]
    },
    {
     "name": "stdout",
     "output_type": "stream",
     "text": [
      "29798\n"
     ]
    },
    {
     "name": "stderr",
     "output_type": "stream",
     "text": [
      "C:\\Users\\KIIT\\AppData\\Local\\Temp\\ipykernel_7660\\2248056373.py:13: RuntimeWarning: divide by zero encountered in double_scalars\n",
      "  grad_orientation = math.degrees(math.atan(abs(diff2/diff1)))\n"
     ]
    },
    {
     "name": "stdout",
     "output_type": "stream",
     "text": [
      "22630\n"
     ]
    },
    {
     "name": "stderr",
     "output_type": "stream",
     "text": [
      "C:\\Users\\KIIT\\AppData\\Local\\Temp\\ipykernel_7660\\2248056373.py:13: RuntimeWarning: divide by zero encountered in double_scalars\n",
      "  grad_orientation = math.degrees(math.atan(abs(diff2/diff1)))\n"
     ]
    },
    {
     "name": "stdout",
     "output_type": "stream",
     "text": [
      "43622\n"
     ]
    },
    {
     "name": "stderr",
     "output_type": "stream",
     "text": [
      "C:\\Users\\KIIT\\AppData\\Local\\Temp\\ipykernel_7660\\2248056373.py:13: RuntimeWarning: divide by zero encountered in double_scalars\n",
      "  grad_orientation = math.degrees(math.atan(abs(diff2/diff1)))\n"
     ]
    },
    {
     "name": "stdout",
     "output_type": "stream",
     "text": [
      "50790\n"
     ]
    },
    {
     "name": "stderr",
     "output_type": "stream",
     "text": [
      "C:\\Users\\KIIT\\AppData\\Local\\Temp\\ipykernel_7660\\2248056373.py:13: RuntimeWarning: divide by zero encountered in double_scalars\n",
      "  grad_orientation = math.degrees(math.atan(abs(diff2/diff1)))\n"
     ]
    },
    {
     "name": "stdout",
     "output_type": "stream",
     "text": [
      "32256\n",
      "36659\n",
      "32563\n",
      "37990\n",
      "33382\n",
      "26624\n"
     ]
    },
    {
     "name": "stderr",
     "output_type": "stream",
     "text": [
      "C:\\Users\\KIIT\\AppData\\Local\\Temp\\ipykernel_7660\\2248056373.py:13: RuntimeWarning: divide by zero encountered in double_scalars\n",
      "  grad_orientation = math.degrees(math.atan(abs(diff2/diff1)))\n"
     ]
    },
    {
     "name": "stdout",
     "output_type": "stream",
     "text": [
      "28569\n"
     ]
    },
    {
     "name": "stderr",
     "output_type": "stream",
     "text": [
      "C:\\Users\\KIIT\\AppData\\Local\\Temp\\ipykernel_7660\\2248056373.py:13: RuntimeWarning: divide by zero encountered in double_scalars\n",
      "  grad_orientation = math.degrees(math.atan(abs(diff2/diff1)))\n"
     ]
    },
    {
     "name": "stdout",
     "output_type": "stream",
     "text": [
      "21504\n"
     ]
    },
    {
     "name": "stderr",
     "output_type": "stream",
     "text": [
      "C:\\Users\\KIIT\\AppData\\Local\\Temp\\ipykernel_7660\\2248056373.py:13: RuntimeWarning: divide by zero encountered in double_scalars\n",
      "  grad_orientation = math.degrees(math.atan(abs(diff2/diff1)))\n"
     ]
    },
    {
     "name": "stdout",
     "output_type": "stream",
     "text": [
      "44851\n"
     ]
    },
    {
     "name": "stderr",
     "output_type": "stream",
     "text": [
      "C:\\Users\\KIIT\\AppData\\Local\\Temp\\ipykernel_7660\\2248056373.py:13: RuntimeWarning: divide by zero encountered in double_scalars\n",
      "  grad_orientation = math.degrees(math.atan(abs(diff2/diff1)))\n"
     ]
    },
    {
     "name": "stdout",
     "output_type": "stream",
     "text": [
      "49664\n"
     ]
    },
    {
     "name": "stderr",
     "output_type": "stream",
     "text": [
      "C:\\Users\\KIIT\\AppData\\Local\\Temp\\ipykernel_7660\\2248056373.py:13: RuntimeWarning: divide by zero encountered in double_scalars\n",
      "  grad_orientation = math.degrees(math.atan(abs(diff2/diff1)))\n"
     ]
    },
    {
     "name": "stdout",
     "output_type": "stream",
     "text": [
      "32153\n"
     ]
    },
    {
     "name": "stderr",
     "output_type": "stream",
     "text": [
      "C:\\Users\\KIIT\\AppData\\Local\\Temp\\ipykernel_7660\\2248056373.py:13: RuntimeWarning: divide by zero encountered in double_scalars\n",
      "  grad_orientation = math.degrees(math.atan(abs(diff2/diff1)))\n"
     ]
    },
    {
     "name": "stdout",
     "output_type": "stream",
     "text": [
      "37376\n"
     ]
    },
    {
     "name": "stderr",
     "output_type": "stream",
     "text": [
      "C:\\Users\\KIIT\\AppData\\Local\\Temp\\ipykernel_7660\\2248056373.py:13: RuntimeWarning: divide by zero encountered in double_scalars\n",
      "  grad_orientation = math.degrees(math.atan(abs(diff2/diff1)))\n"
     ]
    },
    {
     "name": "stdout",
     "output_type": "stream",
     "text": [
      "32051\n"
     ]
    },
    {
     "name": "stderr",
     "output_type": "stream",
     "text": [
      "C:\\Users\\KIIT\\AppData\\Local\\Temp\\ipykernel_7660\\2248056373.py:13: RuntimeWarning: divide by zero encountered in double_scalars\n",
      "  grad_orientation = math.degrees(math.atan(abs(diff2/diff1)))\n"
     ]
    },
    {
     "name": "stdout",
     "output_type": "stream",
     "text": [
      "36147\n"
     ]
    },
    {
     "name": "stderr",
     "output_type": "stream",
     "text": [
      "C:\\Users\\KIIT\\AppData\\Local\\Temp\\ipykernel_7660\\2248056373.py:13: RuntimeWarning: divide by zero encountered in double_scalars\n",
      "  grad_orientation = math.degrees(math.atan(abs(diff2/diff1)))\n"
     ]
    },
    {
     "name": "stdout",
     "output_type": "stream",
     "text": [
      "31334\n",
      "25702\n"
     ]
    },
    {
     "name": "stderr",
     "output_type": "stream",
     "text": [
      "C:\\Users\\KIIT\\AppData\\Local\\Temp\\ipykernel_7660\\2248056373.py:13: RuntimeWarning: divide by zero encountered in double_scalars\n",
      "  grad_orientation = math.degrees(math.atan(abs(diff2/diff1)))\n"
     ]
    },
    {
     "name": "stdout",
     "output_type": "stream",
     "text": [
      "27443\n"
     ]
    },
    {
     "name": "stderr",
     "output_type": "stream",
     "text": [
      "C:\\Users\\KIIT\\AppData\\Local\\Temp\\ipykernel_7660\\2248056373.py:13: RuntimeWarning: divide by zero encountered in double_scalars\n",
      "  grad_orientation = math.degrees(math.atan(abs(diff2/diff1)))\n"
     ]
    },
    {
     "name": "stdout",
     "output_type": "stream",
     "text": [
      "20992\n"
     ]
    },
    {
     "name": "stderr",
     "output_type": "stream",
     "text": [
      "C:\\Users\\KIIT\\AppData\\Local\\Temp\\ipykernel_7660\\2248056373.py:13: RuntimeWarning: divide by zero encountered in double_scalars\n",
      "  grad_orientation = math.degrees(math.atan(abs(diff2/diff1)))\n"
     ]
    },
    {
     "name": "stdout",
     "output_type": "stream",
     "text": [
      "46796\n",
      "50585\n",
      "33689\n"
     ]
    },
    {
     "name": "stderr",
     "output_type": "stream",
     "text": [
      "C:\\Users\\KIIT\\AppData\\Local\\Temp\\ipykernel_7660\\2248056373.py:13: RuntimeWarning: divide by zero encountered in double_scalars\n",
      "  grad_orientation = math.degrees(math.atan(abs(diff2/diff1)))\n"
     ]
    },
    {
     "name": "stdout",
     "output_type": "stream",
     "text": [
      "37785\n"
     ]
    },
    {
     "name": "stderr",
     "output_type": "stream",
     "text": [
      "C:\\Users\\KIIT\\AppData\\Local\\Temp\\ipykernel_7660\\2248056373.py:13: RuntimeWarning: divide by zero encountered in double_scalars\n",
      "  grad_orientation = math.degrees(math.atan(abs(diff2/diff1)))\n"
     ]
    },
    {
     "name": "stdout",
     "output_type": "stream",
     "text": [
      "31539\n"
     ]
    },
    {
     "name": "stderr",
     "output_type": "stream",
     "text": [
      "C:\\Users\\KIIT\\AppData\\Local\\Temp\\ipykernel_7660\\2248056373.py:13: RuntimeWarning: divide by zero encountered in double_scalars\n",
      "  grad_orientation = math.degrees(math.atan(abs(diff2/diff1)))\n"
     ]
    },
    {
     "name": "stdout",
     "output_type": "stream",
     "text": [
      "37273\n",
      "32051\n",
      "26521\n"
     ]
    },
    {
     "name": "stderr",
     "output_type": "stream",
     "text": [
      "C:\\Users\\KIIT\\AppData\\Local\\Temp\\ipykernel_7660\\2248056373.py:13: RuntimeWarning: divide by zero encountered in double_scalars\n",
      "  grad_orientation = math.degrees(math.atan(abs(diff2/diff1)))\n"
     ]
    },
    {
     "name": "stdout",
     "output_type": "stream",
     "text": [
      "29388\n"
     ]
    },
    {
     "name": "stderr",
     "output_type": "stream",
     "text": [
      "C:\\Users\\KIIT\\AppData\\Local\\Temp\\ipykernel_7660\\2248056373.py:13: RuntimeWarning: divide by zero encountered in double_scalars\n",
      "  grad_orientation = math.degrees(math.atan(abs(diff2/diff1)))\n"
     ]
    },
    {
     "name": "stdout",
     "output_type": "stream",
     "text": [
      "20992\n"
     ]
    },
    {
     "name": "stderr",
     "output_type": "stream",
     "text": [
      "C:\\Users\\KIIT\\AppData\\Local\\Temp\\ipykernel_7660\\2248056373.py:13: RuntimeWarning: divide by zero encountered in double_scalars\n",
      "  grad_orientation = math.degrees(math.atan(abs(diff2/diff1)))\n"
     ]
    },
    {
     "name": "stdout",
     "output_type": "stream",
     "text": [
      "45363\n"
     ]
    },
    {
     "name": "stderr",
     "output_type": "stream",
     "text": [
      "C:\\Users\\KIIT\\AppData\\Local\\Temp\\ipykernel_7660\\2248056373.py:13: RuntimeWarning: divide by zero encountered in double_scalars\n",
      "  grad_orientation = math.degrees(math.atan(abs(diff2/diff1)))\n"
     ]
    },
    {
     "name": "stdout",
     "output_type": "stream",
     "text": [
      "49971\n"
     ]
    },
    {
     "name": "stderr",
     "output_type": "stream",
     "text": [
      "C:\\Users\\KIIT\\AppData\\Local\\Temp\\ipykernel_7660\\2248056373.py:13: RuntimeWarning: divide by zero encountered in double_scalars\n",
      "  grad_orientation = math.degrees(math.atan(abs(diff2/diff1)))\n"
     ]
    },
    {
     "name": "stdout",
     "output_type": "stream",
     "text": [
      "31436\n"
     ]
    },
    {
     "name": "stderr",
     "output_type": "stream",
     "text": [
      "C:\\Users\\KIIT\\AppData\\Local\\Temp\\ipykernel_7660\\2248056373.py:13: RuntimeWarning: divide by zero encountered in double_scalars\n",
      "  grad_orientation = math.degrees(math.atan(abs(diff2/diff1)))\n"
     ]
    },
    {
     "name": "stdout",
     "output_type": "stream",
     "text": [
      "39731\n"
     ]
    },
    {
     "name": "stderr",
     "output_type": "stream",
     "text": [
      "C:\\Users\\KIIT\\AppData\\Local\\Temp\\ipykernel_7660\\2248056373.py:13: RuntimeWarning: divide by zero encountered in double_scalars\n",
      "  grad_orientation = math.degrees(math.atan(abs(diff2/diff1)))\n"
     ]
    },
    {
     "name": "stdout",
     "output_type": "stream",
     "text": [
      "32563\n"
     ]
    },
    {
     "name": "stderr",
     "output_type": "stream",
     "text": [
      "C:\\Users\\KIIT\\AppData\\Local\\Temp\\ipykernel_7660\\2248056373.py:13: RuntimeWarning: divide by zero encountered in double_scalars\n",
      "  grad_orientation = math.degrees(math.atan(abs(diff2/diff1)))\n"
     ]
    },
    {
     "name": "stdout",
     "output_type": "stream",
     "text": [
      "37478\n",
      "32768\n"
     ]
    },
    {
     "name": "stderr",
     "output_type": "stream",
     "text": [
      "C:\\Users\\KIIT\\AppData\\Local\\Temp\\ipykernel_7660\\2248056373.py:13: RuntimeWarning: divide by zero encountered in double_scalars\n",
      "  grad_orientation = math.degrees(math.atan(abs(diff2/diff1)))\n"
     ]
    },
    {
     "name": "stdout",
     "output_type": "stream",
     "text": [
      "25804\n"
     ]
    },
    {
     "name": "stderr",
     "output_type": "stream",
     "text": [
      "C:\\Users\\KIIT\\AppData\\Local\\Temp\\ipykernel_7660\\2248056373.py:13: RuntimeWarning: divide by zero encountered in double_scalars\n",
      "  grad_orientation = math.degrees(math.atan(abs(diff2/diff1)))\n"
     ]
    },
    {
     "name": "stdout",
     "output_type": "stream",
     "text": [
      "28364\n",
      "21708\n"
     ]
    },
    {
     "name": "stderr",
     "output_type": "stream",
     "text": [
      "C:\\Users\\KIIT\\AppData\\Local\\Temp\\ipykernel_7660\\2248056373.py:13: RuntimeWarning: divide by zero encountered in double_scalars\n",
      "  grad_orientation = math.degrees(math.atan(abs(diff2/diff1)))\n"
     ]
    },
    {
     "name": "stdout",
     "output_type": "stream",
     "text": [
      "45260\n"
     ]
    },
    {
     "name": "stderr",
     "output_type": "stream",
     "text": [
      "C:\\Users\\KIIT\\AppData\\Local\\Temp\\ipykernel_7660\\2248056373.py:13: RuntimeWarning: divide by zero encountered in double_scalars\n",
      "  grad_orientation = math.degrees(math.atan(abs(diff2/diff1)))\n"
     ]
    },
    {
     "name": "stdout",
     "output_type": "stream",
     "text": [
      "48435\n"
     ]
    },
    {
     "name": "stderr",
     "output_type": "stream",
     "text": [
      "C:\\Users\\KIIT\\AppData\\Local\\Temp\\ipykernel_7660\\2248056373.py:13: RuntimeWarning: divide by zero encountered in double_scalars\n",
      "  grad_orientation = math.degrees(math.atan(abs(diff2/diff1)))\n"
     ]
    },
    {
     "name": "stdout",
     "output_type": "stream",
     "text": [
      "31129\n"
     ]
    },
    {
     "name": "stderr",
     "output_type": "stream",
     "text": [
      "C:\\Users\\KIIT\\AppData\\Local\\Temp\\ipykernel_7660\\2248056373.py:13: RuntimeWarning: divide by zero encountered in double_scalars\n",
      "  grad_orientation = math.degrees(math.atan(abs(diff2/diff1)))\n"
     ]
    },
    {
     "name": "stdout",
     "output_type": "stream",
     "text": [
      "40140\n"
     ]
    },
    {
     "name": "stderr",
     "output_type": "stream",
     "text": [
      "C:\\Users\\KIIT\\AppData\\Local\\Temp\\ipykernel_7660\\2248056373.py:13: RuntimeWarning: divide by zero encountered in double_scalars\n",
      "  grad_orientation = math.degrees(math.atan(abs(diff2/diff1)))\n"
     ]
    },
    {
     "name": "stdout",
     "output_type": "stream",
     "text": [
      "31948\n",
      "37580\n",
      "33484\n",
      "26009\n"
     ]
    },
    {
     "name": "stderr",
     "output_type": "stream",
     "text": [
      "C:\\Users\\KIIT\\AppData\\Local\\Temp\\ipykernel_7660\\2248056373.py:13: RuntimeWarning: divide by zero encountered in double_scalars\n",
      "  grad_orientation = math.degrees(math.atan(abs(diff2/diff1)))\n"
     ]
    },
    {
     "name": "stdout",
     "output_type": "stream",
     "text": [
      "27955\n",
      "20377\n",
      "44748\n",
      "48844\n"
     ]
    },
    {
     "name": "stderr",
     "output_type": "stream",
     "text": [
      "C:\\Users\\KIIT\\AppData\\Local\\Temp\\ipykernel_7660\\2248056373.py:13: RuntimeWarning: divide by zero encountered in double_scalars\n",
      "  grad_orientation = math.degrees(math.atan(abs(diff2/diff1)))\n"
     ]
    },
    {
     "name": "stdout",
     "output_type": "stream",
     "text": [
      "32051\n"
     ]
    },
    {
     "name": "stderr",
     "output_type": "stream",
     "text": [
      "C:\\Users\\KIIT\\AppData\\Local\\Temp\\ipykernel_7660\\2248056373.py:13: RuntimeWarning: divide by zero encountered in double_scalars\n",
      "  grad_orientation = math.degrees(math.atan(abs(diff2/diff1)))\n"
     ]
    },
    {
     "name": "stdout",
     "output_type": "stream",
     "text": [
      "37478\n"
     ]
    },
    {
     "name": "stderr",
     "output_type": "stream",
     "text": [
      "C:\\Users\\KIIT\\AppData\\Local\\Temp\\ipykernel_7660\\2248056373.py:13: RuntimeWarning: divide by zero encountered in double_scalars\n",
      "  grad_orientation = math.degrees(math.atan(abs(diff2/diff1)))\n"
     ]
    },
    {
     "name": "stdout",
     "output_type": "stream",
     "text": [
      "32972\n"
     ]
    },
    {
     "name": "stderr",
     "output_type": "stream",
     "text": [
      "C:\\Users\\KIIT\\AppData\\Local\\Temp\\ipykernel_7660\\2248056373.py:13: RuntimeWarning: divide by zero encountered in double_scalars\n",
      "  grad_orientation = math.degrees(math.atan(abs(diff2/diff1)))\n"
     ]
    },
    {
     "name": "stdout",
     "output_type": "stream",
     "text": [
      "37683\n"
     ]
    },
    {
     "name": "stderr",
     "output_type": "stream",
     "text": [
      "C:\\Users\\KIIT\\AppData\\Local\\Temp\\ipykernel_7660\\2248056373.py:13: RuntimeWarning: divide by zero encountered in double_scalars\n",
      "  grad_orientation = math.degrees(math.atan(abs(diff2/diff1)))\n"
     ]
    },
    {
     "name": "stdout",
     "output_type": "stream",
     "text": [
      "32460\n"
     ]
    },
    {
     "name": "stderr",
     "output_type": "stream",
     "text": [
      "C:\\Users\\KIIT\\AppData\\Local\\Temp\\ipykernel_7660\\2248056373.py:13: RuntimeWarning: divide by zero encountered in double_scalars\n",
      "  grad_orientation = math.degrees(math.atan(abs(diff2/diff1)))\n"
     ]
    },
    {
     "name": "stdout",
     "output_type": "stream",
     "text": [
      "26624\n",
      "28672\n",
      "20684\n",
      "44339\n",
      "49049\n",
      "31539\n"
     ]
    },
    {
     "name": "stderr",
     "output_type": "stream",
     "text": [
      "C:\\Users\\KIIT\\AppData\\Local\\Temp\\ipykernel_7660\\2248056373.py:13: RuntimeWarning: divide by zero encountered in double_scalars\n",
      "  grad_orientation = math.degrees(math.atan(abs(diff2/diff1)))\n"
     ]
    },
    {
     "name": "stdout",
     "output_type": "stream",
     "text": [
      "37785\n",
      "31539\n",
      "36966\n",
      "32665\n",
      "25600\n"
     ]
    },
    {
     "name": "stderr",
     "output_type": "stream",
     "text": [
      "C:\\Users\\KIIT\\AppData\\Local\\Temp\\ipykernel_7660\\2248056373.py:13: RuntimeWarning: divide by zero encountered in double_scalars\n",
      "  grad_orientation = math.degrees(math.atan(abs(diff2/diff1)))\n"
     ]
    },
    {
     "name": "stdout",
     "output_type": "stream",
     "text": [
      "29388\n"
     ]
    },
    {
     "name": "stderr",
     "output_type": "stream",
     "text": [
      "C:\\Users\\KIIT\\AppData\\Local\\Temp\\ipykernel_7660\\2248056373.py:13: RuntimeWarning: divide by zero encountered in double_scalars\n",
      "  grad_orientation = math.degrees(math.atan(abs(diff2/diff1)))\n"
     ]
    },
    {
     "name": "stdout",
     "output_type": "stream",
     "text": [
      "21708\n",
      "44851\n"
     ]
    },
    {
     "name": "stderr",
     "output_type": "stream",
     "text": [
      "C:\\Users\\KIIT\\AppData\\Local\\Temp\\ipykernel_7660\\2248056373.py:13: RuntimeWarning: divide by zero encountered in double_scalars\n",
      "  grad_orientation = math.degrees(math.atan(abs(diff2/diff1)))\n"
     ]
    },
    {
     "name": "stdout",
     "output_type": "stream",
     "text": [
      "52121\n"
     ]
    },
    {
     "name": "stderr",
     "output_type": "stream",
     "text": [
      "C:\\Users\\KIIT\\AppData\\Local\\Temp\\ipykernel_7660\\2248056373.py:13: RuntimeWarning: divide by zero encountered in double_scalars\n",
      "  grad_orientation = math.degrees(math.atan(abs(diff2/diff1)))\n"
     ]
    },
    {
     "name": "stdout",
     "output_type": "stream",
     "text": [
      "32563\n"
     ]
    },
    {
     "name": "stderr",
     "output_type": "stream",
     "text": [
      "C:\\Users\\KIIT\\AppData\\Local\\Temp\\ipykernel_7660\\2248056373.py:13: RuntimeWarning: divide by zero encountered in double_scalars\n",
      "  grad_orientation = math.degrees(math.atan(abs(diff2/diff1)))\n"
     ]
    },
    {
     "name": "stdout",
     "output_type": "stream",
     "text": [
      "38400\n"
     ]
    },
    {
     "name": "stderr",
     "output_type": "stream",
     "text": [
      "C:\\Users\\KIIT\\AppData\\Local\\Temp\\ipykernel_7660\\2248056373.py:13: RuntimeWarning: divide by zero encountered in double_scalars\n",
      "  grad_orientation = math.degrees(math.atan(abs(diff2/diff1)))\n"
     ]
    },
    {
     "name": "stdout",
     "output_type": "stream",
     "text": [
      "31744\n"
     ]
    },
    {
     "name": "stderr",
     "output_type": "stream",
     "text": [
      "C:\\Users\\KIIT\\AppData\\Local\\Temp\\ipykernel_7660\\2248056373.py:13: RuntimeWarning: divide by zero encountered in double_scalars\n",
      "  grad_orientation = math.degrees(math.atan(abs(diff2/diff1)))\n"
     ]
    },
    {
     "name": "stdout",
     "output_type": "stream",
     "text": [
      "36556\n"
     ]
    },
    {
     "name": "stderr",
     "output_type": "stream",
     "text": [
      "C:\\Users\\KIIT\\AppData\\Local\\Temp\\ipykernel_7660\\2248056373.py:13: RuntimeWarning: divide by zero encountered in double_scalars\n",
      "  grad_orientation = math.degrees(math.atan(abs(diff2/diff1)))\n"
     ]
    },
    {
     "name": "stdout",
     "output_type": "stream",
     "text": [
      "32665\n",
      "25292\n"
     ]
    },
    {
     "name": "stderr",
     "output_type": "stream",
     "text": [
      "C:\\Users\\KIIT\\AppData\\Local\\Temp\\ipykernel_7660\\2248056373.py:13: RuntimeWarning: divide by zero encountered in double_scalars\n",
      "  grad_orientation = math.degrees(math.atan(abs(diff2/diff1)))\n"
     ]
    },
    {
     "name": "stdout",
     "output_type": "stream",
     "text": [
      "28672\n",
      "21196\n",
      "43315\n",
      "49459\n"
     ]
    },
    {
     "name": "stderr",
     "output_type": "stream",
     "text": [
      "C:\\Users\\KIIT\\AppData\\Local\\Temp\\ipykernel_7660\\2248056373.py:13: RuntimeWarning: divide by zero encountered in double_scalars\n",
      "  grad_orientation = math.degrees(math.atan(abs(diff2/diff1)))\n"
     ]
    },
    {
     "name": "stdout",
     "output_type": "stream",
     "text": [
      "33382\n"
     ]
    },
    {
     "name": "stderr",
     "output_type": "stream",
     "text": [
      "C:\\Users\\KIIT\\AppData\\Local\\Temp\\ipykernel_7660\\2248056373.py:13: RuntimeWarning: divide by zero encountered in double_scalars\n",
      "  grad_orientation = math.degrees(math.atan(abs(diff2/diff1)))\n"
     ]
    },
    {
     "name": "stdout",
     "output_type": "stream",
     "text": [
      "37273\n"
     ]
    },
    {
     "name": "stderr",
     "output_type": "stream",
     "text": [
      "C:\\Users\\KIIT\\AppData\\Local\\Temp\\ipykernel_7660\\2248056373.py:13: RuntimeWarning: divide by zero encountered in double_scalars\n",
      "  grad_orientation = math.degrees(math.atan(abs(diff2/diff1)))\n"
     ]
    },
    {
     "name": "stdout",
     "output_type": "stream",
     "text": [
      "32870\n",
      "37273\n"
     ]
    },
    {
     "name": "stderr",
     "output_type": "stream",
     "text": [
      "C:\\Users\\KIIT\\AppData\\Local\\Temp\\ipykernel_7660\\2248056373.py:13: RuntimeWarning: divide by zero encountered in double_scalars\n",
      "  grad_orientation = math.degrees(math.atan(abs(diff2/diff1)))\n"
     ]
    },
    {
     "name": "stdout",
     "output_type": "stream",
     "text": [
      "32460\n"
     ]
    },
    {
     "name": "stderr",
     "output_type": "stream",
     "text": [
      "C:\\Users\\KIIT\\AppData\\Local\\Temp\\ipykernel_7660\\2248056373.py:13: RuntimeWarning: divide by zero encountered in double_scalars\n",
      "  grad_orientation = math.degrees(math.atan(abs(diff2/diff1)))\n"
     ]
    },
    {
     "name": "stdout",
     "output_type": "stream",
     "text": [
      "26726\n",
      "29184\n"
     ]
    },
    {
     "name": "stderr",
     "output_type": "stream",
     "text": [
      "C:\\Users\\KIIT\\AppData\\Local\\Temp\\ipykernel_7660\\2248056373.py:13: RuntimeWarning: divide by zero encountered in double_scalars\n",
      "  grad_orientation = math.degrees(math.atan(abs(diff2/diff1)))\n"
     ]
    },
    {
     "name": "stdout",
     "output_type": "stream",
     "text": [
      "22118\n",
      "44851\n",
      "52019\n",
      "34201\n",
      "38195\n",
      "34508\n",
      "34508\n",
      "32768\n",
      "26521\n",
      "28400\n",
      "22000\n",
      "46200\n",
      "53800\n",
      "33200\n",
      "43000\n",
      "33800\n",
      "38600\n",
      "32600\n",
      "27600\n",
      "29593\n",
      "22323\n",
      "45875\n",
      "51712\n",
      "32768\n",
      "39219\n",
      "34201\n",
      "38912\n",
      "34099\n",
      "26931\n",
      "32051\n",
      "22732\n",
      "46284\n",
      "49868\n",
      "33484\n",
      "38912\n",
      "34099\n",
      "38297\n",
      "33587\n",
      "27033\n",
      "30310\n",
      "22425\n",
      "46182\n",
      "51097\n",
      "33792\n",
      "47820\n",
      "34304\n",
      "38912\n",
      "35532\n",
      "26316\n",
      "30924\n",
      "27238\n",
      "46489\n",
      "51712\n",
      "33382\n",
      "37888\n",
      "32665\n",
      "37376\n",
      "33484\n",
      "27136\n",
      "30003\n",
      "23244\n",
      "46592\n",
      "51916\n",
      "32358\n",
      "38707\n"
     ]
    },
    {
     "name": "stderr",
     "output_type": "stream",
     "text": [
      "C:\\Users\\KIIT\\AppData\\Local\\Temp\\ipykernel_7660\\2248056373.py:13: RuntimeWarning: divide by zero encountered in double_scalars\n",
      "  grad_orientation = math.degrees(math.atan(abs(diff2/diff1)))\n"
     ]
    },
    {
     "name": "stdout",
     "output_type": "stream",
     "text": [
      "32870\n",
      "38092\n",
      "33996\n",
      "27238\n",
      "28057\n",
      "21811\n",
      "46796\n",
      "52633\n",
      "33280\n",
      "40550\n",
      "33894\n",
      "37785\n",
      "33996\n",
      "27750\n",
      "28364\n",
      "22425\n",
      "45568\n",
      "51200\n",
      "32051\n",
      "39014\n",
      "33792\n",
      "37990\n",
      "32870\n",
      "27750\n",
      "29900\n",
      "21811\n",
      "45568\n",
      "49766\n",
      "32460\n"
     ]
    },
    {
     "name": "stderr",
     "output_type": "stream",
     "text": [
      "C:\\Users\\KIIT\\AppData\\Local\\Temp\\ipykernel_7660\\2248056373.py:13: RuntimeWarning: divide by zero encountered in double_scalars\n",
      "  grad_orientation = math.degrees(math.atan(abs(diff2/diff1)))\n"
     ]
    },
    {
     "name": "stdout",
     "output_type": "stream",
     "text": [
      "38297\n",
      "33792\n",
      "37785\n",
      "34918\n",
      "27852\n",
      "files saved\n"
     ]
    }
   ],
   "source": [
    "result_features = []\n",
    "for i in range(1,21):\n",
    "        folder_path = base_path1 + 'S' + str(i) +'_1' + '\\\\'\n",
    "        for j in range(0,10):\n",
    "            if i < 10:\n",
    "                file_name = folder_path + 's0' + str(i) + '_video' + str(j) + '.csv'\n",
    "                f_name = folder_path + 's0' + str(i) + '_video' + str(j)\n",
    "            else:\n",
    "                file_name = folder_path + 's' + str(i) + '_video' + str(j) + '.csv'\n",
    "                f_name = folder_path + 's' + str(i) + '_video' + str(j)\n",
    "            #print(file_name)\n",
    "            data = pd.read_csv(file_name,header=None)\n",
    "            arr = np.array(data)\n",
    "            #print(data)\n",
    "            result = arr.flatten()\n",
    "            #print(result)\n",
    "            #print(len(result))\n",
    "            feature_matrix = get_feature_matrix(result)\n",
    "            #print(feature_matrix)\n",
    "            print(len(feature_matrix))\n",
    "            feature_matrix_list=feature_matrix.tolist()\n",
    "            output_file = f_name + '_features(five_block).csv'\n",
    "            with open(output_file, 'w', newline='') as file:\n",
    "                writer = csv.writer(file)\n",
    "                for row in feature_matrix_list:\n",
    "                    writer.writerow([row])\n",
    "print('files saved')"
   ]
  },
  {
   "cell_type": "markdown",
   "id": "e55272e9",
   "metadata": {},
   "source": [
    "Two Second Data"
   ]
  },
  {
   "cell_type": "code",
   "execution_count": 4,
   "id": "50a8a61c",
   "metadata": {},
   "outputs": [],
   "source": [
    "base_path2 = 'C:\\\\Users\\\\KIIT\\\\Documents\\\\Minor Project\\\\DataSet_2sec\\\\'"
   ]
  },
  {
   "cell_type": "code",
   "execution_count": 6,
   "id": "f0c2e10e",
   "metadata": {},
   "outputs": [
    {
     "name": "stdout",
     "output_type": "stream",
     "text": [
      "27033\n",
      "21094\n",
      "44441\n",
      "49561\n",
      "31948\n",
      "36864\n",
      "32563\n"
     ]
    },
    {
     "name": "stderr",
     "output_type": "stream",
     "text": [
      "C:\\Users\\KIIT\\AppData\\Local\\Temp\\ipykernel_5320\\2248056373.py:13: RuntimeWarning: divide by zero encountered in double_scalars\n",
      "  grad_orientation = math.degrees(math.atan(abs(diff2/diff1)))\n"
     ]
    },
    {
     "name": "stdout",
     "output_type": "stream",
     "text": [
      "37273\n",
      "32768\n",
      "26214\n"
     ]
    },
    {
     "name": "stderr",
     "output_type": "stream",
     "text": [
      "C:\\Users\\KIIT\\AppData\\Local\\Temp\\ipykernel_5320\\2248056373.py:13: RuntimeWarning: divide by zero encountered in double_scalars\n",
      "  grad_orientation = math.degrees(math.atan(abs(diff2/diff1)))\n"
     ]
    },
    {
     "name": "stdout",
     "output_type": "stream",
     "text": [
      "29696\n"
     ]
    },
    {
     "name": "stderr",
     "output_type": "stream",
     "text": [
      "C:\\Users\\KIIT\\AppData\\Local\\Temp\\ipykernel_5320\\2248056373.py:13: RuntimeWarning: divide by zero encountered in double_scalars\n",
      "  grad_orientation = math.degrees(math.atan(abs(diff2/diff1)))\n"
     ]
    },
    {
     "name": "stdout",
     "output_type": "stream",
     "text": [
      "22528\n"
     ]
    },
    {
     "name": "stderr",
     "output_type": "stream",
     "text": [
      "C:\\Users\\KIIT\\AppData\\Local\\Temp\\ipykernel_5320\\2248056373.py:13: RuntimeWarning: divide by zero encountered in double_scalars\n",
      "  grad_orientation = math.degrees(math.atan(abs(diff2/diff1)))\n"
     ]
    },
    {
     "name": "stdout",
     "output_type": "stream",
     "text": [
      "43622\n"
     ]
    },
    {
     "name": "stderr",
     "output_type": "stream",
     "text": [
      "C:\\Users\\KIIT\\AppData\\Local\\Temp\\ipykernel_5320\\2248056373.py:13: RuntimeWarning: divide by zero encountered in double_scalars\n",
      "  grad_orientation = math.degrees(math.atan(abs(diff2/diff1)))\n"
     ]
    },
    {
     "name": "stdout",
     "output_type": "stream",
     "text": [
      "50790\n"
     ]
    },
    {
     "name": "stderr",
     "output_type": "stream",
     "text": [
      "C:\\Users\\KIIT\\AppData\\Local\\Temp\\ipykernel_5320\\2248056373.py:13: RuntimeWarning: divide by zero encountered in double_scalars\n",
      "  grad_orientation = math.degrees(math.atan(abs(diff2/diff1)))\n"
     ]
    },
    {
     "name": "stdout",
     "output_type": "stream",
     "text": [
      "32153\n",
      "36659\n",
      "32563\n",
      "37888\n",
      "33382\n",
      "26624\n"
     ]
    },
    {
     "name": "stderr",
     "output_type": "stream",
     "text": [
      "C:\\Users\\KIIT\\AppData\\Local\\Temp\\ipykernel_5320\\2248056373.py:13: RuntimeWarning: divide by zero encountered in double_scalars\n",
      "  grad_orientation = math.degrees(math.atan(abs(diff2/diff1)))\n"
     ]
    },
    {
     "name": "stdout",
     "output_type": "stream",
     "text": [
      "28467\n"
     ]
    },
    {
     "name": "stderr",
     "output_type": "stream",
     "text": [
      "C:\\Users\\KIIT\\AppData\\Local\\Temp\\ipykernel_5320\\2248056373.py:13: RuntimeWarning: divide by zero encountered in double_scalars\n",
      "  grad_orientation = math.degrees(math.atan(abs(diff2/diff1)))\n"
     ]
    },
    {
     "name": "stdout",
     "output_type": "stream",
     "text": [
      "21504\n"
     ]
    },
    {
     "name": "stderr",
     "output_type": "stream",
     "text": [
      "C:\\Users\\KIIT\\AppData\\Local\\Temp\\ipykernel_5320\\2248056373.py:13: RuntimeWarning: divide by zero encountered in double_scalars\n",
      "  grad_orientation = math.degrees(math.atan(abs(diff2/diff1)))\n"
     ]
    },
    {
     "name": "stdout",
     "output_type": "stream",
     "text": [
      "44851\n"
     ]
    },
    {
     "name": "stderr",
     "output_type": "stream",
     "text": [
      "C:\\Users\\KIIT\\AppData\\Local\\Temp\\ipykernel_5320\\2248056373.py:13: RuntimeWarning: divide by zero encountered in double_scalars\n",
      "  grad_orientation = math.degrees(math.atan(abs(diff2/diff1)))\n"
     ]
    },
    {
     "name": "stdout",
     "output_type": "stream",
     "text": [
      "49561\n"
     ]
    },
    {
     "name": "stderr",
     "output_type": "stream",
     "text": [
      "C:\\Users\\KIIT\\AppData\\Local\\Temp\\ipykernel_5320\\2248056373.py:13: RuntimeWarning: divide by zero encountered in double_scalars\n",
      "  grad_orientation = math.degrees(math.atan(abs(diff2/diff1)))\n"
     ]
    },
    {
     "name": "stdout",
     "output_type": "stream",
     "text": [
      "32153\n"
     ]
    },
    {
     "name": "stderr",
     "output_type": "stream",
     "text": [
      "C:\\Users\\KIIT\\AppData\\Local\\Temp\\ipykernel_5320\\2248056373.py:13: RuntimeWarning: divide by zero encountered in double_scalars\n",
      "  grad_orientation = math.degrees(math.atan(abs(diff2/diff1)))\n"
     ]
    },
    {
     "name": "stdout",
     "output_type": "stream",
     "text": [
      "37273\n"
     ]
    },
    {
     "name": "stderr",
     "output_type": "stream",
     "text": [
      "C:\\Users\\KIIT\\AppData\\Local\\Temp\\ipykernel_5320\\2248056373.py:13: RuntimeWarning: divide by zero encountered in double_scalars\n",
      "  grad_orientation = math.degrees(math.atan(abs(diff2/diff1)))\n"
     ]
    },
    {
     "name": "stdout",
     "output_type": "stream",
     "text": [
      "31948\n"
     ]
    },
    {
     "name": "stderr",
     "output_type": "stream",
     "text": [
      "C:\\Users\\KIIT\\AppData\\Local\\Temp\\ipykernel_5320\\2248056373.py:13: RuntimeWarning: divide by zero encountered in double_scalars\n",
      "  grad_orientation = math.degrees(math.atan(abs(diff2/diff1)))\n"
     ]
    },
    {
     "name": "stdout",
     "output_type": "stream",
     "text": [
      "36044\n"
     ]
    },
    {
     "name": "stderr",
     "output_type": "stream",
     "text": [
      "C:\\Users\\KIIT\\AppData\\Local\\Temp\\ipykernel_5320\\2248056373.py:13: RuntimeWarning: divide by zero encountered in double_scalars\n",
      "  grad_orientation = math.degrees(math.atan(abs(diff2/diff1)))\n"
     ]
    },
    {
     "name": "stdout",
     "output_type": "stream",
     "text": [
      "31334\n",
      "25600\n"
     ]
    },
    {
     "name": "stderr",
     "output_type": "stream",
     "text": [
      "C:\\Users\\KIIT\\AppData\\Local\\Temp\\ipykernel_5320\\2248056373.py:13: RuntimeWarning: divide by zero encountered in double_scalars\n",
      "  grad_orientation = math.degrees(math.atan(abs(diff2/diff1)))\n"
     ]
    },
    {
     "name": "stdout",
     "output_type": "stream",
     "text": [
      "27443\n"
     ]
    },
    {
     "name": "stderr",
     "output_type": "stream",
     "text": [
      "C:\\Users\\KIIT\\AppData\\Local\\Temp\\ipykernel_5320\\2248056373.py:13: RuntimeWarning: divide by zero encountered in double_scalars\n",
      "  grad_orientation = math.degrees(math.atan(abs(diff2/diff1)))\n"
     ]
    },
    {
     "name": "stdout",
     "output_type": "stream",
     "text": [
      "20889\n"
     ]
    },
    {
     "name": "stderr",
     "output_type": "stream",
     "text": [
      "C:\\Users\\KIIT\\AppData\\Local\\Temp\\ipykernel_5320\\2248056373.py:13: RuntimeWarning: divide by zero encountered in double_scalars\n",
      "  grad_orientation = math.degrees(math.atan(abs(diff2/diff1)))\n"
     ]
    },
    {
     "name": "stdout",
     "output_type": "stream",
     "text": [
      "46694\n",
      "50585\n",
      "33587\n"
     ]
    },
    {
     "name": "stderr",
     "output_type": "stream",
     "text": [
      "C:\\Users\\KIIT\\AppData\\Local\\Temp\\ipykernel_5320\\2248056373.py:13: RuntimeWarning: divide by zero encountered in double_scalars\n",
      "  grad_orientation = math.degrees(math.atan(abs(diff2/diff1)))\n"
     ]
    },
    {
     "name": "stdout",
     "output_type": "stream",
     "text": [
      "37683\n"
     ]
    },
    {
     "name": "stderr",
     "output_type": "stream",
     "text": [
      "C:\\Users\\KIIT\\AppData\\Local\\Temp\\ipykernel_5320\\2248056373.py:13: RuntimeWarning: divide by zero encountered in double_scalars\n",
      "  grad_orientation = math.degrees(math.atan(abs(diff2/diff1)))\n"
     ]
    },
    {
     "name": "stdout",
     "output_type": "stream",
     "text": [
      "31539\n"
     ]
    },
    {
     "name": "stderr",
     "output_type": "stream",
     "text": [
      "C:\\Users\\KIIT\\AppData\\Local\\Temp\\ipykernel_5320\\2248056373.py:13: RuntimeWarning: divide by zero encountered in double_scalars\n",
      "  grad_orientation = math.degrees(math.atan(abs(diff2/diff1)))\n"
     ]
    },
    {
     "name": "stdout",
     "output_type": "stream",
     "text": [
      "37273\n",
      "31948\n",
      "26419\n"
     ]
    },
    {
     "name": "stderr",
     "output_type": "stream",
     "text": [
      "C:\\Users\\KIIT\\AppData\\Local\\Temp\\ipykernel_5320\\2248056373.py:13: RuntimeWarning: divide by zero encountered in double_scalars\n",
      "  grad_orientation = math.degrees(math.atan(abs(diff2/diff1)))\n"
     ]
    },
    {
     "name": "stdout",
     "output_type": "stream",
     "text": [
      "29286\n"
     ]
    },
    {
     "name": "stderr",
     "output_type": "stream",
     "text": [
      "C:\\Users\\KIIT\\AppData\\Local\\Temp\\ipykernel_5320\\2248056373.py:13: RuntimeWarning: divide by zero encountered in double_scalars\n",
      "  grad_orientation = math.degrees(math.atan(abs(diff2/diff1)))\n"
     ]
    },
    {
     "name": "stdout",
     "output_type": "stream",
     "text": [
      "20889\n"
     ]
    },
    {
     "name": "stderr",
     "output_type": "stream",
     "text": [
      "C:\\Users\\KIIT\\AppData\\Local\\Temp\\ipykernel_5320\\2248056373.py:13: RuntimeWarning: divide by zero encountered in double_scalars\n",
      "  grad_orientation = math.degrees(math.atan(abs(diff2/diff1)))\n"
     ]
    },
    {
     "name": "stdout",
     "output_type": "stream",
     "text": [
      "45260\n"
     ]
    },
    {
     "name": "stderr",
     "output_type": "stream",
     "text": [
      "C:\\Users\\KIIT\\AppData\\Local\\Temp\\ipykernel_5320\\2248056373.py:13: RuntimeWarning: divide by zero encountered in double_scalars\n",
      "  grad_orientation = math.degrees(math.atan(abs(diff2/diff1)))\n"
     ]
    },
    {
     "name": "stdout",
     "output_type": "stream",
     "text": [
      "49971\n"
     ]
    },
    {
     "name": "stderr",
     "output_type": "stream",
     "text": [
      "C:\\Users\\KIIT\\AppData\\Local\\Temp\\ipykernel_5320\\2248056373.py:13: RuntimeWarning: divide by zero encountered in double_scalars\n",
      "  grad_orientation = math.degrees(math.atan(abs(diff2/diff1)))\n"
     ]
    },
    {
     "name": "stdout",
     "output_type": "stream",
     "text": [
      "31334\n"
     ]
    },
    {
     "name": "stderr",
     "output_type": "stream",
     "text": [
      "C:\\Users\\KIIT\\AppData\\Local\\Temp\\ipykernel_5320\\2248056373.py:13: RuntimeWarning: divide by zero encountered in double_scalars\n",
      "  grad_orientation = math.degrees(math.atan(abs(diff2/diff1)))\n"
     ]
    },
    {
     "name": "stdout",
     "output_type": "stream",
     "text": [
      "39731\n"
     ]
    },
    {
     "name": "stderr",
     "output_type": "stream",
     "text": [
      "C:\\Users\\KIIT\\AppData\\Local\\Temp\\ipykernel_5320\\2248056373.py:13: RuntimeWarning: divide by zero encountered in double_scalars\n",
      "  grad_orientation = math.degrees(math.atan(abs(diff2/diff1)))\n"
     ]
    },
    {
     "name": "stdout",
     "output_type": "stream",
     "text": [
      "32563\n"
     ]
    },
    {
     "name": "stderr",
     "output_type": "stream",
     "text": [
      "C:\\Users\\KIIT\\AppData\\Local\\Temp\\ipykernel_5320\\2248056373.py:13: RuntimeWarning: divide by zero encountered in double_scalars\n",
      "  grad_orientation = math.degrees(math.atan(abs(diff2/diff1)))\n"
     ]
    },
    {
     "name": "stdout",
     "output_type": "stream",
     "text": [
      "37478\n",
      "32768\n"
     ]
    },
    {
     "name": "stderr",
     "output_type": "stream",
     "text": [
      "C:\\Users\\KIIT\\AppData\\Local\\Temp\\ipykernel_5320\\2248056373.py:13: RuntimeWarning: divide by zero encountered in double_scalars\n",
      "  grad_orientation = math.degrees(math.atan(abs(diff2/diff1)))\n"
     ]
    },
    {
     "name": "stdout",
     "output_type": "stream",
     "text": [
      "25804\n"
     ]
    },
    {
     "name": "stderr",
     "output_type": "stream",
     "text": [
      "C:\\Users\\KIIT\\AppData\\Local\\Temp\\ipykernel_5320\\2248056373.py:13: RuntimeWarning: divide by zero encountered in double_scalars\n",
      "  grad_orientation = math.degrees(math.atan(abs(diff2/diff1)))\n"
     ]
    },
    {
     "name": "stdout",
     "output_type": "stream",
     "text": [
      "28262\n",
      "21708\n"
     ]
    },
    {
     "name": "stderr",
     "output_type": "stream",
     "text": [
      "C:\\Users\\KIIT\\AppData\\Local\\Temp\\ipykernel_5320\\2248056373.py:13: RuntimeWarning: divide by zero encountered in double_scalars\n",
      "  grad_orientation = math.degrees(math.atan(abs(diff2/diff1)))\n"
     ]
    },
    {
     "name": "stdout",
     "output_type": "stream",
     "text": [
      "45260\n"
     ]
    },
    {
     "name": "stderr",
     "output_type": "stream",
     "text": [
      "C:\\Users\\KIIT\\AppData\\Local\\Temp\\ipykernel_5320\\2248056373.py:13: RuntimeWarning: divide by zero encountered in double_scalars\n",
      "  grad_orientation = math.degrees(math.atan(abs(diff2/diff1)))\n"
     ]
    },
    {
     "name": "stdout",
     "output_type": "stream",
     "text": [
      "48332\n"
     ]
    },
    {
     "name": "stderr",
     "output_type": "stream",
     "text": [
      "C:\\Users\\KIIT\\AppData\\Local\\Temp\\ipykernel_5320\\2248056373.py:13: RuntimeWarning: divide by zero encountered in double_scalars\n",
      "  grad_orientation = math.degrees(math.atan(abs(diff2/diff1)))\n"
     ]
    },
    {
     "name": "stdout",
     "output_type": "stream",
     "text": [
      "31129\n"
     ]
    },
    {
     "name": "stderr",
     "output_type": "stream",
     "text": [
      "C:\\Users\\KIIT\\AppData\\Local\\Temp\\ipykernel_5320\\2248056373.py:13: RuntimeWarning: divide by zero encountered in double_scalars\n",
      "  grad_orientation = math.degrees(math.atan(abs(diff2/diff1)))\n"
     ]
    },
    {
     "name": "stdout",
     "output_type": "stream",
     "text": [
      "40140\n"
     ]
    },
    {
     "name": "stderr",
     "output_type": "stream",
     "text": [
      "C:\\Users\\KIIT\\AppData\\Local\\Temp\\ipykernel_5320\\2248056373.py:13: RuntimeWarning: divide by zero encountered in double_scalars\n",
      "  grad_orientation = math.degrees(math.atan(abs(diff2/diff1)))\n"
     ]
    },
    {
     "name": "stdout",
     "output_type": "stream",
     "text": [
      "31948\n",
      "37478\n",
      "33382\n",
      "26009\n"
     ]
    },
    {
     "name": "stderr",
     "output_type": "stream",
     "text": [
      "C:\\Users\\KIIT\\AppData\\Local\\Temp\\ipykernel_5320\\2248056373.py:13: RuntimeWarning: divide by zero encountered in double_scalars\n",
      "  grad_orientation = math.degrees(math.atan(abs(diff2/diff1)))\n"
     ]
    },
    {
     "name": "stdout",
     "output_type": "stream",
     "text": [
      "27852\n",
      "20275\n",
      "44646\n",
      "48742\n"
     ]
    },
    {
     "name": "stderr",
     "output_type": "stream",
     "text": [
      "C:\\Users\\KIIT\\AppData\\Local\\Temp\\ipykernel_5320\\2248056373.py:13: RuntimeWarning: divide by zero encountered in double_scalars\n",
      "  grad_orientation = math.degrees(math.atan(abs(diff2/diff1)))\n"
     ]
    },
    {
     "name": "stdout",
     "output_type": "stream",
     "text": [
      "31948\n"
     ]
    },
    {
     "name": "stderr",
     "output_type": "stream",
     "text": [
      "C:\\Users\\KIIT\\AppData\\Local\\Temp\\ipykernel_5320\\2248056373.py:13: RuntimeWarning: divide by zero encountered in double_scalars\n",
      "  grad_orientation = math.degrees(math.atan(abs(diff2/diff1)))\n"
     ]
    },
    {
     "name": "stdout",
     "output_type": "stream",
     "text": [
      "37478\n"
     ]
    },
    {
     "name": "stderr",
     "output_type": "stream",
     "text": [
      "C:\\Users\\KIIT\\AppData\\Local\\Temp\\ipykernel_5320\\2248056373.py:13: RuntimeWarning: divide by zero encountered in double_scalars\n",
      "  grad_orientation = math.degrees(math.atan(abs(diff2/diff1)))\n"
     ]
    },
    {
     "name": "stdout",
     "output_type": "stream",
     "text": [
      "32972\n"
     ]
    },
    {
     "name": "stderr",
     "output_type": "stream",
     "text": [
      "C:\\Users\\KIIT\\AppData\\Local\\Temp\\ipykernel_5320\\2248056373.py:13: RuntimeWarning: divide by zero encountered in double_scalars\n",
      "  grad_orientation = math.degrees(math.atan(abs(diff2/diff1)))\n"
     ]
    },
    {
     "name": "stdout",
     "output_type": "stream",
     "text": [
      "37683\n"
     ]
    },
    {
     "name": "stderr",
     "output_type": "stream",
     "text": [
      "C:\\Users\\KIIT\\AppData\\Local\\Temp\\ipykernel_5320\\2248056373.py:13: RuntimeWarning: divide by zero encountered in double_scalars\n",
      "  grad_orientation = math.degrees(math.atan(abs(diff2/diff1)))\n"
     ]
    },
    {
     "name": "stdout",
     "output_type": "stream",
     "text": [
      "32358\n"
     ]
    },
    {
     "name": "stderr",
     "output_type": "stream",
     "text": [
      "C:\\Users\\KIIT\\AppData\\Local\\Temp\\ipykernel_5320\\2248056373.py:13: RuntimeWarning: divide by zero encountered in double_scalars\n",
      "  grad_orientation = math.degrees(math.atan(abs(diff2/diff1)))\n"
     ]
    },
    {
     "name": "stdout",
     "output_type": "stream",
     "text": [
      "26624\n",
      "28672\n",
      "20684\n",
      "44236\n",
      "48947\n",
      "31539\n"
     ]
    },
    {
     "name": "stderr",
     "output_type": "stream",
     "text": [
      "C:\\Users\\KIIT\\AppData\\Local\\Temp\\ipykernel_5320\\2248056373.py:13: RuntimeWarning: divide by zero encountered in double_scalars\n",
      "  grad_orientation = math.degrees(math.atan(abs(diff2/diff1)))\n"
     ]
    },
    {
     "name": "stdout",
     "output_type": "stream",
     "text": [
      "37683\n",
      "31539\n",
      "36864\n",
      "32563\n",
      "25600\n"
     ]
    },
    {
     "name": "stderr",
     "output_type": "stream",
     "text": [
      "C:\\Users\\KIIT\\AppData\\Local\\Temp\\ipykernel_5320\\2248056373.py:13: RuntimeWarning: divide by zero encountered in double_scalars\n",
      "  grad_orientation = math.degrees(math.atan(abs(diff2/diff1)))\n"
     ]
    },
    {
     "name": "stdout",
     "output_type": "stream",
     "text": [
      "29286\n"
     ]
    },
    {
     "name": "stderr",
     "output_type": "stream",
     "text": [
      "C:\\Users\\KIIT\\AppData\\Local\\Temp\\ipykernel_5320\\2248056373.py:13: RuntimeWarning: divide by zero encountered in double_scalars\n",
      "  grad_orientation = math.degrees(math.atan(abs(diff2/diff1)))\n"
     ]
    },
    {
     "name": "stdout",
     "output_type": "stream",
     "text": [
      "21708\n",
      "44851\n"
     ]
    },
    {
     "name": "stderr",
     "output_type": "stream",
     "text": [
      "C:\\Users\\KIIT\\AppData\\Local\\Temp\\ipykernel_5320\\2248056373.py:13: RuntimeWarning: divide by zero encountered in double_scalars\n",
      "  grad_orientation = math.degrees(math.atan(abs(diff2/diff1)))\n"
     ]
    },
    {
     "name": "stdout",
     "output_type": "stream",
     "text": [
      "52019\n"
     ]
    },
    {
     "name": "stderr",
     "output_type": "stream",
     "text": [
      "C:\\Users\\KIIT\\AppData\\Local\\Temp\\ipykernel_5320\\2248056373.py:13: RuntimeWarning: divide by zero encountered in double_scalars\n",
      "  grad_orientation = math.degrees(math.atan(abs(diff2/diff1)))\n"
     ]
    },
    {
     "name": "stdout",
     "output_type": "stream",
     "text": [
      "32563\n"
     ]
    },
    {
     "name": "stderr",
     "output_type": "stream",
     "text": [
      "C:\\Users\\KIIT\\AppData\\Local\\Temp\\ipykernel_5320\\2248056373.py:13: RuntimeWarning: divide by zero encountered in double_scalars\n",
      "  grad_orientation = math.degrees(math.atan(abs(diff2/diff1)))\n"
     ]
    },
    {
     "name": "stdout",
     "output_type": "stream",
     "text": [
      "38297\n"
     ]
    },
    {
     "name": "stderr",
     "output_type": "stream",
     "text": [
      "C:\\Users\\KIIT\\AppData\\Local\\Temp\\ipykernel_5320\\2248056373.py:13: RuntimeWarning: divide by zero encountered in double_scalars\n",
      "  grad_orientation = math.degrees(math.atan(abs(diff2/diff1)))\n"
     ]
    },
    {
     "name": "stdout",
     "output_type": "stream",
     "text": [
      "31744\n"
     ]
    },
    {
     "name": "stderr",
     "output_type": "stream",
     "text": [
      "C:\\Users\\KIIT\\AppData\\Local\\Temp\\ipykernel_5320\\2248056373.py:13: RuntimeWarning: divide by zero encountered in double_scalars\n",
      "  grad_orientation = math.degrees(math.atan(abs(diff2/diff1)))\n"
     ]
    },
    {
     "name": "stdout",
     "output_type": "stream",
     "text": [
      "31744\n"
     ]
    },
    {
     "name": "stderr",
     "output_type": "stream",
     "text": [
      "C:\\Users\\KIIT\\AppData\\Local\\Temp\\ipykernel_5320\\2248056373.py:13: RuntimeWarning: divide by zero encountered in double_scalars\n",
      "  grad_orientation = math.degrees(math.atan(abs(diff2/diff1)))\n"
     ]
    },
    {
     "name": "stdout",
     "output_type": "stream",
     "text": [
      "31744\n",
      "25190\n"
     ]
    },
    {
     "name": "stderr",
     "output_type": "stream",
     "text": [
      "C:\\Users\\KIIT\\AppData\\Local\\Temp\\ipykernel_5320\\2248056373.py:13: RuntimeWarning: divide by zero encountered in double_scalars\n",
      "  grad_orientation = math.degrees(math.atan(abs(diff2/diff1)))\n"
     ]
    },
    {
     "name": "stdout",
     "output_type": "stream",
     "text": [
      "28672\n",
      "21094\n",
      "43212\n",
      "49356\n"
     ]
    },
    {
     "name": "stderr",
     "output_type": "stream",
     "text": [
      "C:\\Users\\KIIT\\AppData\\Local\\Temp\\ipykernel_5320\\2248056373.py:13: RuntimeWarning: divide by zero encountered in double_scalars\n",
      "  grad_orientation = math.degrees(math.atan(abs(diff2/diff1)))\n"
     ]
    },
    {
     "name": "stdout",
     "output_type": "stream",
     "text": [
      "33382\n"
     ]
    },
    {
     "name": "stderr",
     "output_type": "stream",
     "text": [
      "C:\\Users\\KIIT\\AppData\\Local\\Temp\\ipykernel_5320\\2248056373.py:13: RuntimeWarning: divide by zero encountered in double_scalars\n",
      "  grad_orientation = math.degrees(math.atan(abs(diff2/diff1)))\n"
     ]
    },
    {
     "name": "stdout",
     "output_type": "stream",
     "text": [
      "37273\n"
     ]
    },
    {
     "name": "stderr",
     "output_type": "stream",
     "text": [
      "C:\\Users\\KIIT\\AppData\\Local\\Temp\\ipykernel_5320\\2248056373.py:13: RuntimeWarning: divide by zero encountered in double_scalars\n",
      "  grad_orientation = math.degrees(math.atan(abs(diff2/diff1)))\n"
     ]
    },
    {
     "name": "stdout",
     "output_type": "stream",
     "text": [
      "32768\n",
      "37273\n"
     ]
    },
    {
     "name": "stderr",
     "output_type": "stream",
     "text": [
      "C:\\Users\\KIIT\\AppData\\Local\\Temp\\ipykernel_5320\\2248056373.py:13: RuntimeWarning: divide by zero encountered in double_scalars\n",
      "  grad_orientation = math.degrees(math.atan(abs(diff2/diff1)))\n"
     ]
    },
    {
     "name": "stdout",
     "output_type": "stream",
     "text": [
      "32358\n"
     ]
    },
    {
     "name": "stderr",
     "output_type": "stream",
     "text": [
      "C:\\Users\\KIIT\\AppData\\Local\\Temp\\ipykernel_5320\\2248056373.py:13: RuntimeWarning: divide by zero encountered in double_scalars\n",
      "  grad_orientation = math.degrees(math.atan(abs(diff2/diff1)))\n"
     ]
    },
    {
     "name": "stdout",
     "output_type": "stream",
     "text": [
      "26624\n",
      "29081\n"
     ]
    },
    {
     "name": "stderr",
     "output_type": "stream",
     "text": [
      "C:\\Users\\KIIT\\AppData\\Local\\Temp\\ipykernel_5320\\2248056373.py:13: RuntimeWarning: divide by zero encountered in double_scalars\n",
      "  grad_orientation = math.degrees(math.atan(abs(diff2/diff1)))\n"
     ]
    },
    {
     "name": "stdout",
     "output_type": "stream",
     "text": [
      "22118\n",
      "44851\n",
      "52019\n",
      "34201\n",
      "38092\n",
      "34406\n",
      "34406\n",
      "32768\n",
      "26419\n",
      "28262\n",
      "21913\n",
      "46284\n",
      "53862\n",
      "33177\n",
      "43008\n",
      "33792\n",
      "38502\n",
      "32563\n",
      "27648\n",
      "29491\n",
      "22323\n",
      "45875\n",
      "51609\n",
      "32768\n",
      "39116\n",
      "34201\n",
      "38912\n",
      "33996\n",
      "26828\n",
      "31948\n",
      "22732\n",
      "46284\n",
      "49766\n",
      "33382\n",
      "38912\n",
      "33996\n",
      "38297\n",
      "33587\n",
      "27033\n",
      "30310\n",
      "22323\n",
      "46080\n",
      "50995\n",
      "33792\n",
      "47718\n",
      "34201\n",
      "38912\n",
      "35430\n",
      "26214\n",
      "30924\n",
      "27238\n",
      "46489\n",
      "51609\n",
      "33382\n",
      "37888\n",
      "32563\n",
      "37273\n",
      "33382\n",
      "27033\n",
      "29900\n",
      "23142\n",
      "46489\n",
      "51814\n",
      "32358\n",
      "38707\n"
     ]
    },
    {
     "name": "stderr",
     "output_type": "stream",
     "text": [
      "C:\\Users\\KIIT\\AppData\\Local\\Temp\\ipykernel_5320\\2248056373.py:13: RuntimeWarning: divide by zero encountered in double_scalars\n",
      "  grad_orientation = math.degrees(math.atan(abs(diff2/diff1)))\n"
     ]
    },
    {
     "name": "stdout",
     "output_type": "stream",
     "text": [
      "32768\n",
      "38092\n",
      "33996\n",
      "27238\n",
      "28057\n",
      "21708\n",
      "46694\n",
      "52633\n",
      "33177\n",
      "40550\n",
      "33792\n",
      "37683\n",
      "33996\n",
      "27648\n",
      "28262\n",
      "22323\n",
      "45465\n",
      "51200\n",
      "31948\n",
      "38912\n",
      "33792\n",
      "37888\n",
      "32768\n",
      "27648\n",
      "29900\n",
      "21708\n",
      "45465\n",
      "49766\n",
      "32358\n"
     ]
    },
    {
     "name": "stderr",
     "output_type": "stream",
     "text": [
      "C:\\Users\\KIIT\\AppData\\Local\\Temp\\ipykernel_5320\\2248056373.py:13: RuntimeWarning: divide by zero encountered in double_scalars\n",
      "  grad_orientation = math.degrees(math.atan(abs(diff2/diff1)))\n"
     ]
    },
    {
     "name": "stdout",
     "output_type": "stream",
     "text": [
      "38297\n",
      "33792\n",
      "37683\n",
      "34816\n",
      "27852\n",
      "files saved\n"
     ]
    }
   ],
   "source": [
    "result_features = []\n",
    "for i in range(1,21):\n",
    "        folder_path = base_path2 + 'S' + str(i) +'_2' + '\\\\'\n",
    "        for j in range(0,10):\n",
    "            if i < 10:\n",
    "                file_name = folder_path + 's0' + str(i) + '_video' + str(j) + '.csv'\n",
    "                f_name = folder_path + 's0' + str(i) + '_video' + str(j)\n",
    "            else:\n",
    "                file_name = folder_path + 's' + str(i) + '_video' + str(j) + '.csv'\n",
    "                f_name = folder_path + 's' + str(i) + '_video' + str(j)\n",
    "            #print(file_name)\n",
    "            data = pd.read_csv(file_name,header=None)\n",
    "            arr = np.array(data)\n",
    "            #print(data)\n",
    "            result = arr.flatten()\n",
    "            #print(result)\n",
    "            #print(len(result))\n",
    "            feature_matrix = get_feature_matrix(result)\n",
    "            #print(feature_matrix)\n",
    "            print(len(feature_matrix))\n",
    "            feature_matrix_list=feature_matrix.tolist()\n",
    "            output_file = f_name + '_features(five_block).csv'\n",
    "            with open(output_file, 'w', newline='') as file:\n",
    "                writer = csv.writer(file)\n",
    "                for row in feature_matrix_list:\n",
    "                    writer.writerow([row])\n",
    "print('files saved')"
   ]
  },
  {
   "cell_type": "markdown",
   "id": "67ff94dc",
   "metadata": {},
   "source": [
    "Three Second Data"
   ]
  },
  {
   "cell_type": "code",
   "execution_count": 9,
   "id": "108045d6",
   "metadata": {},
   "outputs": [],
   "source": [
    "base_path3 = 'C:\\\\Users\\\\KIIT\\\\Documents\\\\Minor Project\\\\DataSet_3sec\\\\'"
   ]
  },
  {
   "cell_type": "code",
   "execution_count": 10,
   "id": "ee774ea6",
   "metadata": {},
   "outputs": [
    {
     "name": "stdout",
     "output_type": "stream",
     "text": [
      "27033\n",
      "21196\n",
      "44544\n",
      "49459\n",
      "31948\n",
      "36864\n",
      "32563\n"
     ]
    },
    {
     "name": "stderr",
     "output_type": "stream",
     "text": [
      "C:\\Users\\KIIT\\AppData\\Local\\Temp\\ipykernel_5320\\2248056373.py:13: RuntimeWarning: divide by zero encountered in double_scalars\n",
      "  grad_orientation = math.degrees(math.atan(abs(diff2/diff1)))\n"
     ]
    },
    {
     "name": "stdout",
     "output_type": "stream",
     "text": [
      "37171\n",
      "32870\n",
      "26112\n"
     ]
    },
    {
     "name": "stderr",
     "output_type": "stream",
     "text": [
      "C:\\Users\\KIIT\\AppData\\Local\\Temp\\ipykernel_5320\\2248056373.py:13: RuntimeWarning: divide by zero encountered in double_scalars\n",
      "  grad_orientation = math.degrees(math.atan(abs(diff2/diff1)))\n"
     ]
    },
    {
     "name": "stdout",
     "output_type": "stream",
     "text": [
      "29798\n"
     ]
    },
    {
     "name": "stderr",
     "output_type": "stream",
     "text": [
      "C:\\Users\\KIIT\\AppData\\Local\\Temp\\ipykernel_5320\\2248056373.py:13: RuntimeWarning: divide by zero encountered in double_scalars\n",
      "  grad_orientation = math.degrees(math.atan(abs(diff2/diff1)))\n"
     ]
    },
    {
     "name": "stdout",
     "output_type": "stream",
     "text": [
      "22425\n"
     ]
    },
    {
     "name": "stderr",
     "output_type": "stream",
     "text": [
      "C:\\Users\\KIIT\\AppData\\Local\\Temp\\ipykernel_5320\\2248056373.py:13: RuntimeWarning: divide by zero encountered in double_scalars\n",
      "  grad_orientation = math.degrees(math.atan(abs(diff2/diff1)))\n"
     ]
    },
    {
     "name": "stdout",
     "output_type": "stream",
     "text": [
      "43622\n"
     ]
    },
    {
     "name": "stderr",
     "output_type": "stream",
     "text": [
      "C:\\Users\\KIIT\\AppData\\Local\\Temp\\ipykernel_5320\\2248056373.py:13: RuntimeWarning: divide by zero encountered in double_scalars\n",
      "  grad_orientation = math.degrees(math.atan(abs(diff2/diff1)))\n"
     ]
    },
    {
     "name": "stdout",
     "output_type": "stream",
     "text": [
      "50688\n"
     ]
    },
    {
     "name": "stderr",
     "output_type": "stream",
     "text": [
      "C:\\Users\\KIIT\\AppData\\Local\\Temp\\ipykernel_5320\\2248056373.py:13: RuntimeWarning: divide by zero encountered in double_scalars\n",
      "  grad_orientation = math.degrees(math.atan(abs(diff2/diff1)))\n"
     ]
    },
    {
     "name": "stdout",
     "output_type": "stream",
     "text": [
      "32256\n",
      "36556\n",
      "32563\n",
      "37785\n",
      "33177\n",
      "26419\n"
     ]
    },
    {
     "name": "stderr",
     "output_type": "stream",
     "text": [
      "C:\\Users\\KIIT\\AppData\\Local\\Temp\\ipykernel_5320\\2248056373.py:13: RuntimeWarning: divide by zero encountered in double_scalars\n",
      "  grad_orientation = math.degrees(math.atan(abs(diff2/diff1)))\n"
     ]
    },
    {
     "name": "stdout",
     "output_type": "stream",
     "text": [
      "28569\n"
     ]
    },
    {
     "name": "stderr",
     "output_type": "stream",
     "text": [
      "C:\\Users\\KIIT\\AppData\\Local\\Temp\\ipykernel_5320\\2248056373.py:13: RuntimeWarning: divide by zero encountered in double_scalars\n",
      "  grad_orientation = math.degrees(math.atan(abs(diff2/diff1)))\n"
     ]
    },
    {
     "name": "stdout",
     "output_type": "stream",
     "text": [
      "21504\n"
     ]
    },
    {
     "name": "stderr",
     "output_type": "stream",
     "text": [
      "C:\\Users\\KIIT\\AppData\\Local\\Temp\\ipykernel_5320\\2248056373.py:13: RuntimeWarning: divide by zero encountered in double_scalars\n",
      "  grad_orientation = math.degrees(math.atan(abs(diff2/diff1)))\n"
     ]
    },
    {
     "name": "stdout",
     "output_type": "stream",
     "text": [
      "44851\n"
     ]
    },
    {
     "name": "stderr",
     "output_type": "stream",
     "text": [
      "C:\\Users\\KIIT\\AppData\\Local\\Temp\\ipykernel_5320\\2248056373.py:13: RuntimeWarning: divide by zero encountered in double_scalars\n",
      "  grad_orientation = math.degrees(math.atan(abs(diff2/diff1)))\n"
     ]
    },
    {
     "name": "stdout",
     "output_type": "stream",
     "text": [
      "49459\n"
     ]
    },
    {
     "name": "stderr",
     "output_type": "stream",
     "text": [
      "C:\\Users\\KIIT\\AppData\\Local\\Temp\\ipykernel_5320\\2248056373.py:13: RuntimeWarning: divide by zero encountered in double_scalars\n",
      "  grad_orientation = math.degrees(math.atan(abs(diff2/diff1)))\n"
     ]
    },
    {
     "name": "stdout",
     "output_type": "stream",
     "text": [
      "31948\n"
     ]
    },
    {
     "name": "stderr",
     "output_type": "stream",
     "text": [
      "C:\\Users\\KIIT\\AppData\\Local\\Temp\\ipykernel_5320\\2248056373.py:13: RuntimeWarning: divide by zero encountered in double_scalars\n",
      "  grad_orientation = math.degrees(math.atan(abs(diff2/diff1)))\n"
     ]
    },
    {
     "name": "stdout",
     "output_type": "stream",
     "text": [
      "37171\n"
     ]
    },
    {
     "name": "stderr",
     "output_type": "stream",
     "text": [
      "C:\\Users\\KIIT\\AppData\\Local\\Temp\\ipykernel_5320\\2248056373.py:13: RuntimeWarning: divide by zero encountered in double_scalars\n",
      "  grad_orientation = math.degrees(math.atan(abs(diff2/diff1)))\n"
     ]
    },
    {
     "name": "stdout",
     "output_type": "stream",
     "text": [
      "31948\n"
     ]
    },
    {
     "name": "stderr",
     "output_type": "stream",
     "text": [
      "C:\\Users\\KIIT\\AppData\\Local\\Temp\\ipykernel_5320\\2248056373.py:13: RuntimeWarning: divide by zero encountered in double_scalars\n",
      "  grad_orientation = math.degrees(math.atan(abs(diff2/diff1)))\n"
     ]
    },
    {
     "name": "stdout",
     "output_type": "stream",
     "text": [
      "35942\n"
     ]
    },
    {
     "name": "stderr",
     "output_type": "stream",
     "text": [
      "C:\\Users\\KIIT\\AppData\\Local\\Temp\\ipykernel_5320\\2248056373.py:13: RuntimeWarning: divide by zero encountered in double_scalars\n",
      "  grad_orientation = math.degrees(math.atan(abs(diff2/diff1)))\n"
     ]
    },
    {
     "name": "stdout",
     "output_type": "stream",
     "text": [
      "31334\n",
      "25497\n"
     ]
    },
    {
     "name": "stderr",
     "output_type": "stream",
     "text": [
      "C:\\Users\\KIIT\\AppData\\Local\\Temp\\ipykernel_5320\\2248056373.py:13: RuntimeWarning: divide by zero encountered in double_scalars\n",
      "  grad_orientation = math.degrees(math.atan(abs(diff2/diff1)))\n"
     ]
    },
    {
     "name": "stdout",
     "output_type": "stream",
     "text": [
      "27340\n"
     ]
    },
    {
     "name": "stderr",
     "output_type": "stream",
     "text": [
      "C:\\Users\\KIIT\\AppData\\Local\\Temp\\ipykernel_5320\\2248056373.py:13: RuntimeWarning: divide by zero encountered in double_scalars\n",
      "  grad_orientation = math.degrees(math.atan(abs(diff2/diff1)))\n"
     ]
    },
    {
     "name": "stdout",
     "output_type": "stream",
     "text": [
      "20889\n"
     ]
    },
    {
     "name": "stderr",
     "output_type": "stream",
     "text": [
      "C:\\Users\\KIIT\\AppData\\Local\\Temp\\ipykernel_5320\\2248056373.py:13: RuntimeWarning: divide by zero encountered in double_scalars\n",
      "  grad_orientation = math.degrees(math.atan(abs(diff2/diff1)))\n"
     ]
    },
    {
     "name": "stdout",
     "output_type": "stream",
     "text": [
      "46694\n",
      "50380\n",
      "33484\n"
     ]
    },
    {
     "name": "stderr",
     "output_type": "stream",
     "text": [
      "C:\\Users\\KIIT\\AppData\\Local\\Temp\\ipykernel_5320\\2248056373.py:13: RuntimeWarning: divide by zero encountered in double_scalars\n",
      "  grad_orientation = math.degrees(math.atan(abs(diff2/diff1)))\n"
     ]
    },
    {
     "name": "stdout",
     "output_type": "stream",
     "text": [
      "37785\n"
     ]
    },
    {
     "name": "stderr",
     "output_type": "stream",
     "text": [
      "C:\\Users\\KIIT\\AppData\\Local\\Temp\\ipykernel_5320\\2248056373.py:13: RuntimeWarning: divide by zero encountered in double_scalars\n",
      "  grad_orientation = math.degrees(math.atan(abs(diff2/diff1)))\n"
     ]
    },
    {
     "name": "stdout",
     "output_type": "stream",
     "text": [
      "31334\n"
     ]
    },
    {
     "name": "stderr",
     "output_type": "stream",
     "text": [
      "C:\\Users\\KIIT\\AppData\\Local\\Temp\\ipykernel_5320\\2248056373.py:13: RuntimeWarning: divide by zero encountered in double_scalars\n",
      "  grad_orientation = math.degrees(math.atan(abs(diff2/diff1)))\n"
     ]
    },
    {
     "name": "stdout",
     "output_type": "stream",
     "text": [
      "37171\n",
      "31948\n",
      "26419\n"
     ]
    },
    {
     "name": "stderr",
     "output_type": "stream",
     "text": [
      "C:\\Users\\KIIT\\AppData\\Local\\Temp\\ipykernel_5320\\2248056373.py:13: RuntimeWarning: divide by zero encountered in double_scalars\n",
      "  grad_orientation = math.degrees(math.atan(abs(diff2/diff1)))\n"
     ]
    },
    {
     "name": "stdout",
     "output_type": "stream",
     "text": [
      "29184\n"
     ]
    },
    {
     "name": "stderr",
     "output_type": "stream",
     "text": [
      "C:\\Users\\KIIT\\AppData\\Local\\Temp\\ipykernel_5320\\2248056373.py:13: RuntimeWarning: divide by zero encountered in double_scalars\n",
      "  grad_orientation = math.degrees(math.atan(abs(diff2/diff1)))\n"
     ]
    },
    {
     "name": "stdout",
     "output_type": "stream",
     "text": [
      "20889\n"
     ]
    },
    {
     "name": "stderr",
     "output_type": "stream",
     "text": [
      "C:\\Users\\KIIT\\AppData\\Local\\Temp\\ipykernel_5320\\2248056373.py:13: RuntimeWarning: divide by zero encountered in double_scalars\n",
      "  grad_orientation = math.degrees(math.atan(abs(diff2/diff1)))\n"
     ]
    },
    {
     "name": "stdout",
     "output_type": "stream",
     "text": [
      "45158\n"
     ]
    },
    {
     "name": "stderr",
     "output_type": "stream",
     "text": [
      "C:\\Users\\KIIT\\AppData\\Local\\Temp\\ipykernel_5320\\2248056373.py:13: RuntimeWarning: divide by zero encountered in double_scalars\n",
      "  grad_orientation = math.degrees(math.atan(abs(diff2/diff1)))\n"
     ]
    },
    {
     "name": "stdout",
     "output_type": "stream",
     "text": [
      "49766\n"
     ]
    },
    {
     "name": "stderr",
     "output_type": "stream",
     "text": [
      "C:\\Users\\KIIT\\AppData\\Local\\Temp\\ipykernel_5320\\2248056373.py:13: RuntimeWarning: divide by zero encountered in double_scalars\n",
      "  grad_orientation = math.degrees(math.atan(abs(diff2/diff1)))\n"
     ]
    },
    {
     "name": "stdout",
     "output_type": "stream",
     "text": [
      "31334\n"
     ]
    },
    {
     "name": "stderr",
     "output_type": "stream",
     "text": [
      "C:\\Users\\KIIT\\AppData\\Local\\Temp\\ipykernel_5320\\2248056373.py:13: RuntimeWarning: divide by zero encountered in double_scalars\n",
      "  grad_orientation = math.degrees(math.atan(abs(diff2/diff1)))\n"
     ]
    },
    {
     "name": "stdout",
     "output_type": "stream",
     "text": [
      "39628\n"
     ]
    },
    {
     "name": "stderr",
     "output_type": "stream",
     "text": [
      "C:\\Users\\KIIT\\AppData\\Local\\Temp\\ipykernel_5320\\2248056373.py:13: RuntimeWarning: divide by zero encountered in double_scalars\n",
      "  grad_orientation = math.degrees(math.atan(abs(diff2/diff1)))\n"
     ]
    },
    {
     "name": "stdout",
     "output_type": "stream",
     "text": [
      "32563\n"
     ]
    },
    {
     "name": "stderr",
     "output_type": "stream",
     "text": [
      "C:\\Users\\KIIT\\AppData\\Local\\Temp\\ipykernel_5320\\2248056373.py:13: RuntimeWarning: divide by zero encountered in double_scalars\n",
      "  grad_orientation = math.degrees(math.atan(abs(diff2/diff1)))\n"
     ]
    },
    {
     "name": "stdout",
     "output_type": "stream",
     "text": [
      "37478\n",
      "32563\n"
     ]
    },
    {
     "name": "stderr",
     "output_type": "stream",
     "text": [
      "C:\\Users\\KIIT\\AppData\\Local\\Temp\\ipykernel_5320\\2248056373.py:13: RuntimeWarning: divide by zero encountered in double_scalars\n",
      "  grad_orientation = math.degrees(math.atan(abs(diff2/diff1)))\n"
     ]
    },
    {
     "name": "stdout",
     "output_type": "stream",
     "text": [
      "25804\n"
     ]
    },
    {
     "name": "stderr",
     "output_type": "stream",
     "text": [
      "C:\\Users\\KIIT\\AppData\\Local\\Temp\\ipykernel_5320\\2248056373.py:13: RuntimeWarning: divide by zero encountered in double_scalars\n",
      "  grad_orientation = math.degrees(math.atan(abs(diff2/diff1)))\n"
     ]
    },
    {
     "name": "stdout",
     "output_type": "stream",
     "text": [
      "28262\n",
      "21504\n"
     ]
    },
    {
     "name": "stderr",
     "output_type": "stream",
     "text": [
      "C:\\Users\\KIIT\\AppData\\Local\\Temp\\ipykernel_5320\\2248056373.py:13: RuntimeWarning: divide by zero encountered in double_scalars\n",
      "  grad_orientation = math.degrees(math.atan(abs(diff2/diff1)))\n"
     ]
    },
    {
     "name": "stdout",
     "output_type": "stream",
     "text": [
      "45158\n"
     ]
    },
    {
     "name": "stderr",
     "output_type": "stream",
     "text": [
      "C:\\Users\\KIIT\\AppData\\Local\\Temp\\ipykernel_5320\\2248056373.py:13: RuntimeWarning: divide by zero encountered in double_scalars\n",
      "  grad_orientation = math.degrees(math.atan(abs(diff2/diff1)))\n"
     ]
    },
    {
     "name": "stdout",
     "output_type": "stream",
     "text": [
      "48230\n"
     ]
    },
    {
     "name": "stderr",
     "output_type": "stream",
     "text": [
      "C:\\Users\\KIIT\\AppData\\Local\\Temp\\ipykernel_5320\\2248056373.py:13: RuntimeWarning: divide by zero encountered in double_scalars\n",
      "  grad_orientation = math.degrees(math.atan(abs(diff2/diff1)))\n"
     ]
    },
    {
     "name": "stdout",
     "output_type": "stream",
     "text": [
      "31027\n"
     ]
    },
    {
     "name": "stderr",
     "output_type": "stream",
     "text": [
      "C:\\Users\\KIIT\\AppData\\Local\\Temp\\ipykernel_5320\\2248056373.py:13: RuntimeWarning: divide by zero encountered in double_scalars\n",
      "  grad_orientation = math.degrees(math.atan(abs(diff2/diff1)))\n"
     ]
    },
    {
     "name": "stdout",
     "output_type": "stream",
     "text": [
      "39936\n"
     ]
    },
    {
     "name": "stderr",
     "output_type": "stream",
     "text": [
      "C:\\Users\\KIIT\\AppData\\Local\\Temp\\ipykernel_5320\\2248056373.py:13: RuntimeWarning: divide by zero encountered in double_scalars\n",
      "  grad_orientation = math.degrees(math.atan(abs(diff2/diff1)))\n"
     ]
    },
    {
     "name": "stdout",
     "output_type": "stream",
     "text": [
      "31948\n",
      "37478\n",
      "33484\n",
      "25804\n"
     ]
    },
    {
     "name": "stderr",
     "output_type": "stream",
     "text": [
      "C:\\Users\\KIIT\\AppData\\Local\\Temp\\ipykernel_5320\\2248056373.py:13: RuntimeWarning: divide by zero encountered in double_scalars\n",
      "  grad_orientation = math.degrees(math.atan(abs(diff2/diff1)))\n"
     ]
    },
    {
     "name": "stdout",
     "output_type": "stream",
     "text": [
      "27955\n",
      "20275\n",
      "44544\n",
      "48844\n"
     ]
    },
    {
     "name": "stderr",
     "output_type": "stream",
     "text": [
      "C:\\Users\\KIIT\\AppData\\Local\\Temp\\ipykernel_5320\\2248056373.py:13: RuntimeWarning: divide by zero encountered in double_scalars\n",
      "  grad_orientation = math.degrees(math.atan(abs(diff2/diff1)))\n"
     ]
    },
    {
     "name": "stdout",
     "output_type": "stream",
     "text": [
      "31948\n"
     ]
    },
    {
     "name": "stderr",
     "output_type": "stream",
     "text": [
      "C:\\Users\\KIIT\\AppData\\Local\\Temp\\ipykernel_5320\\2248056373.py:13: RuntimeWarning: divide by zero encountered in double_scalars\n",
      "  grad_orientation = math.degrees(math.atan(abs(diff2/diff1)))\n"
     ]
    },
    {
     "name": "stdout",
     "output_type": "stream",
     "text": [
      "37478\n"
     ]
    },
    {
     "name": "stderr",
     "output_type": "stream",
     "text": [
      "C:\\Users\\KIIT\\AppData\\Local\\Temp\\ipykernel_5320\\2248056373.py:13: RuntimeWarning: divide by zero encountered in double_scalars\n",
      "  grad_orientation = math.degrees(math.atan(abs(diff2/diff1)))\n"
     ]
    },
    {
     "name": "stdout",
     "output_type": "stream",
     "text": [
      "32870\n"
     ]
    },
    {
     "name": "stderr",
     "output_type": "stream",
     "text": [
      "C:\\Users\\KIIT\\AppData\\Local\\Temp\\ipykernel_5320\\2248056373.py:13: RuntimeWarning: divide by zero encountered in double_scalars\n",
      "  grad_orientation = math.degrees(math.atan(abs(diff2/diff1)))\n"
     ]
    },
    {
     "name": "stdout",
     "output_type": "stream",
     "text": [
      "37478\n"
     ]
    },
    {
     "name": "stderr",
     "output_type": "stream",
     "text": [
      "C:\\Users\\KIIT\\AppData\\Local\\Temp\\ipykernel_5320\\2248056373.py:13: RuntimeWarning: divide by zero encountered in double_scalars\n",
      "  grad_orientation = math.degrees(math.atan(abs(diff2/diff1)))\n"
     ]
    },
    {
     "name": "stdout",
     "output_type": "stream",
     "text": [
      "32256\n"
     ]
    },
    {
     "name": "stderr",
     "output_type": "stream",
     "text": [
      "C:\\Users\\KIIT\\AppData\\Local\\Temp\\ipykernel_5320\\2248056373.py:13: RuntimeWarning: divide by zero encountered in double_scalars\n",
      "  grad_orientation = math.degrees(math.atan(abs(diff2/diff1)))\n"
     ]
    },
    {
     "name": "stdout",
     "output_type": "stream",
     "text": [
      "26419\n",
      "28569\n",
      "20582\n",
      "44236\n",
      "48844\n",
      "31334\n"
     ]
    },
    {
     "name": "stderr",
     "output_type": "stream",
     "text": [
      "C:\\Users\\KIIT\\AppData\\Local\\Temp\\ipykernel_5320\\2248056373.py:13: RuntimeWarning: divide by zero encountered in double_scalars\n",
      "  grad_orientation = math.degrees(math.atan(abs(diff2/diff1)))\n"
     ]
    },
    {
     "name": "stdout",
     "output_type": "stream",
     "text": [
      "37785\n",
      "31334\n",
      "36864\n",
      "32563\n",
      "25497\n"
     ]
    },
    {
     "name": "stderr",
     "output_type": "stream",
     "text": [
      "C:\\Users\\KIIT\\AppData\\Local\\Temp\\ipykernel_5320\\2248056373.py:13: RuntimeWarning: divide by zero encountered in double_scalars\n",
      "  grad_orientation = math.degrees(math.atan(abs(diff2/diff1)))\n"
     ]
    },
    {
     "name": "stdout",
     "output_type": "stream",
     "text": [
      "29184\n"
     ]
    },
    {
     "name": "stderr",
     "output_type": "stream",
     "text": [
      "C:\\Users\\KIIT\\AppData\\Local\\Temp\\ipykernel_5320\\2248056373.py:13: RuntimeWarning: divide by zero encountered in double_scalars\n",
      "  grad_orientation = math.degrees(math.atan(abs(diff2/diff1)))\n"
     ]
    },
    {
     "name": "stdout",
     "output_type": "stream",
     "text": [
      "21504\n",
      "44851\n"
     ]
    },
    {
     "name": "stderr",
     "output_type": "stream",
     "text": [
      "C:\\Users\\KIIT\\AppData\\Local\\Temp\\ipykernel_5320\\2248056373.py:13: RuntimeWarning: divide by zero encountered in double_scalars\n",
      "  grad_orientation = math.degrees(math.atan(abs(diff2/diff1)))\n"
     ]
    },
    {
     "name": "stdout",
     "output_type": "stream",
     "text": [
      "51916\n"
     ]
    },
    {
     "name": "stderr",
     "output_type": "stream",
     "text": [
      "C:\\Users\\KIIT\\AppData\\Local\\Temp\\ipykernel_5320\\2248056373.py:13: RuntimeWarning: divide by zero encountered in double_scalars\n",
      "  grad_orientation = math.degrees(math.atan(abs(diff2/diff1)))\n"
     ]
    },
    {
     "name": "stdout",
     "output_type": "stream",
     "text": [
      "32563\n"
     ]
    },
    {
     "name": "stderr",
     "output_type": "stream",
     "text": [
      "C:\\Users\\KIIT\\AppData\\Local\\Temp\\ipykernel_5320\\2248056373.py:13: RuntimeWarning: divide by zero encountered in double_scalars\n",
      "  grad_orientation = math.degrees(math.atan(abs(diff2/diff1)))\n"
     ]
    },
    {
     "name": "stdout",
     "output_type": "stream",
     "text": [
      "38400\n"
     ]
    },
    {
     "name": "stderr",
     "output_type": "stream",
     "text": [
      "C:\\Users\\KIIT\\AppData\\Local\\Temp\\ipykernel_5320\\2248056373.py:13: RuntimeWarning: divide by zero encountered in double_scalars\n",
      "  grad_orientation = math.degrees(math.atan(abs(diff2/diff1)))\n"
     ]
    },
    {
     "name": "stdout",
     "output_type": "stream",
     "text": [
      "31641\n"
     ]
    },
    {
     "name": "stderr",
     "output_type": "stream",
     "text": [
      "C:\\Users\\KIIT\\AppData\\Local\\Temp\\ipykernel_5320\\2248056373.py:13: RuntimeWarning: divide by zero encountered in double_scalars\n",
      "  grad_orientation = math.degrees(math.atan(abs(diff2/diff1)))\n"
     ]
    },
    {
     "name": "stdout",
     "output_type": "stream",
     "text": [
      "31641\n"
     ]
    },
    {
     "name": "stderr",
     "output_type": "stream",
     "text": [
      "C:\\Users\\KIIT\\AppData\\Local\\Temp\\ipykernel_5320\\2248056373.py:13: RuntimeWarning: divide by zero encountered in double_scalars\n",
      "  grad_orientation = math.degrees(math.atan(abs(diff2/diff1)))\n"
     ]
    },
    {
     "name": "stdout",
     "output_type": "stream",
     "text": [
      "31641\n",
      "25190\n"
     ]
    },
    {
     "name": "stderr",
     "output_type": "stream",
     "text": [
      "C:\\Users\\KIIT\\AppData\\Local\\Temp\\ipykernel_5320\\2248056373.py:13: RuntimeWarning: divide by zero encountered in double_scalars\n",
      "  grad_orientation = math.degrees(math.atan(abs(diff2/diff1)))\n"
     ]
    },
    {
     "name": "stdout",
     "output_type": "stream",
     "text": [
      "28569\n",
      "21196\n",
      "43315\n",
      "49459\n"
     ]
    },
    {
     "name": "stderr",
     "output_type": "stream",
     "text": [
      "C:\\Users\\KIIT\\AppData\\Local\\Temp\\ipykernel_5320\\2248056373.py:13: RuntimeWarning: divide by zero encountered in double_scalars\n",
      "  grad_orientation = math.degrees(math.atan(abs(diff2/diff1)))\n"
     ]
    },
    {
     "name": "stdout",
     "output_type": "stream",
     "text": [
      "33177\n"
     ]
    },
    {
     "name": "stderr",
     "output_type": "stream",
     "text": [
      "C:\\Users\\KIIT\\AppData\\Local\\Temp\\ipykernel_5320\\2248056373.py:13: RuntimeWarning: divide by zero encountered in double_scalars\n",
      "  grad_orientation = math.degrees(math.atan(abs(diff2/diff1)))\n"
     ]
    },
    {
     "name": "stdout",
     "output_type": "stream",
     "text": [
      "37171\n"
     ]
    },
    {
     "name": "stderr",
     "output_type": "stream",
     "text": [
      "C:\\Users\\KIIT\\AppData\\Local\\Temp\\ipykernel_5320\\2248056373.py:13: RuntimeWarning: divide by zero encountered in double_scalars\n",
      "  grad_orientation = math.degrees(math.atan(abs(diff2/diff1)))\n"
     ]
    },
    {
     "name": "stdout",
     "output_type": "stream",
     "text": [
      "32870\n",
      "37171\n"
     ]
    },
    {
     "name": "stderr",
     "output_type": "stream",
     "text": [
      "C:\\Users\\KIIT\\AppData\\Local\\Temp\\ipykernel_5320\\2248056373.py:13: RuntimeWarning: divide by zero encountered in double_scalars\n",
      "  grad_orientation = math.degrees(math.atan(abs(diff2/diff1)))\n"
     ]
    },
    {
     "name": "stdout",
     "output_type": "stream",
     "text": [
      "32256\n"
     ]
    },
    {
     "name": "stderr",
     "output_type": "stream",
     "text": [
      "C:\\Users\\KIIT\\AppData\\Local\\Temp\\ipykernel_5320\\2248056373.py:13: RuntimeWarning: divide by zero encountered in double_scalars\n",
      "  grad_orientation = math.degrees(math.atan(abs(diff2/diff1)))\n"
     ]
    },
    {
     "name": "stdout",
     "output_type": "stream",
     "text": [
      "26726\n",
      "29184\n"
     ]
    },
    {
     "name": "stderr",
     "output_type": "stream",
     "text": [
      "C:\\Users\\KIIT\\AppData\\Local\\Temp\\ipykernel_5320\\2248056373.py:13: RuntimeWarning: divide by zero encountered in double_scalars\n",
      "  grad_orientation = math.degrees(math.atan(abs(diff2/diff1)))\n"
     ]
    },
    {
     "name": "stdout",
     "output_type": "stream",
     "text": [
      "22118\n",
      "44851\n",
      "51916\n",
      "34099\n",
      "38092\n",
      "34406\n",
      "34406\n",
      "32563\n",
      "26419\n",
      "28262\n",
      "21811\n",
      "46080\n",
      "53760\n",
      "33177\n",
      "43008\n",
      "33792\n",
      "38400\n",
      "32563\n",
      "27648\n",
      "29491\n",
      "22118\n",
      "45772\n",
      "51609\n",
      "32563\n",
      "39014\n",
      "34099\n",
      "38707\n",
      "34099\n",
      "26726\n",
      "31948\n",
      "22732\n",
      "46080\n",
      "49766\n",
      "33484\n",
      "38707\n",
      "34099\n",
      "38092\n",
      "33484\n",
      "27033\n",
      "30105\n",
      "22425\n",
      "46080\n",
      "50995\n",
      "33792\n",
      "47616\n",
      "34099\n",
      "38707\n",
      "35328\n",
      "26112\n",
      "30720\n",
      "27033\n",
      "46387\n",
      "51609\n",
      "33177\n",
      "37785\n",
      "32563\n",
      "37171\n",
      "33484\n",
      "27033\n",
      "29798\n",
      "23040\n",
      "46387\n",
      "51916\n",
      "32256\n",
      "38707\n"
     ]
    },
    {
     "name": "stderr",
     "output_type": "stream",
     "text": [
      "C:\\Users\\KIIT\\AppData\\Local\\Temp\\ipykernel_5320\\2248056373.py:13: RuntimeWarning: divide by zero encountered in double_scalars\n",
      "  grad_orientation = math.degrees(math.atan(abs(diff2/diff1)))\n"
     ]
    },
    {
     "name": "stdout",
     "output_type": "stream",
     "text": [
      "32870\n",
      "38092\n",
      "33792\n",
      "27033\n",
      "27955\n",
      "21811\n",
      "46694\n",
      "52531\n",
      "33177\n",
      "40550\n",
      "33792\n",
      "37785\n",
      "33792\n",
      "27648\n",
      "28262\n",
      "22425\n",
      "45465\n",
      "50995\n",
      "31948\n",
      "39014\n",
      "33792\n",
      "37785\n",
      "32870\n",
      "27648\n",
      "29798\n",
      "21811\n",
      "45465\n",
      "49766\n",
      "32256\n"
     ]
    },
    {
     "name": "stderr",
     "output_type": "stream",
     "text": [
      "C:\\Users\\KIIT\\AppData\\Local\\Temp\\ipykernel_5320\\2248056373.py:13: RuntimeWarning: divide by zero encountered in double_scalars\n",
      "  grad_orientation = math.degrees(math.atan(abs(diff2/diff1)))\n"
     ]
    },
    {
     "name": "stdout",
     "output_type": "stream",
     "text": [
      "38092\n",
      "33792\n",
      "37785\n",
      "34713\n",
      "27648\n",
      "files saved\n"
     ]
    }
   ],
   "source": [
    "result_features = []\n",
    "for i in range(1,21):\n",
    "        folder_path = base_path3 + 'S' + str(i) +'_3' + '\\\\'\n",
    "        for j in range(0,10):\n",
    "            if i < 10:\n",
    "                file_name = folder_path + 's0' + str(i) + '_video' + str(j) + '.csv'\n",
    "                f_name = folder_path + 's0' + str(i) + '_video' + str(j)\n",
    "            else:\n",
    "                file_name = folder_path + 's' + str(i) + '_video' + str(j) + '.csv'\n",
    "                f_name = folder_path + 's' + str(i) + '_video' + str(j)\n",
    "            #print(file_name)\n",
    "            data = pd.read_csv(file_name,header=None)\n",
    "            arr = np.array(data)\n",
    "            #print(data)\n",
    "            result = arr.flatten()\n",
    "            #print(result)\n",
    "            #print(len(result))\n",
    "            feature_matrix = get_feature_matrix(result)\n",
    "            #print(feature_matrix)\n",
    "            print(len(feature_matrix))\n",
    "            feature_matrix_list=feature_matrix.tolist()\n",
    "            output_file = f_name + '_features(five_block).csv'\n",
    "            with open(output_file, 'w', newline='') as file:\n",
    "                writer = csv.writer(file)\n",
    "                for row in feature_matrix_list:\n",
    "                    writer.writerow([row])\n",
    "print('files saved')"
   ]
  },
  {
   "cell_type": "code",
   "execution_count": null,
   "id": "644c805d",
   "metadata": {},
   "outputs": [],
   "source": []
  }
 ],
 "metadata": {
  "kernelspec": {
   "display_name": "Python 3 (ipykernel)",
   "language": "python",
   "name": "python3"
  },
  "language_info": {
   "codemirror_mode": {
    "name": "ipython",
    "version": 3
   },
   "file_extension": ".py",
   "mimetype": "text/x-python",
   "name": "python",
   "nbconvert_exporter": "python",
   "pygments_lexer": "ipython3",
   "version": "3.9.13"
  }
 },
 "nbformat": 4,
 "nbformat_minor": 5
}
