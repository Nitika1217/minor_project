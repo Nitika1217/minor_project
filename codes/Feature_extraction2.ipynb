{
 "cells": [
  {
   "cell_type": "code",
   "execution_count": 2,
   "id": "bbb3d662",
   "metadata": {},
   "outputs": [],
   "source": [
    "import numpy as np\n",
    "\n",
    "import matplotlib.pyplot as plt\n",
    "import matplotlib.image as mpimg\n",
    "from skimage.feature import hog\n",
    "\n",
    "import pandas as pd\n",
    "import pywt\n",
    "\n",
    "import csv\n",
    "import math\n",
    "import random"
   ]
  },
  {
   "cell_type": "code",
   "execution_count": 3,
   "id": "ea233721",
   "metadata": {},
   "outputs": [],
   "source": [
    "def hog_magnitude_orientation(m0,m1,x,m2,m3):\n",
    "    \n",
    "    if m1-m2!=0:\n",
    "        diff1=m1-m2\n",
    "    else:\n",
    "        diff1=m1\n",
    "    if m0-m3!=0:\n",
    "        diff2=m0-m3\n",
    "    else:\n",
    "        diff2=m0\n",
    "\n",
    "    grad_magnitude = np.sqrt(diff1**2 + diff2**2)\n",
    "    grad_orientation = math.degrees(math.atan(abs(diff2/diff1)))\n",
    "    \n",
    "    return grad_magnitude , grad_orientation"
   ]
  },
  {
   "cell_type": "markdown",
   "id": "7f8725fa",
   "metadata": {},
   "source": [
    "# Seven Blocks"
   ]
  },
  {
   "cell_type": "code",
   "execution_count": 7,
   "id": "de7a1a36",
   "metadata": {},
   "outputs": [],
   "source": [
    "def get_feature_matrix(data):\n",
    "    hog_list_mag = np.array([])\n",
    "    hog_list_ori = np.array([])\n",
    "\n",
    "    for i in range(2, len(data), 7):\n",
    "        if i+3 < len(data):\n",
    "            m0 = min(data[i-3],data[i-2])\n",
    "            m1 = min(data[i-2],data[i-1])\n",
    "            m2 = min(data[i+1],data[i+2])\n",
    "            m3 = min(data[i+2],data[i+3])\n",
    "            grad_mag , grad_ori = (hog_magnitude_orientation(m0, m1, data[i], m2, m3))\n",
    "            #bin1 = int(grad_ori)\n",
    "            #bin2 = int(grad_ori) + 1\n",
    "            hog_list_mag =  np.append(hog_list_mag,[grad_mag])\n",
    "            #hog_list_ori += int(grad_ori)\n",
    "            #hog_list += (grad_ori-bin1) * grad_mag\n",
    "  \n",
    "    return hog_list_mag"
   ]
  },
  {
   "cell_type": "markdown",
   "id": "b1566551",
   "metadata": {},
   "source": [
    "One Second Data"
   ]
  },
  {
   "cell_type": "code",
   "execution_count": 8,
   "id": "a6e3cbc0",
   "metadata": {},
   "outputs": [],
   "source": [
    "base_path1 = 'C:\\\\Users\\\\KIIT\\\\Documents\\\\Minor Project\\\\DataSet_1sec\\\\'"
   ]
  },
  {
   "cell_type": "code",
   "execution_count": 9,
   "id": "42637263",
   "metadata": {},
   "outputs": [
    {
     "name": "stdout",
     "output_type": "stream",
     "text": [
      "19309\n",
      "15140\n",
      "31817\n",
      "35401\n",
      "22893\n"
     ]
    },
    {
     "name": "stderr",
     "output_type": "stream",
     "text": [
      "C:\\Users\\KIIT\\AppData\\Local\\Temp\\ipykernel_4448\\2248056373.py:13: RuntimeWarning: divide by zero encountered in double_scalars\n",
      "  grad_orientation = math.degrees(math.atan(abs(diff2/diff1)))\n"
     ]
    },
    {
     "name": "stdout",
     "output_type": "stream",
     "text": [
      "26404\n",
      "23259\n"
     ]
    },
    {
     "name": "stderr",
     "output_type": "stream",
     "text": [
      "C:\\Users\\KIIT\\AppData\\Local\\Temp\\ipykernel_4448\\2248056373.py:13: RuntimeWarning: divide by zero encountered in double_scalars\n",
      "  grad_orientation = math.degrees(math.atan(abs(diff2/diff1)))\n"
     ]
    },
    {
     "name": "stdout",
     "output_type": "stream",
     "text": [
      "26697\n",
      "23479\n",
      "18724\n"
     ]
    },
    {
     "name": "stderr",
     "output_type": "stream",
     "text": [
      "C:\\Users\\KIIT\\AppData\\Local\\Temp\\ipykernel_4448\\2248056373.py:13: RuntimeWarning: divide by zero encountered in double_scalars\n",
      "  grad_orientation = math.degrees(math.atan(abs(diff2/diff1)))\n"
     ]
    },
    {
     "name": "stdout",
     "output_type": "stream",
     "text": [
      "21284\n"
     ]
    },
    {
     "name": "stderr",
     "output_type": "stream",
     "text": [
      "C:\\Users\\KIIT\\AppData\\Local\\Temp\\ipykernel_4448\\2248056373.py:13: RuntimeWarning: divide by zero encountered in double_scalars\n",
      "  grad_orientation = math.degrees(math.atan(abs(diff2/diff1)))\n"
     ]
    },
    {
     "name": "stdout",
     "output_type": "stream",
     "text": [
      "16164\n"
     ]
    },
    {
     "name": "stderr",
     "output_type": "stream",
     "text": [
      "C:\\Users\\KIIT\\AppData\\Local\\Temp\\ipykernel_4448\\2248056373.py:13: RuntimeWarning: divide by zero encountered in double_scalars\n",
      "  grad_orientation = math.degrees(math.atan(abs(diff2/diff1)))\n"
     ]
    },
    {
     "name": "stdout",
     "output_type": "stream",
     "text": [
      "31159\n"
     ]
    },
    {
     "name": "stderr",
     "output_type": "stream",
     "text": [
      "C:\\Users\\KIIT\\AppData\\Local\\Temp\\ipykernel_4448\\2248056373.py:13: RuntimeWarning: divide by zero encountered in double_scalars\n",
      "  grad_orientation = math.degrees(math.atan(abs(diff2/diff1)))\n"
     ]
    },
    {
     "name": "stdout",
     "output_type": "stream",
     "text": [
      "36279\n"
     ]
    },
    {
     "name": "stderr",
     "output_type": "stream",
     "text": [
      "C:\\Users\\KIIT\\AppData\\Local\\Temp\\ipykernel_4448\\2248056373.py:13: RuntimeWarning: divide by zero encountered in double_scalars\n",
      "  grad_orientation = math.degrees(math.atan(abs(diff2/diff1)))\n"
     ]
    },
    {
     "name": "stdout",
     "output_type": "stream",
     "text": [
      "23040\n",
      "26185\n",
      "23259\n",
      "27136\n",
      "23844\n",
      "19017\n",
      "20407\n",
      "15360\n",
      "32036\n"
     ]
    },
    {
     "name": "stderr",
     "output_type": "stream",
     "text": [
      "C:\\Users\\KIIT\\AppData\\Local\\Temp\\ipykernel_4448\\2248056373.py:13: RuntimeWarning: divide by zero encountered in double_scalars\n",
      "  grad_orientation = math.degrees(math.atan(abs(diff2/diff1)))\n"
     ]
    },
    {
     "name": "stdout",
     "output_type": "stream",
     "text": [
      "35474\n"
     ]
    },
    {
     "name": "stderr",
     "output_type": "stream",
     "text": [
      "C:\\Users\\KIIT\\AppData\\Local\\Temp\\ipykernel_4448\\2248056373.py:13: RuntimeWarning: divide by zero encountered in double_scalars\n",
      "  grad_orientation = math.degrees(math.atan(abs(diff2/diff1)))\n"
     ]
    },
    {
     "name": "stdout",
     "output_type": "stream",
     "text": [
      "22967\n"
     ]
    },
    {
     "name": "stderr",
     "output_type": "stream",
     "text": [
      "C:\\Users\\KIIT\\AppData\\Local\\Temp\\ipykernel_4448\\2248056373.py:13: RuntimeWarning: divide by zero encountered in double_scalars\n",
      "  grad_orientation = math.degrees(math.atan(abs(diff2/diff1)))\n"
     ]
    },
    {
     "name": "stdout",
     "output_type": "stream",
     "text": [
      "26697\n"
     ]
    },
    {
     "name": "stderr",
     "output_type": "stream",
     "text": [
      "C:\\Users\\KIIT\\AppData\\Local\\Temp\\ipykernel_4448\\2248056373.py:13: RuntimeWarning: divide by zero encountered in double_scalars\n",
      "  grad_orientation = math.degrees(math.atan(abs(diff2/diff1)))\n"
     ]
    },
    {
     "name": "stdout",
     "output_type": "stream",
     "text": [
      "22893\n"
     ]
    },
    {
     "name": "stderr",
     "output_type": "stream",
     "text": [
      "C:\\Users\\KIIT\\AppData\\Local\\Temp\\ipykernel_4448\\2248056373.py:13: RuntimeWarning: divide by zero encountered in double_scalars\n",
      "  grad_orientation = math.degrees(math.atan(abs(diff2/diff1)))\n"
     ]
    },
    {
     "name": "stdout",
     "output_type": "stream",
     "text": [
      "25819\n"
     ]
    },
    {
     "name": "stderr",
     "output_type": "stream",
     "text": [
      "C:\\Users\\KIIT\\AppData\\Local\\Temp\\ipykernel_4448\\2248056373.py:13: RuntimeWarning: divide by zero encountered in double_scalars\n",
      "  grad_orientation = math.degrees(math.atan(abs(diff2/diff1)))\n"
     ]
    },
    {
     "name": "stdout",
     "output_type": "stream",
     "text": [
      "22381\n"
     ]
    },
    {
     "name": "stderr",
     "output_type": "stream",
     "text": [
      "C:\\Users\\KIIT\\AppData\\Local\\Temp\\ipykernel_4448\\2248056373.py:13: RuntimeWarning: divide by zero encountered in double_scalars\n",
      "  grad_orientation = math.degrees(math.atan(abs(diff2/diff1)))\n"
     ]
    },
    {
     "name": "stdout",
     "output_type": "stream",
     "text": [
      "18359\n",
      "19602\n"
     ]
    },
    {
     "name": "stderr",
     "output_type": "stream",
     "text": [
      "C:\\Users\\KIIT\\AppData\\Local\\Temp\\ipykernel_4448\\2248056373.py:13: RuntimeWarning: divide by zero encountered in double_scalars\n",
      "  grad_orientation = math.degrees(math.atan(abs(diff2/diff1)))\n"
     ]
    },
    {
     "name": "stdout",
     "output_type": "stream",
     "text": [
      "14994\n"
     ]
    },
    {
     "name": "stderr",
     "output_type": "stream",
     "text": [
      "C:\\Users\\KIIT\\AppData\\Local\\Temp\\ipykernel_4448\\2248056373.py:13: RuntimeWarning: divide by zero encountered in double_scalars\n",
      "  grad_orientation = math.degrees(math.atan(abs(diff2/diff1)))\n"
     ]
    },
    {
     "name": "stdout",
     "output_type": "stream",
     "text": [
      "33426\n",
      "36132\n",
      "24064\n"
     ]
    },
    {
     "name": "stderr",
     "output_type": "stream",
     "text": [
      "C:\\Users\\KIIT\\AppData\\Local\\Temp\\ipykernel_4448\\2248056373.py:13: RuntimeWarning: divide by zero encountered in double_scalars\n",
      "  grad_orientation = math.degrees(math.atan(abs(diff2/diff1)))\n"
     ]
    },
    {
     "name": "stdout",
     "output_type": "stream",
     "text": [
      "26989\n"
     ]
    },
    {
     "name": "stderr",
     "output_type": "stream",
     "text": [
      "C:\\Users\\KIIT\\AppData\\Local\\Temp\\ipykernel_4448\\2248056373.py:13: RuntimeWarning: divide by zero encountered in double_scalars\n",
      "  grad_orientation = math.degrees(math.atan(abs(diff2/diff1)))\n"
     ]
    },
    {
     "name": "stdout",
     "output_type": "stream",
     "text": [
      "22528\n"
     ]
    },
    {
     "name": "stderr",
     "output_type": "stream",
     "text": [
      "C:\\Users\\KIIT\\AppData\\Local\\Temp\\ipykernel_4448\\2248056373.py:13: RuntimeWarning: divide by zero encountered in double_scalars\n",
      "  grad_orientation = math.degrees(math.atan(abs(diff2/diff1)))\n"
     ]
    },
    {
     "name": "stdout",
     "output_type": "stream",
     "text": [
      "26624\n"
     ]
    },
    {
     "name": "stderr",
     "output_type": "stream",
     "text": [
      "C:\\Users\\KIIT\\AppData\\Local\\Temp\\ipykernel_4448\\2248056373.py:13: RuntimeWarning: invalid value encountered in double_scalars\n",
      "  grad_orientation = math.degrees(math.atan(abs(diff2/diff1)))\n",
      "C:\\Users\\KIIT\\AppData\\Local\\Temp\\ipykernel_4448\\2248056373.py:13: RuntimeWarning: divide by zero encountered in double_scalars\n",
      "  grad_orientation = math.degrees(math.atan(abs(diff2/diff1)))\n"
     ]
    },
    {
     "name": "stdout",
     "output_type": "stream",
     "text": [
      "22893\n",
      "18944\n"
     ]
    },
    {
     "name": "stderr",
     "output_type": "stream",
     "text": [
      "C:\\Users\\KIIT\\AppData\\Local\\Temp\\ipykernel_4448\\2248056373.py:13: RuntimeWarning: divide by zero encountered in double_scalars\n",
      "  grad_orientation = math.degrees(math.atan(abs(diff2/diff1)))\n"
     ]
    },
    {
     "name": "stdout",
     "output_type": "stream",
     "text": [
      "20992\n",
      "14994\n"
     ]
    },
    {
     "name": "stderr",
     "output_type": "stream",
     "text": [
      "C:\\Users\\KIIT\\AppData\\Local\\Temp\\ipykernel_4448\\2248056373.py:13: RuntimeWarning: divide by zero encountered in double_scalars\n",
      "  grad_orientation = math.degrees(math.atan(abs(diff2/diff1)))\n"
     ]
    },
    {
     "name": "stdout",
     "output_type": "stream",
     "text": [
      "32402\n"
     ]
    },
    {
     "name": "stderr",
     "output_type": "stream",
     "text": [
      "C:\\Users\\KIIT\\AppData\\Local\\Temp\\ipykernel_4448\\2248056373.py:13: RuntimeWarning: divide by zero encountered in double_scalars\n",
      "  grad_orientation = math.degrees(math.atan(abs(diff2/diff1)))\n"
     ]
    },
    {
     "name": "stdout",
     "output_type": "stream",
     "text": [
      "35693\n",
      "22455\n",
      "28379\n"
     ]
    },
    {
     "name": "stderr",
     "output_type": "stream",
     "text": [
      "C:\\Users\\KIIT\\AppData\\Local\\Temp\\ipykernel_4448\\2248056373.py:13: RuntimeWarning: divide by zero encountered in double_scalars\n",
      "  grad_orientation = math.degrees(math.atan(abs(diff2/diff1)))\n"
     ]
    },
    {
     "name": "stdout",
     "output_type": "stream",
     "text": [
      "23259\n",
      "26770\n",
      "23405\n",
      "18432\n",
      "20260\n"
     ]
    },
    {
     "name": "stderr",
     "output_type": "stream",
     "text": [
      "C:\\Users\\KIIT\\AppData\\Local\\Temp\\ipykernel_4448\\2248056373.py:13: RuntimeWarning: divide by zero encountered in double_scalars\n",
      "  grad_orientation = math.degrees(math.atan(abs(diff2/diff1)))\n"
     ]
    },
    {
     "name": "stdout",
     "output_type": "stream",
     "text": [
      "15506\n"
     ]
    },
    {
     "name": "stderr",
     "output_type": "stream",
     "text": [
      "C:\\Users\\KIIT\\AppData\\Local\\Temp\\ipykernel_4448\\2248056373.py:13: RuntimeWarning: divide by zero encountered in double_scalars\n",
      "  grad_orientation = math.degrees(math.atan(abs(diff2/diff1)))\n"
     ]
    },
    {
     "name": "stdout",
     "output_type": "stream",
     "text": [
      "32329\n"
     ]
    },
    {
     "name": "stderr",
     "output_type": "stream",
     "text": [
      "C:\\Users\\KIIT\\AppData\\Local\\Temp\\ipykernel_4448\\2248056373.py:13: RuntimeWarning: invalid value encountered in double_scalars\n",
      "  grad_orientation = math.degrees(math.atan(abs(diff2/diff1)))\n"
     ]
    },
    {
     "name": "stdout",
     "output_type": "stream",
     "text": [
      "34596\n"
     ]
    },
    {
     "name": "stderr",
     "output_type": "stream",
     "text": [
      "C:\\Users\\KIIT\\AppData\\Local\\Temp\\ipykernel_4448\\2248056373.py:13: RuntimeWarning: divide by zero encountered in double_scalars\n",
      "  grad_orientation = math.degrees(math.atan(abs(diff2/diff1)))\n"
     ]
    },
    {
     "name": "stdout",
     "output_type": "stream",
     "text": [
      "22235\n"
     ]
    },
    {
     "name": "stderr",
     "output_type": "stream",
     "text": [
      "C:\\Users\\KIIT\\AppData\\Local\\Temp\\ipykernel_4448\\2248056373.py:13: RuntimeWarning: divide by zero encountered in double_scalars\n",
      "  grad_orientation = math.degrees(math.atan(abs(diff2/diff1)))\n"
     ]
    },
    {
     "name": "stdout",
     "output_type": "stream",
     "text": [
      "28672\n"
     ]
    },
    {
     "name": "stderr",
     "output_type": "stream",
     "text": [
      "C:\\Users\\KIIT\\AppData\\Local\\Temp\\ipykernel_4448\\2248056373.py:13: RuntimeWarning: divide by zero encountered in double_scalars\n",
      "  grad_orientation = math.degrees(math.atan(abs(diff2/diff1)))\n"
     ]
    },
    {
     "name": "stdout",
     "output_type": "stream",
     "text": [
      "22820\n"
     ]
    },
    {
     "name": "stderr",
     "output_type": "stream",
     "text": [
      "C:\\Users\\KIIT\\AppData\\Local\\Temp\\ipykernel_4448\\2248056373.py:13: RuntimeWarning: divide by zero encountered in double_scalars\n",
      "  grad_orientation = math.degrees(math.atan(abs(diff2/diff1)))\n"
     ]
    },
    {
     "name": "stdout",
     "output_type": "stream",
     "text": [
      "26843\n"
     ]
    },
    {
     "name": "stderr",
     "output_type": "stream",
     "text": [
      "C:\\Users\\KIIT\\AppData\\Local\\Temp\\ipykernel_4448\\2248056373.py:13: RuntimeWarning: divide by zero encountered in double_scalars\n",
      "  grad_orientation = math.degrees(math.atan(abs(diff2/diff1)))\n"
     ]
    },
    {
     "name": "stdout",
     "output_type": "stream",
     "text": [
      "23917\n",
      "18578\n"
     ]
    },
    {
     "name": "stderr",
     "output_type": "stream",
     "text": [
      "C:\\Users\\KIIT\\AppData\\Local\\Temp\\ipykernel_4448\\2248056373.py:13: RuntimeWarning: divide by zero encountered in double_scalars\n",
      "  grad_orientation = math.degrees(math.atan(abs(diff2/diff1)))\n"
     ]
    },
    {
     "name": "stdout",
     "output_type": "stream",
     "text": [
      "19968\n",
      "14555\n"
     ]
    },
    {
     "name": "stderr",
     "output_type": "stream",
     "text": [
      "C:\\Users\\KIIT\\AppData\\Local\\Temp\\ipykernel_4448\\2248056373.py:13: RuntimeWarning: divide by zero encountered in double_scalars\n",
      "  grad_orientation = math.degrees(math.atan(abs(diff2/diff1)))\n"
     ]
    },
    {
     "name": "stdout",
     "output_type": "stream",
     "text": [
      "31963\n",
      "34889\n"
     ]
    },
    {
     "name": "stderr",
     "output_type": "stream",
     "text": [
      "C:\\Users\\KIIT\\AppData\\Local\\Temp\\ipykernel_4448\\2248056373.py:13: RuntimeWarning: divide by zero encountered in double_scalars\n",
      "  grad_orientation = math.degrees(math.atan(abs(diff2/diff1)))\n"
     ]
    },
    {
     "name": "stdout",
     "output_type": "stream",
     "text": [
      "22893\n",
      "26770\n"
     ]
    },
    {
     "name": "stderr",
     "output_type": "stream",
     "text": [
      "C:\\Users\\KIIT\\AppData\\Local\\Temp\\ipykernel_4448\\2248056373.py:13: RuntimeWarning: divide by zero encountered in double_scalars\n",
      "  grad_orientation = math.degrees(math.atan(abs(diff2/diff1)))\n"
     ]
    },
    {
     "name": "stdout",
     "output_type": "stream",
     "text": [
      "23552\n"
     ]
    },
    {
     "name": "stderr",
     "output_type": "stream",
     "text": [
      "C:\\Users\\KIIT\\AppData\\Local\\Temp\\ipykernel_4448\\2248056373.py:13: RuntimeWarning: divide by zero encountered in double_scalars\n",
      "  grad_orientation = math.degrees(math.atan(abs(diff2/diff1)))\n"
     ]
    },
    {
     "name": "stdout",
     "output_type": "stream",
     "text": [
      "26916\n"
     ]
    },
    {
     "name": "stderr",
     "output_type": "stream",
     "text": [
      "C:\\Users\\KIIT\\AppData\\Local\\Temp\\ipykernel_4448\\2248056373.py:13: RuntimeWarning: divide by zero encountered in double_scalars\n",
      "  grad_orientation = math.degrees(math.atan(abs(diff2/diff1)))\n"
     ]
    },
    {
     "name": "stdout",
     "output_type": "stream",
     "text": [
      "23186\n"
     ]
    },
    {
     "name": "stderr",
     "output_type": "stream",
     "text": [
      "C:\\Users\\KIIT\\AppData\\Local\\Temp\\ipykernel_4448\\2248056373.py:13: RuntimeWarning: invalid value encountered in double_scalars\n",
      "  grad_orientation = math.degrees(math.atan(abs(diff2/diff1)))\n",
      "C:\\Users\\KIIT\\AppData\\Local\\Temp\\ipykernel_4448\\2248056373.py:13: RuntimeWarning: divide by zero encountered in double_scalars\n",
      "  grad_orientation = math.degrees(math.atan(abs(diff2/diff1)))\n"
     ]
    },
    {
     "name": "stdout",
     "output_type": "stream",
     "text": [
      "19017\n",
      "20480\n",
      "14775\n",
      "31671\n",
      "35035\n",
      "22528\n"
     ]
    },
    {
     "name": "stderr",
     "output_type": "stream",
     "text": [
      "C:\\Users\\KIIT\\AppData\\Local\\Temp\\ipykernel_4448\\2248056373.py:13: RuntimeWarning: divide by zero encountered in double_scalars\n",
      "  grad_orientation = math.degrees(math.atan(abs(diff2/diff1)))\n"
     ]
    },
    {
     "name": "stdout",
     "output_type": "stream",
     "text": [
      "26989\n",
      "22528\n",
      "26404\n",
      "23332\n",
      "18285\n"
     ]
    },
    {
     "name": "stderr",
     "output_type": "stream",
     "text": [
      "C:\\Users\\KIIT\\AppData\\Local\\Temp\\ipykernel_4448\\2248056373.py:13: RuntimeWarning: divide by zero encountered in double_scalars\n",
      "  grad_orientation = math.degrees(math.atan(abs(diff2/diff1)))\n"
     ]
    },
    {
     "name": "stdout",
     "output_type": "stream",
     "text": [
      "20992\n"
     ]
    },
    {
     "name": "stderr",
     "output_type": "stream",
     "text": [
      "C:\\Users\\KIIT\\AppData\\Local\\Temp\\ipykernel_4448\\2248056373.py:13: RuntimeWarning: divide by zero encountered in double_scalars\n",
      "  grad_orientation = math.degrees(math.atan(abs(diff2/diff1)))\n"
     ]
    },
    {
     "name": "stdout",
     "output_type": "stream",
     "text": [
      "15506\n"
     ]
    },
    {
     "name": "stderr",
     "output_type": "stream",
     "text": [
      "C:\\Users\\KIIT\\AppData\\Local\\Temp\\ipykernel_4448\\2248056373.py:13: RuntimeWarning: divide by zero encountered in double_scalars\n",
      "  grad_orientation = math.degrees(math.atan(abs(diff2/diff1)))\n"
     ]
    },
    {
     "name": "stdout",
     "output_type": "stream",
     "text": [
      "32036\n",
      "37229\n"
     ]
    },
    {
     "name": "stderr",
     "output_type": "stream",
     "text": [
      "C:\\Users\\KIIT\\AppData\\Local\\Temp\\ipykernel_4448\\2248056373.py:13: RuntimeWarning: divide by zero encountered in double_scalars\n",
      "  grad_orientation = math.degrees(math.atan(abs(diff2/diff1)))\n"
     ]
    },
    {
     "name": "stdout",
     "output_type": "stream",
     "text": [
      "23259\n",
      "27428\n"
     ]
    },
    {
     "name": "stderr",
     "output_type": "stream",
     "text": [
      "C:\\Users\\KIIT\\AppData\\Local\\Temp\\ipykernel_4448\\2248056373.py:13: RuntimeWarning: divide by zero encountered in double_scalars\n",
      "  grad_orientation = math.degrees(math.atan(abs(diff2/diff1)))\n"
     ]
    },
    {
     "name": "stdout",
     "output_type": "stream",
     "text": [
      "22674\n",
      "26112\n",
      "23332\n"
     ]
    },
    {
     "name": "stderr",
     "output_type": "stream",
     "text": [
      "C:\\Users\\KIIT\\AppData\\Local\\Temp\\ipykernel_4448\\2248056373.py:13: RuntimeWarning: divide by zero encountered in double_scalars\n",
      "  grad_orientation = math.degrees(math.atan(abs(diff2/diff1)))\n"
     ]
    },
    {
     "name": "stdout",
     "output_type": "stream",
     "text": [
      "18066\n"
     ]
    },
    {
     "name": "stderr",
     "output_type": "stream",
     "text": [
      "C:\\Users\\KIIT\\AppData\\Local\\Temp\\ipykernel_4448\\2248056373.py:13: RuntimeWarning: divide by zero encountered in double_scalars\n",
      "  grad_orientation = math.degrees(math.atan(abs(diff2/diff1)))\n"
     ]
    },
    {
     "name": "stdout",
     "output_type": "stream",
     "text": [
      "20480\n",
      "15140\n",
      "30939\n"
     ]
    },
    {
     "name": "stderr",
     "output_type": "stream",
     "text": [
      "C:\\Users\\KIIT\\AppData\\Local\\Temp\\ipykernel_4448\\2248056373.py:13: RuntimeWarning: divide by zero encountered in double_scalars\n",
      "  grad_orientation = math.degrees(math.atan(abs(diff2/diff1)))\n"
     ]
    },
    {
     "name": "stdout",
     "output_type": "stream",
     "text": [
      "35328\n"
     ]
    },
    {
     "name": "stderr",
     "output_type": "stream",
     "text": [
      "C:\\Users\\KIIT\\AppData\\Local\\Temp\\ipykernel_4448\\2248056373.py:13: RuntimeWarning: divide by zero encountered in double_scalars\n",
      "  grad_orientation = math.degrees(math.atan(abs(diff2/diff1)))\n"
     ]
    },
    {
     "name": "stdout",
     "output_type": "stream",
     "text": [
      "23844\n",
      "26624\n",
      "23479\n",
      "26624\n"
     ]
    },
    {
     "name": "stderr",
     "output_type": "stream",
     "text": [
      "C:\\Users\\KIIT\\AppData\\Local\\Temp\\ipykernel_4448\\2248056373.py:13: RuntimeWarning: divide by zero encountered in double_scalars\n",
      "  grad_orientation = math.degrees(math.atan(abs(diff2/diff1)))\n"
     ]
    },
    {
     "name": "stdout",
     "output_type": "stream",
     "text": [
      "23186\n",
      "19090\n",
      "20845\n",
      "15799\n",
      "32036\n",
      "37156\n",
      "24429\n",
      "27282\n",
      "24649\n",
      "24649\n",
      "23405\n",
      "18944\n",
      "20285\n",
      "15714\n",
      "33000\n",
      "38428\n",
      "23714\n",
      "30714\n",
      "24143\n",
      "27571\n",
      "23285\n",
      "19714\n",
      "21138\n",
      "15945\n",
      "32768\n",
      "36937\n",
      "23405\n",
      "28013\n",
      "24429\n",
      "27794\n",
      "24356\n",
      "19236\n",
      "22893\n",
      "16237\n",
      "33060\n",
      "35620\n",
      "23917\n",
      "27794\n",
      "24356\n",
      "27355\n",
      "23991\n",
      "19309\n",
      "21650\n",
      "16018\n",
      "32987\n",
      "36498\n",
      "24137\n",
      "34157\n",
      "24503\n",
      "27794\n",
      "25380\n",
      "18797\n",
      "22089\n",
      "19456\n",
      "33207\n",
      "36937\n",
      "23844\n",
      "27063\n",
      "23332\n",
      "26697\n",
      "23917\n",
      "19383\n",
      "21431\n",
      "16603\n",
      "33280\n",
      "37083\n",
      "23113\n",
      "27648\n"
     ]
    },
    {
     "name": "stderr",
     "output_type": "stream",
     "text": [
      "C:\\Users\\KIIT\\AppData\\Local\\Temp\\ipykernel_4448\\2248056373.py:13: RuntimeWarning: divide by zero encountered in double_scalars\n",
      "  grad_orientation = math.degrees(math.atan(abs(diff2/diff1)))\n"
     ]
    },
    {
     "name": "stdout",
     "output_type": "stream",
     "text": [
      "23479\n",
      "27209\n",
      "24283\n",
      "19456\n",
      "20041\n",
      "15579\n",
      "33426\n",
      "37595\n",
      "23771\n",
      "28964\n",
      "24210\n",
      "26989\n",
      "24283\n",
      "19821\n",
      "20260\n",
      "16018\n",
      "32548\n",
      "36571\n",
      "22893\n",
      "27867\n",
      "24137\n"
     ]
    },
    {
     "name": "stderr",
     "output_type": "stream",
     "text": [
      "C:\\Users\\KIIT\\AppData\\Local\\Temp\\ipykernel_4448\\2248056373.py:13: RuntimeWarning: divide by zero encountered in double_scalars\n",
      "  grad_orientation = math.degrees(math.atan(abs(diff2/diff1)))\n"
     ]
    },
    {
     "name": "stdout",
     "output_type": "stream",
     "text": [
      "27136\n",
      "23479\n",
      "19821\n",
      "21357\n",
      "15579\n",
      "32548\n",
      "35547\n",
      "23186\n"
     ]
    },
    {
     "name": "stderr",
     "output_type": "stream",
     "text": [
      "C:\\Users\\KIIT\\AppData\\Local\\Temp\\ipykernel_4448\\2248056373.py:13: RuntimeWarning: divide by zero encountered in double_scalars\n",
      "  grad_orientation = math.degrees(math.atan(abs(diff2/diff1)))\n"
     ]
    },
    {
     "name": "stdout",
     "output_type": "stream",
     "text": [
      "27355\n"
     ]
    },
    {
     "name": "stderr",
     "output_type": "stream",
     "text": [
      "C:\\Users\\KIIT\\AppData\\Local\\Temp\\ipykernel_4448\\2248056373.py:13: RuntimeWarning: divide by zero encountered in double_scalars\n",
      "  grad_orientation = math.degrees(math.atan(abs(diff2/diff1)))\n"
     ]
    },
    {
     "name": "stdout",
     "output_type": "stream",
     "text": [
      "24137\n",
      "26989\n",
      "24941\n",
      "19895\n",
      "files saved\n"
     ]
    }
   ],
   "source": [
    "result_features = []\n",
    "for i in range(1,21):\n",
    "        folder_path = base_path1 + 'S' + str(i) +'_1' + '\\\\'\n",
    "        for j in range(0,10):\n",
    "            if i < 10:\n",
    "                file_name = folder_path + 's0' + str(i) + '_video' + str(j) + '.csv'\n",
    "                f_name = folder_path + 's0' + str(i) + '_video' + str(j)\n",
    "            else:\n",
    "                file_name = folder_path + 's' + str(i) + '_video' + str(j) + '.csv'\n",
    "                f_name = folder_path + 's' + str(i) + '_video' + str(j)\n",
    "            #print(file_name)\n",
    "            data = pd.read_csv(file_name,header=None)\n",
    "            arr = np.array(data)\n",
    "            #print(data)\n",
    "            result = arr.flatten()\n",
    "            #print(result)\n",
    "            #print(len(result))\n",
    "            feature_matrix = get_feature_matrix(result)\n",
    "            #print(feature_matrix)\n",
    "            print(len(feature_matrix))\n",
    "            feature_matrix_list=feature_matrix.tolist()\n",
    "            output_file = f_name + '_features(seven_block).csv'\n",
    "            with open(output_file, 'w', newline='') as file:\n",
    "                writer = csv.writer(file)\n",
    "                for row in feature_matrix_list:\n",
    "                    writer.writerow([row])\n",
    "print('files saved')"
   ]
  },
  {
   "cell_type": "markdown",
   "id": "e55272e9",
   "metadata": {},
   "source": [
    "Two Second Data"
   ]
  },
  {
   "cell_type": "code",
   "execution_count": 10,
   "id": "50a8a61c",
   "metadata": {},
   "outputs": [],
   "source": [
    "base_path2 = 'C:\\\\Users\\\\KIIT\\\\Documents\\\\Minor Project\\\\DataSet_2sec\\\\'"
   ]
  },
  {
   "cell_type": "code",
   "execution_count": 11,
   "id": "f0c2e10e",
   "metadata": {},
   "outputs": [
    {
     "name": "stdout",
     "output_type": "stream",
     "text": [
      "19309\n",
      "15067\n",
      "31744\n",
      "35401\n",
      "22820\n"
     ]
    },
    {
     "name": "stderr",
     "output_type": "stream",
     "text": [
      "C:\\Users\\KIIT\\AppData\\Local\\Temp\\ipykernel_4448\\2248056373.py:13: RuntimeWarning: divide by zero encountered in double_scalars\n",
      "  grad_orientation = math.degrees(math.atan(abs(diff2/diff1)))\n"
     ]
    },
    {
     "name": "stdout",
     "output_type": "stream",
     "text": [
      "26331\n",
      "23259\n"
     ]
    },
    {
     "name": "stderr",
     "output_type": "stream",
     "text": [
      "C:\\Users\\KIIT\\AppData\\Local\\Temp\\ipykernel_4448\\2248056373.py:13: RuntimeWarning: divide by zero encountered in double_scalars\n",
      "  grad_orientation = math.degrees(math.atan(abs(diff2/diff1)))\n"
     ]
    },
    {
     "name": "stdout",
     "output_type": "stream",
     "text": [
      "26624\n",
      "23405\n",
      "18724\n"
     ]
    },
    {
     "name": "stderr",
     "output_type": "stream",
     "text": [
      "C:\\Users\\KIIT\\AppData\\Local\\Temp\\ipykernel_4448\\2248056373.py:13: RuntimeWarning: divide by zero encountered in double_scalars\n",
      "  grad_orientation = math.degrees(math.atan(abs(diff2/diff1)))\n"
     ]
    },
    {
     "name": "stdout",
     "output_type": "stream",
     "text": [
      "21211\n"
     ]
    },
    {
     "name": "stderr",
     "output_type": "stream",
     "text": [
      "C:\\Users\\KIIT\\AppData\\Local\\Temp\\ipykernel_4448\\2248056373.py:13: RuntimeWarning: divide by zero encountered in double_scalars\n",
      "  grad_orientation = math.degrees(math.atan(abs(diff2/diff1)))\n"
     ]
    },
    {
     "name": "stdout",
     "output_type": "stream",
     "text": [
      "16091\n"
     ]
    },
    {
     "name": "stderr",
     "output_type": "stream",
     "text": [
      "C:\\Users\\KIIT\\AppData\\Local\\Temp\\ipykernel_4448\\2248056373.py:13: RuntimeWarning: divide by zero encountered in double_scalars\n",
      "  grad_orientation = math.degrees(math.atan(abs(diff2/diff1)))\n"
     ]
    },
    {
     "name": "stdout",
     "output_type": "stream",
     "text": [
      "31159\n"
     ]
    },
    {
     "name": "stderr",
     "output_type": "stream",
     "text": [
      "C:\\Users\\KIIT\\AppData\\Local\\Temp\\ipykernel_4448\\2248056373.py:13: RuntimeWarning: divide by zero encountered in double_scalars\n",
      "  grad_orientation = math.degrees(math.atan(abs(diff2/diff1)))\n"
     ]
    },
    {
     "name": "stdout",
     "output_type": "stream",
     "text": [
      "36279\n"
     ]
    },
    {
     "name": "stderr",
     "output_type": "stream",
     "text": [
      "C:\\Users\\KIIT\\AppData\\Local\\Temp\\ipykernel_4448\\2248056373.py:13: RuntimeWarning: divide by zero encountered in double_scalars\n",
      "  grad_orientation = math.degrees(math.atan(abs(diff2/diff1)))\n"
     ]
    },
    {
     "name": "stdout",
     "output_type": "stream",
     "text": [
      "22967\n",
      "26185\n",
      "23259\n",
      "27063\n",
      "23844\n",
      "19017\n",
      "20333\n",
      "15360\n",
      "32036\n"
     ]
    },
    {
     "name": "stderr",
     "output_type": "stream",
     "text": [
      "C:\\Users\\KIIT\\AppData\\Local\\Temp\\ipykernel_4448\\2248056373.py:13: RuntimeWarning: divide by zero encountered in double_scalars\n",
      "  grad_orientation = math.degrees(math.atan(abs(diff2/diff1)))\n"
     ]
    },
    {
     "name": "stdout",
     "output_type": "stream",
     "text": [
      "35401\n"
     ]
    },
    {
     "name": "stderr",
     "output_type": "stream",
     "text": [
      "C:\\Users\\KIIT\\AppData\\Local\\Temp\\ipykernel_4448\\2248056373.py:13: RuntimeWarning: divide by zero encountered in double_scalars\n",
      "  grad_orientation = math.degrees(math.atan(abs(diff2/diff1)))\n"
     ]
    },
    {
     "name": "stdout",
     "output_type": "stream",
     "text": [
      "22967\n"
     ]
    },
    {
     "name": "stderr",
     "output_type": "stream",
     "text": [
      "C:\\Users\\KIIT\\AppData\\Local\\Temp\\ipykernel_4448\\2248056373.py:13: RuntimeWarning: divide by zero encountered in double_scalars\n",
      "  grad_orientation = math.degrees(math.atan(abs(diff2/diff1)))\n"
     ]
    },
    {
     "name": "stdout",
     "output_type": "stream",
     "text": [
      "26624\n"
     ]
    },
    {
     "name": "stderr",
     "output_type": "stream",
     "text": [
      "C:\\Users\\KIIT\\AppData\\Local\\Temp\\ipykernel_4448\\2248056373.py:13: RuntimeWarning: divide by zero encountered in double_scalars\n",
      "  grad_orientation = math.degrees(math.atan(abs(diff2/diff1)))\n"
     ]
    },
    {
     "name": "stdout",
     "output_type": "stream",
     "text": [
      "22820\n"
     ]
    },
    {
     "name": "stderr",
     "output_type": "stream",
     "text": [
      "C:\\Users\\KIIT\\AppData\\Local\\Temp\\ipykernel_4448\\2248056373.py:13: RuntimeWarning: divide by zero encountered in double_scalars\n",
      "  grad_orientation = math.degrees(math.atan(abs(diff2/diff1)))\n"
     ]
    },
    {
     "name": "stdout",
     "output_type": "stream",
     "text": [
      "25746\n"
     ]
    },
    {
     "name": "stderr",
     "output_type": "stream",
     "text": [
      "C:\\Users\\KIIT\\AppData\\Local\\Temp\\ipykernel_4448\\2248056373.py:13: RuntimeWarning: divide by zero encountered in double_scalars\n",
      "  grad_orientation = math.degrees(math.atan(abs(diff2/diff1)))\n"
     ]
    },
    {
     "name": "stdout",
     "output_type": "stream",
     "text": [
      "22381\n"
     ]
    },
    {
     "name": "stderr",
     "output_type": "stream",
     "text": [
      "C:\\Users\\KIIT\\AppData\\Local\\Temp\\ipykernel_4448\\2248056373.py:13: RuntimeWarning: divide by zero encountered in double_scalars\n",
      "  grad_orientation = math.degrees(math.atan(abs(diff2/diff1)))\n"
     ]
    },
    {
     "name": "stdout",
     "output_type": "stream",
     "text": [
      "18285\n",
      "19602\n"
     ]
    },
    {
     "name": "stderr",
     "output_type": "stream",
     "text": [
      "C:\\Users\\KIIT\\AppData\\Local\\Temp\\ipykernel_4448\\2248056373.py:13: RuntimeWarning: divide by zero encountered in double_scalars\n",
      "  grad_orientation = math.degrees(math.atan(abs(diff2/diff1)))\n"
     ]
    },
    {
     "name": "stdout",
     "output_type": "stream",
     "text": [
      "14921\n"
     ]
    },
    {
     "name": "stderr",
     "output_type": "stream",
     "text": [
      "C:\\Users\\KIIT\\AppData\\Local\\Temp\\ipykernel_4448\\2248056373.py:13: RuntimeWarning: divide by zero encountered in double_scalars\n",
      "  grad_orientation = math.degrees(math.atan(abs(diff2/diff1)))\n"
     ]
    },
    {
     "name": "stdout",
     "output_type": "stream",
     "text": [
      "33353\n",
      "36132\n",
      "23991\n"
     ]
    },
    {
     "name": "stderr",
     "output_type": "stream",
     "text": [
      "C:\\Users\\KIIT\\AppData\\Local\\Temp\\ipykernel_4448\\2248056373.py:13: RuntimeWarning: divide by zero encountered in double_scalars\n",
      "  grad_orientation = math.degrees(math.atan(abs(diff2/diff1)))\n"
     ]
    },
    {
     "name": "stdout",
     "output_type": "stream",
     "text": [
      "26916\n"
     ]
    },
    {
     "name": "stderr",
     "output_type": "stream",
     "text": [
      "C:\\Users\\KIIT\\AppData\\Local\\Temp\\ipykernel_4448\\2248056373.py:13: RuntimeWarning: divide by zero encountered in double_scalars\n",
      "  grad_orientation = math.degrees(math.atan(abs(diff2/diff1)))\n"
     ]
    },
    {
     "name": "stdout",
     "output_type": "stream",
     "text": [
      "22528\n"
     ]
    },
    {
     "name": "stderr",
     "output_type": "stream",
     "text": [
      "C:\\Users\\KIIT\\AppData\\Local\\Temp\\ipykernel_4448\\2248056373.py:13: RuntimeWarning: divide by zero encountered in double_scalars\n",
      "  grad_orientation = math.degrees(math.atan(abs(diff2/diff1)))\n"
     ]
    },
    {
     "name": "stdout",
     "output_type": "stream",
     "text": [
      "26624\n"
     ]
    },
    {
     "name": "stderr",
     "output_type": "stream",
     "text": [
      "C:\\Users\\KIIT\\AppData\\Local\\Temp\\ipykernel_4448\\2248056373.py:13: RuntimeWarning: invalid value encountered in double_scalars\n",
      "  grad_orientation = math.degrees(math.atan(abs(diff2/diff1)))\n",
      "C:\\Users\\KIIT\\AppData\\Local\\Temp\\ipykernel_4448\\2248056373.py:13: RuntimeWarning: divide by zero encountered in double_scalars\n",
      "  grad_orientation = math.degrees(math.atan(abs(diff2/diff1)))\n"
     ]
    },
    {
     "name": "stdout",
     "output_type": "stream",
     "text": [
      "22820\n",
      "18871\n"
     ]
    },
    {
     "name": "stderr",
     "output_type": "stream",
     "text": [
      "C:\\Users\\KIIT\\AppData\\Local\\Temp\\ipykernel_4448\\2248056373.py:13: RuntimeWarning: divide by zero encountered in double_scalars\n",
      "  grad_orientation = math.degrees(math.atan(abs(diff2/diff1)))\n"
     ]
    },
    {
     "name": "stdout",
     "output_type": "stream",
     "text": [
      "20919\n",
      "14921\n"
     ]
    },
    {
     "name": "stderr",
     "output_type": "stream",
     "text": [
      "C:\\Users\\KIIT\\AppData\\Local\\Temp\\ipykernel_4448\\2248056373.py:13: RuntimeWarning: divide by zero encountered in double_scalars\n",
      "  grad_orientation = math.degrees(math.atan(abs(diff2/diff1)))\n"
     ]
    },
    {
     "name": "stdout",
     "output_type": "stream",
     "text": [
      "32329\n"
     ]
    },
    {
     "name": "stderr",
     "output_type": "stream",
     "text": [
      "C:\\Users\\KIIT\\AppData\\Local\\Temp\\ipykernel_4448\\2248056373.py:13: RuntimeWarning: divide by zero encountered in double_scalars\n",
      "  grad_orientation = math.degrees(math.atan(abs(diff2/diff1)))\n"
     ]
    },
    {
     "name": "stdout",
     "output_type": "stream",
     "text": [
      "35693\n",
      "22381\n",
      "28379\n"
     ]
    },
    {
     "name": "stderr",
     "output_type": "stream",
     "text": [
      "C:\\Users\\KIIT\\AppData\\Local\\Temp\\ipykernel_4448\\2248056373.py:13: RuntimeWarning: divide by zero encountered in double_scalars\n",
      "  grad_orientation = math.degrees(math.atan(abs(diff2/diff1)))\n"
     ]
    },
    {
     "name": "stdout",
     "output_type": "stream",
     "text": [
      "23259\n",
      "26770\n",
      "23405\n",
      "18432\n",
      "20187\n"
     ]
    },
    {
     "name": "stderr",
     "output_type": "stream",
     "text": [
      "C:\\Users\\KIIT\\AppData\\Local\\Temp\\ipykernel_4448\\2248056373.py:13: RuntimeWarning: divide by zero encountered in double_scalars\n",
      "  grad_orientation = math.degrees(math.atan(abs(diff2/diff1)))\n"
     ]
    },
    {
     "name": "stdout",
     "output_type": "stream",
     "text": [
      "15506\n"
     ]
    },
    {
     "name": "stderr",
     "output_type": "stream",
     "text": [
      "C:\\Users\\KIIT\\AppData\\Local\\Temp\\ipykernel_4448\\2248056373.py:13: RuntimeWarning: divide by zero encountered in double_scalars\n",
      "  grad_orientation = math.degrees(math.atan(abs(diff2/diff1)))\n"
     ]
    },
    {
     "name": "stdout",
     "output_type": "stream",
     "text": [
      "32329\n"
     ]
    },
    {
     "name": "stderr",
     "output_type": "stream",
     "text": [
      "C:\\Users\\KIIT\\AppData\\Local\\Temp\\ipykernel_4448\\2248056373.py:13: RuntimeWarning: invalid value encountered in double_scalars\n",
      "  grad_orientation = math.degrees(math.atan(abs(diff2/diff1)))\n"
     ]
    },
    {
     "name": "stdout",
     "output_type": "stream",
     "text": [
      "34523\n"
     ]
    },
    {
     "name": "stderr",
     "output_type": "stream",
     "text": [
      "C:\\Users\\KIIT\\AppData\\Local\\Temp\\ipykernel_4448\\2248056373.py:13: RuntimeWarning: divide by zero encountered in double_scalars\n",
      "  grad_orientation = math.degrees(math.atan(abs(diff2/diff1)))\n"
     ]
    },
    {
     "name": "stdout",
     "output_type": "stream",
     "text": [
      "22235\n"
     ]
    },
    {
     "name": "stderr",
     "output_type": "stream",
     "text": [
      "C:\\Users\\KIIT\\AppData\\Local\\Temp\\ipykernel_4448\\2248056373.py:13: RuntimeWarning: divide by zero encountered in double_scalars\n",
      "  grad_orientation = math.degrees(math.atan(abs(diff2/diff1)))\n"
     ]
    },
    {
     "name": "stdout",
     "output_type": "stream",
     "text": [
      "28672\n"
     ]
    },
    {
     "name": "stderr",
     "output_type": "stream",
     "text": [
      "C:\\Users\\KIIT\\AppData\\Local\\Temp\\ipykernel_4448\\2248056373.py:13: RuntimeWarning: divide by zero encountered in double_scalars\n",
      "  grad_orientation = math.degrees(math.atan(abs(diff2/diff1)))\n"
     ]
    },
    {
     "name": "stdout",
     "output_type": "stream",
     "text": [
      "22820\n"
     ]
    },
    {
     "name": "stderr",
     "output_type": "stream",
     "text": [
      "C:\\Users\\KIIT\\AppData\\Local\\Temp\\ipykernel_4448\\2248056373.py:13: RuntimeWarning: divide by zero encountered in double_scalars\n",
      "  grad_orientation = math.degrees(math.atan(abs(diff2/diff1)))\n"
     ]
    },
    {
     "name": "stdout",
     "output_type": "stream",
     "text": [
      "26770\n"
     ]
    },
    {
     "name": "stderr",
     "output_type": "stream",
     "text": [
      "C:\\Users\\KIIT\\AppData\\Local\\Temp\\ipykernel_4448\\2248056373.py:13: RuntimeWarning: divide by zero encountered in double_scalars\n",
      "  grad_orientation = math.degrees(math.atan(abs(diff2/diff1)))\n"
     ]
    },
    {
     "name": "stdout",
     "output_type": "stream",
     "text": [
      "23844\n",
      "18578\n"
     ]
    },
    {
     "name": "stderr",
     "output_type": "stream",
     "text": [
      "C:\\Users\\KIIT\\AppData\\Local\\Temp\\ipykernel_4448\\2248056373.py:13: RuntimeWarning: divide by zero encountered in double_scalars\n",
      "  grad_orientation = math.degrees(math.atan(abs(diff2/diff1)))\n"
     ]
    },
    {
     "name": "stdout",
     "output_type": "stream",
     "text": [
      "19895\n",
      "14482\n"
     ]
    },
    {
     "name": "stderr",
     "output_type": "stream",
     "text": [
      "C:\\Users\\KIIT\\AppData\\Local\\Temp\\ipykernel_4448\\2248056373.py:13: RuntimeWarning: divide by zero encountered in double_scalars\n",
      "  grad_orientation = math.degrees(math.atan(abs(diff2/diff1)))\n"
     ]
    },
    {
     "name": "stdout",
     "output_type": "stream",
     "text": [
      "31890\n",
      "34816\n"
     ]
    },
    {
     "name": "stderr",
     "output_type": "stream",
     "text": [
      "C:\\Users\\KIIT\\AppData\\Local\\Temp\\ipykernel_4448\\2248056373.py:13: RuntimeWarning: divide by zero encountered in double_scalars\n",
      "  grad_orientation = math.degrees(math.atan(abs(diff2/diff1)))\n"
     ]
    },
    {
     "name": "stdout",
     "output_type": "stream",
     "text": [
      "22820\n",
      "26770\n"
     ]
    },
    {
     "name": "stderr",
     "output_type": "stream",
     "text": [
      "C:\\Users\\KIIT\\AppData\\Local\\Temp\\ipykernel_4448\\2248056373.py:13: RuntimeWarning: divide by zero encountered in double_scalars\n",
      "  grad_orientation = math.degrees(math.atan(abs(diff2/diff1)))\n"
     ]
    },
    {
     "name": "stdout",
     "output_type": "stream",
     "text": [
      "23552\n"
     ]
    },
    {
     "name": "stderr",
     "output_type": "stream",
     "text": [
      "C:\\Users\\KIIT\\AppData\\Local\\Temp\\ipykernel_4448\\2248056373.py:13: RuntimeWarning: divide by zero encountered in double_scalars\n",
      "  grad_orientation = math.degrees(math.atan(abs(diff2/diff1)))\n"
     ]
    },
    {
     "name": "stdout",
     "output_type": "stream",
     "text": [
      "26916\n"
     ]
    },
    {
     "name": "stderr",
     "output_type": "stream",
     "text": [
      "C:\\Users\\KIIT\\AppData\\Local\\Temp\\ipykernel_4448\\2248056373.py:13: RuntimeWarning: divide by zero encountered in double_scalars\n",
      "  grad_orientation = math.degrees(math.atan(abs(diff2/diff1)))\n"
     ]
    },
    {
     "name": "stdout",
     "output_type": "stream",
     "text": [
      "23113\n"
     ]
    },
    {
     "name": "stderr",
     "output_type": "stream",
     "text": [
      "C:\\Users\\KIIT\\AppData\\Local\\Temp\\ipykernel_4448\\2248056373.py:13: RuntimeWarning: invalid value encountered in double_scalars\n",
      "  grad_orientation = math.degrees(math.atan(abs(diff2/diff1)))\n",
      "C:\\Users\\KIIT\\AppData\\Local\\Temp\\ipykernel_4448\\2248056373.py:13: RuntimeWarning: divide by zero encountered in double_scalars\n",
      "  grad_orientation = math.degrees(math.atan(abs(diff2/diff1)))\n"
     ]
    },
    {
     "name": "stdout",
     "output_type": "stream",
     "text": [
      "19017\n",
      "20480\n",
      "14775\n",
      "31597\n",
      "34962\n",
      "22528\n"
     ]
    },
    {
     "name": "stderr",
     "output_type": "stream",
     "text": [
      "C:\\Users\\KIIT\\AppData\\Local\\Temp\\ipykernel_4448\\2248056373.py:13: RuntimeWarning: divide by zero encountered in double_scalars\n",
      "  grad_orientation = math.degrees(math.atan(abs(diff2/diff1)))\n"
     ]
    },
    {
     "name": "stdout",
     "output_type": "stream",
     "text": [
      "26916\n",
      "22528\n",
      "26331\n",
      "23259\n",
      "18285\n"
     ]
    },
    {
     "name": "stderr",
     "output_type": "stream",
     "text": [
      "C:\\Users\\KIIT\\AppData\\Local\\Temp\\ipykernel_4448\\2248056373.py:13: RuntimeWarning: divide by zero encountered in double_scalars\n",
      "  grad_orientation = math.degrees(math.atan(abs(diff2/diff1)))\n"
     ]
    },
    {
     "name": "stdout",
     "output_type": "stream",
     "text": [
      "20919\n"
     ]
    },
    {
     "name": "stderr",
     "output_type": "stream",
     "text": [
      "C:\\Users\\KIIT\\AppData\\Local\\Temp\\ipykernel_4448\\2248056373.py:13: RuntimeWarning: divide by zero encountered in double_scalars\n",
      "  grad_orientation = math.degrees(math.atan(abs(diff2/diff1)))\n"
     ]
    },
    {
     "name": "stdout",
     "output_type": "stream",
     "text": [
      "15506\n"
     ]
    },
    {
     "name": "stderr",
     "output_type": "stream",
     "text": [
      "C:\\Users\\KIIT\\AppData\\Local\\Temp\\ipykernel_4448\\2248056373.py:13: RuntimeWarning: divide by zero encountered in double_scalars\n",
      "  grad_orientation = math.degrees(math.atan(abs(diff2/diff1)))\n"
     ]
    },
    {
     "name": "stdout",
     "output_type": "stream",
     "text": [
      "32036\n",
      "37156\n"
     ]
    },
    {
     "name": "stderr",
     "output_type": "stream",
     "text": [
      "C:\\Users\\KIIT\\AppData\\Local\\Temp\\ipykernel_4448\\2248056373.py:13: RuntimeWarning: divide by zero encountered in double_scalars\n",
      "  grad_orientation = math.degrees(math.atan(abs(diff2/diff1)))\n"
     ]
    },
    {
     "name": "stdout",
     "output_type": "stream",
     "text": [
      "23259\n",
      "27355\n"
     ]
    },
    {
     "name": "stderr",
     "output_type": "stream",
     "text": [
      "C:\\Users\\KIIT\\AppData\\Local\\Temp\\ipykernel_4448\\2248056373.py:13: RuntimeWarning: divide by zero encountered in double_scalars\n",
      "  grad_orientation = math.degrees(math.atan(abs(diff2/diff1)))\n"
     ]
    },
    {
     "name": "stdout",
     "output_type": "stream",
     "text": [
      "22674\n"
     ]
    },
    {
     "name": "stderr",
     "output_type": "stream",
     "text": [
      "C:\\Users\\KIIT\\AppData\\Local\\Temp\\ipykernel_4448\\2248056373.py:13: RuntimeWarning: divide by zero encountered in double_scalars\n",
      "  grad_orientation = math.degrees(math.atan(abs(diff2/diff1)))\n"
     ]
    },
    {
     "name": "stdout",
     "output_type": "stream",
     "text": [
      "22674\n"
     ]
    },
    {
     "name": "stderr",
     "output_type": "stream",
     "text": [
      "C:\\Users\\KIIT\\AppData\\Local\\Temp\\ipykernel_4448\\2248056373.py:13: RuntimeWarning: divide by zero encountered in double_scalars\n",
      "  grad_orientation = math.degrees(math.atan(abs(diff2/diff1)))\n"
     ]
    },
    {
     "name": "stdout",
     "output_type": "stream",
     "text": [
      "22674\n"
     ]
    },
    {
     "name": "stderr",
     "output_type": "stream",
     "text": [
      "C:\\Users\\KIIT\\AppData\\Local\\Temp\\ipykernel_4448\\2248056373.py:13: RuntimeWarning: divide by zero encountered in double_scalars\n",
      "  grad_orientation = math.degrees(math.atan(abs(diff2/diff1)))\n"
     ]
    },
    {
     "name": "stdout",
     "output_type": "stream",
     "text": [
      "17993\n"
     ]
    },
    {
     "name": "stderr",
     "output_type": "stream",
     "text": [
      "C:\\Users\\KIIT\\AppData\\Local\\Temp\\ipykernel_4448\\2248056373.py:13: RuntimeWarning: divide by zero encountered in double_scalars\n",
      "  grad_orientation = math.degrees(math.atan(abs(diff2/diff1)))\n"
     ]
    },
    {
     "name": "stdout",
     "output_type": "stream",
     "text": [
      "20480\n",
      "15067\n",
      "30866\n"
     ]
    },
    {
     "name": "stderr",
     "output_type": "stream",
     "text": [
      "C:\\Users\\KIIT\\AppData\\Local\\Temp\\ipykernel_4448\\2248056373.py:13: RuntimeWarning: divide by zero encountered in double_scalars\n",
      "  grad_orientation = math.degrees(math.atan(abs(diff2/diff1)))\n"
     ]
    },
    {
     "name": "stdout",
     "output_type": "stream",
     "text": [
      "35255\n"
     ]
    },
    {
     "name": "stderr",
     "output_type": "stream",
     "text": [
      "C:\\Users\\KIIT\\AppData\\Local\\Temp\\ipykernel_4448\\2248056373.py:13: RuntimeWarning: divide by zero encountered in double_scalars\n",
      "  grad_orientation = math.degrees(math.atan(abs(diff2/diff1)))\n"
     ]
    },
    {
     "name": "stdout",
     "output_type": "stream",
     "text": [
      "23844\n",
      "26624\n",
      "23405\n",
      "26624\n"
     ]
    },
    {
     "name": "stderr",
     "output_type": "stream",
     "text": [
      "C:\\Users\\KIIT\\AppData\\Local\\Temp\\ipykernel_4448\\2248056373.py:13: RuntimeWarning: divide by zero encountered in double_scalars\n",
      "  grad_orientation = math.degrees(math.atan(abs(diff2/diff1)))\n"
     ]
    },
    {
     "name": "stdout",
     "output_type": "stream",
     "text": [
      "23113\n",
      "19017\n",
      "20772\n",
      "15799\n",
      "32036\n",
      "37156\n",
      "24429\n",
      "27209\n",
      "24576\n",
      "24576\n",
      "23405\n",
      "18871\n",
      "20187\n",
      "15652\n",
      "33060\n",
      "38473\n",
      "23698\n",
      "30720\n",
      "24137\n",
      "27501\n",
      "23259\n",
      "19748\n",
      "21065\n",
      "15945\n",
      "32768\n",
      "36864\n",
      "23405\n",
      "27940\n",
      "24429\n",
      "27794\n",
      "24283\n",
      "19163\n",
      "22820\n",
      "16237\n",
      "33060\n",
      "35547\n",
      "23844\n",
      "27794\n",
      "24283\n",
      "27355\n",
      "23991\n",
      "19309\n",
      "21650\n",
      "15945\n",
      "32914\n",
      "36425\n",
      "24137\n",
      "34084\n",
      "24429\n",
      "27794\n",
      "25307\n",
      "18724\n",
      "22089\n",
      "19456\n",
      "33207\n",
      "36864\n",
      "23844\n",
      "27063\n",
      "23259\n",
      "26624\n",
      "23844\n",
      "19309\n",
      "21357\n",
      "16530\n",
      "33207\n",
      "37010\n",
      "23113\n",
      "27648\n"
     ]
    },
    {
     "name": "stderr",
     "output_type": "stream",
     "text": [
      "C:\\Users\\KIIT\\AppData\\Local\\Temp\\ipykernel_4448\\2248056373.py:13: RuntimeWarning: divide by zero encountered in double_scalars\n",
      "  grad_orientation = math.degrees(math.atan(abs(diff2/diff1)))\n"
     ]
    },
    {
     "name": "stdout",
     "output_type": "stream",
     "text": [
      "23405\n",
      "27209\n",
      "24283\n",
      "19456\n",
      "20041\n",
      "15506\n",
      "33353\n",
      "37595\n",
      "23698\n",
      "28964\n",
      "24137\n",
      "26916\n",
      "24283\n",
      "19748\n",
      "20187\n",
      "15945\n",
      "32475\n",
      "36571\n",
      "22820\n",
      "27794\n",
      "24137\n"
     ]
    },
    {
     "name": "stderr",
     "output_type": "stream",
     "text": [
      "C:\\Users\\KIIT\\AppData\\Local\\Temp\\ipykernel_4448\\2248056373.py:13: RuntimeWarning: divide by zero encountered in double_scalars\n",
      "  grad_orientation = math.degrees(math.atan(abs(diff2/diff1)))\n"
     ]
    },
    {
     "name": "stdout",
     "output_type": "stream",
     "text": [
      "27063\n",
      "23405\n",
      "19748\n",
      "21357\n",
      "15506\n",
      "32475\n",
      "35547\n",
      "23113\n"
     ]
    },
    {
     "name": "stderr",
     "output_type": "stream",
     "text": [
      "C:\\Users\\KIIT\\AppData\\Local\\Temp\\ipykernel_4448\\2248056373.py:13: RuntimeWarning: divide by zero encountered in double_scalars\n",
      "  grad_orientation = math.degrees(math.atan(abs(diff2/diff1)))\n"
     ]
    },
    {
     "name": "stdout",
     "output_type": "stream",
     "text": [
      "27355\n"
     ]
    },
    {
     "name": "stderr",
     "output_type": "stream",
     "text": [
      "C:\\Users\\KIIT\\AppData\\Local\\Temp\\ipykernel_4448\\2248056373.py:13: RuntimeWarning: divide by zero encountered in double_scalars\n",
      "  grad_orientation = math.degrees(math.atan(abs(diff2/diff1)))\n"
     ]
    },
    {
     "name": "stdout",
     "output_type": "stream",
     "text": [
      "24137\n",
      "26916\n",
      "24868\n",
      "19895\n",
      "files saved\n"
     ]
    }
   ],
   "source": [
    "result_features = []\n",
    "for i in range(1,21):\n",
    "        folder_path = base_path2 + 'S' + str(i) +'_2' + '\\\\'\n",
    "        for j in range(0,10):\n",
    "            if i < 10:\n",
    "                file_name = folder_path + 's0' + str(i) + '_video' + str(j) + '.csv'\n",
    "                f_name = folder_path + 's0' + str(i) + '_video' + str(j)\n",
    "            else:\n",
    "                file_name = folder_path + 's' + str(i) + '_video' + str(j) + '.csv'\n",
    "                f_name = folder_path + 's' + str(i) + '_video' + str(j)\n",
    "            #print(file_name)\n",
    "            data = pd.read_csv(file_name,header=None)\n",
    "            arr = np.array(data)\n",
    "            #print(data)\n",
    "            result = arr.flatten()\n",
    "            #print(result)\n",
    "            #print(len(result))\n",
    "            feature_matrix = get_feature_matrix(result)\n",
    "            #print(feature_matrix)\n",
    "            print(len(feature_matrix))\n",
    "            feature_matrix_list=feature_matrix.tolist()\n",
    "            output_file = f_name + '_features(seven_block).csv'\n",
    "            with open(output_file, 'w', newline='') as file:\n",
    "                writer = csv.writer(file)\n",
    "                for row in feature_matrix_list:\n",
    "                    writer.writerow([row])\n",
    "print('files saved')"
   ]
  },
  {
   "cell_type": "markdown",
   "id": "67ff94dc",
   "metadata": {},
   "source": [
    "Three Second Data"
   ]
  },
  {
   "cell_type": "code",
   "execution_count": 12,
   "id": "108045d6",
   "metadata": {},
   "outputs": [],
   "source": [
    "base_path3 = 'C:\\\\Users\\\\KIIT\\\\Documents\\\\Minor Project\\\\DataSet_3sec\\\\'"
   ]
  },
  {
   "cell_type": "code",
   "execution_count": 13,
   "id": "ee774ea6",
   "metadata": {},
   "outputs": [
    {
     "name": "stdout",
     "output_type": "stream",
     "text": [
      "19309\n",
      "15140\n",
      "31817\n",
      "35328\n",
      "22820\n"
     ]
    },
    {
     "name": "stderr",
     "output_type": "stream",
     "text": [
      "C:\\Users\\KIIT\\AppData\\Local\\Temp\\ipykernel_4448\\2248056373.py:13: RuntimeWarning: divide by zero encountered in double_scalars\n",
      "  grad_orientation = math.degrees(math.atan(abs(diff2/diff1)))\n"
     ]
    },
    {
     "name": "stdout",
     "output_type": "stream",
     "text": [
      "26331\n",
      "23259\n"
     ]
    },
    {
     "name": "stderr",
     "output_type": "stream",
     "text": [
      "C:\\Users\\KIIT\\AppData\\Local\\Temp\\ipykernel_4448\\2248056373.py:13: RuntimeWarning: divide by zero encountered in double_scalars\n",
      "  grad_orientation = math.degrees(math.atan(abs(diff2/diff1)))\n"
     ]
    },
    {
     "name": "stdout",
     "output_type": "stream",
     "text": [
      "26551\n",
      "23479\n",
      "18651\n"
     ]
    },
    {
     "name": "stderr",
     "output_type": "stream",
     "text": [
      "C:\\Users\\KIIT\\AppData\\Local\\Temp\\ipykernel_4448\\2248056373.py:13: RuntimeWarning: divide by zero encountered in double_scalars\n",
      "  grad_orientation = math.degrees(math.atan(abs(diff2/diff1)))\n"
     ]
    },
    {
     "name": "stdout",
     "output_type": "stream",
     "text": [
      "21284\n"
     ]
    },
    {
     "name": "stderr",
     "output_type": "stream",
     "text": [
      "C:\\Users\\KIIT\\AppData\\Local\\Temp\\ipykernel_4448\\2248056373.py:13: RuntimeWarning: divide by zero encountered in double_scalars\n",
      "  grad_orientation = math.degrees(math.atan(abs(diff2/diff1)))\n"
     ]
    },
    {
     "name": "stdout",
     "output_type": "stream",
     "text": [
      "16018\n"
     ]
    },
    {
     "name": "stderr",
     "output_type": "stream",
     "text": [
      "C:\\Users\\KIIT\\AppData\\Local\\Temp\\ipykernel_4448\\2248056373.py:13: RuntimeWarning: divide by zero encountered in double_scalars\n",
      "  grad_orientation = math.degrees(math.atan(abs(diff2/diff1)))\n"
     ]
    },
    {
     "name": "stdout",
     "output_type": "stream",
     "text": [
      "31159\n"
     ]
    },
    {
     "name": "stderr",
     "output_type": "stream",
     "text": [
      "C:\\Users\\KIIT\\AppData\\Local\\Temp\\ipykernel_4448\\2248056373.py:13: RuntimeWarning: divide by zero encountered in double_scalars\n",
      "  grad_orientation = math.degrees(math.atan(abs(diff2/diff1)))\n"
     ]
    },
    {
     "name": "stdout",
     "output_type": "stream",
     "text": [
      "36205\n"
     ]
    },
    {
     "name": "stderr",
     "output_type": "stream",
     "text": [
      "C:\\Users\\KIIT\\AppData\\Local\\Temp\\ipykernel_4448\\2248056373.py:13: RuntimeWarning: divide by zero encountered in double_scalars\n",
      "  grad_orientation = math.degrees(math.atan(abs(diff2/diff1)))\n"
     ]
    },
    {
     "name": "stdout",
     "output_type": "stream",
     "text": [
      "23040\n",
      "26112\n",
      "23259\n",
      "26989\n",
      "23698\n",
      "18871\n",
      "20407\n",
      "15360\n",
      "32036\n"
     ]
    },
    {
     "name": "stderr",
     "output_type": "stream",
     "text": [
      "C:\\Users\\KIIT\\AppData\\Local\\Temp\\ipykernel_4448\\2248056373.py:13: RuntimeWarning: divide by zero encountered in double_scalars\n",
      "  grad_orientation = math.degrees(math.atan(abs(diff2/diff1)))\n"
     ]
    },
    {
     "name": "stdout",
     "output_type": "stream",
     "text": [
      "35328\n"
     ]
    },
    {
     "name": "stderr",
     "output_type": "stream",
     "text": [
      "C:\\Users\\KIIT\\AppData\\Local\\Temp\\ipykernel_4448\\2248056373.py:13: RuntimeWarning: divide by zero encountered in double_scalars\n",
      "  grad_orientation = math.degrees(math.atan(abs(diff2/diff1)))\n"
     ]
    },
    {
     "name": "stdout",
     "output_type": "stream",
     "text": [
      "22820\n"
     ]
    },
    {
     "name": "stderr",
     "output_type": "stream",
     "text": [
      "C:\\Users\\KIIT\\AppData\\Local\\Temp\\ipykernel_4448\\2248056373.py:13: RuntimeWarning: divide by zero encountered in double_scalars\n",
      "  grad_orientation = math.degrees(math.atan(abs(diff2/diff1)))\n"
     ]
    },
    {
     "name": "stdout",
     "output_type": "stream",
     "text": [
      "26551\n"
     ]
    },
    {
     "name": "stderr",
     "output_type": "stream",
     "text": [
      "C:\\Users\\KIIT\\AppData\\Local\\Temp\\ipykernel_4448\\2248056373.py:13: RuntimeWarning: divide by zero encountered in double_scalars\n",
      "  grad_orientation = math.degrees(math.atan(abs(diff2/diff1)))\n"
     ]
    },
    {
     "name": "stdout",
     "output_type": "stream",
     "text": [
      "22820\n"
     ]
    },
    {
     "name": "stderr",
     "output_type": "stream",
     "text": [
      "C:\\Users\\KIIT\\AppData\\Local\\Temp\\ipykernel_4448\\2248056373.py:13: RuntimeWarning: divide by zero encountered in double_scalars\n",
      "  grad_orientation = math.degrees(math.atan(abs(diff2/diff1)))\n"
     ]
    },
    {
     "name": "stdout",
     "output_type": "stream",
     "text": [
      "25673\n"
     ]
    },
    {
     "name": "stderr",
     "output_type": "stream",
     "text": [
      "C:\\Users\\KIIT\\AppData\\Local\\Temp\\ipykernel_4448\\2248056373.py:13: RuntimeWarning: divide by zero encountered in double_scalars\n",
      "  grad_orientation = math.degrees(math.atan(abs(diff2/diff1)))\n"
     ]
    },
    {
     "name": "stdout",
     "output_type": "stream",
     "text": [
      "22381\n"
     ]
    },
    {
     "name": "stderr",
     "output_type": "stream",
     "text": [
      "C:\\Users\\KIIT\\AppData\\Local\\Temp\\ipykernel_4448\\2248056373.py:13: RuntimeWarning: divide by zero encountered in double_scalars\n",
      "  grad_orientation = math.degrees(math.atan(abs(diff2/diff1)))\n"
     ]
    },
    {
     "name": "stdout",
     "output_type": "stream",
     "text": [
      "18212\n",
      "19529\n"
     ]
    },
    {
     "name": "stderr",
     "output_type": "stream",
     "text": [
      "C:\\Users\\KIIT\\AppData\\Local\\Temp\\ipykernel_4448\\2248056373.py:13: RuntimeWarning: divide by zero encountered in double_scalars\n",
      "  grad_orientation = math.degrees(math.atan(abs(diff2/diff1)))\n"
     ]
    },
    {
     "name": "stdout",
     "output_type": "stream",
     "text": [
      "14921\n"
     ]
    },
    {
     "name": "stderr",
     "output_type": "stream",
     "text": [
      "C:\\Users\\KIIT\\AppData\\Local\\Temp\\ipykernel_4448\\2248056373.py:13: RuntimeWarning: divide by zero encountered in double_scalars\n",
      "  grad_orientation = math.degrees(math.atan(abs(diff2/diff1)))\n"
     ]
    },
    {
     "name": "stdout",
     "output_type": "stream",
     "text": [
      "33353\n",
      "35986\n",
      "23917\n"
     ]
    },
    {
     "name": "stderr",
     "output_type": "stream",
     "text": [
      "C:\\Users\\KIIT\\AppData\\Local\\Temp\\ipykernel_4448\\2248056373.py:13: RuntimeWarning: divide by zero encountered in double_scalars\n",
      "  grad_orientation = math.degrees(math.atan(abs(diff2/diff1)))\n"
     ]
    },
    {
     "name": "stdout",
     "output_type": "stream",
     "text": [
      "26989\n"
     ]
    },
    {
     "name": "stderr",
     "output_type": "stream",
     "text": [
      "C:\\Users\\KIIT\\AppData\\Local\\Temp\\ipykernel_4448\\2248056373.py:13: RuntimeWarning: divide by zero encountered in double_scalars\n",
      "  grad_orientation = math.degrees(math.atan(abs(diff2/diff1)))\n"
     ]
    },
    {
     "name": "stdout",
     "output_type": "stream",
     "text": [
      "22381\n"
     ]
    },
    {
     "name": "stderr",
     "output_type": "stream",
     "text": [
      "C:\\Users\\KIIT\\AppData\\Local\\Temp\\ipykernel_4448\\2248056373.py:13: RuntimeWarning: divide by zero encountered in double_scalars\n",
      "  grad_orientation = math.degrees(math.atan(abs(diff2/diff1)))\n"
     ]
    },
    {
     "name": "stdout",
     "output_type": "stream",
     "text": [
      "26551\n"
     ]
    },
    {
     "name": "stderr",
     "output_type": "stream",
     "text": [
      "C:\\Users\\KIIT\\AppData\\Local\\Temp\\ipykernel_4448\\2248056373.py:13: RuntimeWarning: invalid value encountered in double_scalars\n",
      "  grad_orientation = math.degrees(math.atan(abs(diff2/diff1)))\n",
      "C:\\Users\\KIIT\\AppData\\Local\\Temp\\ipykernel_4448\\2248056373.py:13: RuntimeWarning: divide by zero encountered in double_scalars\n",
      "  grad_orientation = math.degrees(math.atan(abs(diff2/diff1)))\n"
     ]
    },
    {
     "name": "stdout",
     "output_type": "stream",
     "text": [
      "22820\n",
      "18871\n"
     ]
    },
    {
     "name": "stderr",
     "output_type": "stream",
     "text": [
      "C:\\Users\\KIIT\\AppData\\Local\\Temp\\ipykernel_4448\\2248056373.py:13: RuntimeWarning: divide by zero encountered in double_scalars\n",
      "  grad_orientation = math.degrees(math.atan(abs(diff2/diff1)))\n"
     ]
    },
    {
     "name": "stdout",
     "output_type": "stream",
     "text": [
      "20845\n",
      "14921\n"
     ]
    },
    {
     "name": "stderr",
     "output_type": "stream",
     "text": [
      "C:\\Users\\KIIT\\AppData\\Local\\Temp\\ipykernel_4448\\2248056373.py:13: RuntimeWarning: divide by zero encountered in double_scalars\n",
      "  grad_orientation = math.degrees(math.atan(abs(diff2/diff1)))\n"
     ]
    },
    {
     "name": "stdout",
     "output_type": "stream",
     "text": [
      "32256\n"
     ]
    },
    {
     "name": "stderr",
     "output_type": "stream",
     "text": [
      "C:\\Users\\KIIT\\AppData\\Local\\Temp\\ipykernel_4448\\2248056373.py:13: RuntimeWarning: divide by zero encountered in double_scalars\n",
      "  grad_orientation = math.degrees(math.atan(abs(diff2/diff1)))\n"
     ]
    },
    {
     "name": "stdout",
     "output_type": "stream",
     "text": [
      "35547\n",
      "22381\n",
      "28306\n"
     ]
    },
    {
     "name": "stderr",
     "output_type": "stream",
     "text": [
      "C:\\Users\\KIIT\\AppData\\Local\\Temp\\ipykernel_4448\\2248056373.py:13: RuntimeWarning: divide by zero encountered in double_scalars\n",
      "  grad_orientation = math.degrees(math.atan(abs(diff2/diff1)))\n"
     ]
    },
    {
     "name": "stdout",
     "output_type": "stream",
     "text": [
      "23259\n",
      "26770\n",
      "23259\n",
      "18432\n",
      "20187\n"
     ]
    },
    {
     "name": "stderr",
     "output_type": "stream",
     "text": [
      "C:\\Users\\KIIT\\AppData\\Local\\Temp\\ipykernel_4448\\2248056373.py:13: RuntimeWarning: divide by zero encountered in double_scalars\n",
      "  grad_orientation = math.degrees(math.atan(abs(diff2/diff1)))\n"
     ]
    },
    {
     "name": "stdout",
     "output_type": "stream",
     "text": [
      "15360\n"
     ]
    },
    {
     "name": "stderr",
     "output_type": "stream",
     "text": [
      "C:\\Users\\KIIT\\AppData\\Local\\Temp\\ipykernel_4448\\2248056373.py:13: RuntimeWarning: divide by zero encountered in double_scalars\n",
      "  grad_orientation = math.degrees(math.atan(abs(diff2/diff1)))\n"
     ]
    },
    {
     "name": "stdout",
     "output_type": "stream",
     "text": [
      "32256\n"
     ]
    },
    {
     "name": "stderr",
     "output_type": "stream",
     "text": [
      "C:\\Users\\KIIT\\AppData\\Local\\Temp\\ipykernel_4448\\2248056373.py:13: RuntimeWarning: invalid value encountered in double_scalars\n",
      "  grad_orientation = math.degrees(math.atan(abs(diff2/diff1)))\n"
     ]
    },
    {
     "name": "stdout",
     "output_type": "stream",
     "text": [
      "34450\n"
     ]
    },
    {
     "name": "stderr",
     "output_type": "stream",
     "text": [
      "C:\\Users\\KIIT\\AppData\\Local\\Temp\\ipykernel_4448\\2248056373.py:13: RuntimeWarning: divide by zero encountered in double_scalars\n",
      "  grad_orientation = math.degrees(math.atan(abs(diff2/diff1)))\n"
     ]
    },
    {
     "name": "stdout",
     "output_type": "stream",
     "text": [
      "22162\n"
     ]
    },
    {
     "name": "stderr",
     "output_type": "stream",
     "text": [
      "C:\\Users\\KIIT\\AppData\\Local\\Temp\\ipykernel_4448\\2248056373.py:13: RuntimeWarning: divide by zero encountered in double_scalars\n",
      "  grad_orientation = math.degrees(math.atan(abs(diff2/diff1)))\n"
     ]
    },
    {
     "name": "stdout",
     "output_type": "stream",
     "text": [
      "28525\n"
     ]
    },
    {
     "name": "stderr",
     "output_type": "stream",
     "text": [
      "C:\\Users\\KIIT\\AppData\\Local\\Temp\\ipykernel_4448\\2248056373.py:13: RuntimeWarning: divide by zero encountered in double_scalars\n",
      "  grad_orientation = math.degrees(math.atan(abs(diff2/diff1)))\n"
     ]
    },
    {
     "name": "stdout",
     "output_type": "stream",
     "text": [
      "22820\n"
     ]
    },
    {
     "name": "stderr",
     "output_type": "stream",
     "text": [
      "C:\\Users\\KIIT\\AppData\\Local\\Temp\\ipykernel_4448\\2248056373.py:13: RuntimeWarning: divide by zero encountered in double_scalars\n",
      "  grad_orientation = math.degrees(math.atan(abs(diff2/diff1)))\n"
     ]
    },
    {
     "name": "stdout",
     "output_type": "stream",
     "text": [
      "26770\n"
     ]
    },
    {
     "name": "stderr",
     "output_type": "stream",
     "text": [
      "C:\\Users\\KIIT\\AppData\\Local\\Temp\\ipykernel_4448\\2248056373.py:13: RuntimeWarning: divide by zero encountered in double_scalars\n",
      "  grad_orientation = math.degrees(math.atan(abs(diff2/diff1)))\n"
     ]
    },
    {
     "name": "stdout",
     "output_type": "stream",
     "text": [
      "23917\n",
      "18432\n"
     ]
    },
    {
     "name": "stderr",
     "output_type": "stream",
     "text": [
      "C:\\Users\\KIIT\\AppData\\Local\\Temp\\ipykernel_4448\\2248056373.py:13: RuntimeWarning: divide by zero encountered in double_scalars\n",
      "  grad_orientation = math.degrees(math.atan(abs(diff2/diff1)))\n"
     ]
    },
    {
     "name": "stdout",
     "output_type": "stream",
     "text": [
      "19968\n",
      "14482\n"
     ]
    },
    {
     "name": "stderr",
     "output_type": "stream",
     "text": [
      "C:\\Users\\KIIT\\AppData\\Local\\Temp\\ipykernel_4448\\2248056373.py:13: RuntimeWarning: divide by zero encountered in double_scalars\n",
      "  grad_orientation = math.degrees(math.atan(abs(diff2/diff1)))\n"
     ]
    },
    {
     "name": "stdout",
     "output_type": "stream",
     "text": [
      "31817\n",
      "34889\n"
     ]
    },
    {
     "name": "stderr",
     "output_type": "stream",
     "text": [
      "C:\\Users\\KIIT\\AppData\\Local\\Temp\\ipykernel_4448\\2248056373.py:13: RuntimeWarning: divide by zero encountered in double_scalars\n",
      "  grad_orientation = math.degrees(math.atan(abs(diff2/diff1)))\n"
     ]
    },
    {
     "name": "stdout",
     "output_type": "stream",
     "text": [
      "22820\n",
      "26770\n"
     ]
    },
    {
     "name": "stderr",
     "output_type": "stream",
     "text": [
      "C:\\Users\\KIIT\\AppData\\Local\\Temp\\ipykernel_4448\\2248056373.py:13: RuntimeWarning: divide by zero encountered in double_scalars\n",
      "  grad_orientation = math.degrees(math.atan(abs(diff2/diff1)))\n"
     ]
    },
    {
     "name": "stdout",
     "output_type": "stream",
     "text": [
      "23479\n"
     ]
    },
    {
     "name": "stderr",
     "output_type": "stream",
     "text": [
      "C:\\Users\\KIIT\\AppData\\Local\\Temp\\ipykernel_4448\\2248056373.py:13: RuntimeWarning: divide by zero encountered in double_scalars\n",
      "  grad_orientation = math.degrees(math.atan(abs(diff2/diff1)))\n"
     ]
    },
    {
     "name": "stdout",
     "output_type": "stream",
     "text": [
      "26770\n"
     ]
    },
    {
     "name": "stderr",
     "output_type": "stream",
     "text": [
      "C:\\Users\\KIIT\\AppData\\Local\\Temp\\ipykernel_4448\\2248056373.py:13: RuntimeWarning: divide by zero encountered in double_scalars\n",
      "  grad_orientation = math.degrees(math.atan(abs(diff2/diff1)))\n"
     ]
    },
    {
     "name": "stdout",
     "output_type": "stream",
     "text": [
      "23040\n"
     ]
    },
    {
     "name": "stderr",
     "output_type": "stream",
     "text": [
      "C:\\Users\\KIIT\\AppData\\Local\\Temp\\ipykernel_4448\\2248056373.py:13: RuntimeWarning: invalid value encountered in double_scalars\n",
      "  grad_orientation = math.degrees(math.atan(abs(diff2/diff1)))\n",
      "C:\\Users\\KIIT\\AppData\\Local\\Temp\\ipykernel_4448\\2248056373.py:13: RuntimeWarning: divide by zero encountered in double_scalars\n",
      "  grad_orientation = math.degrees(math.atan(abs(diff2/diff1)))\n"
     ]
    },
    {
     "name": "stdout",
     "output_type": "stream",
     "text": [
      "18871\n",
      "20407\n",
      "14701\n",
      "31597\n",
      "34889\n",
      "22381\n"
     ]
    },
    {
     "name": "stderr",
     "output_type": "stream",
     "text": [
      "C:\\Users\\KIIT\\AppData\\Local\\Temp\\ipykernel_4448\\2248056373.py:13: RuntimeWarning: divide by zero encountered in double_scalars\n",
      "  grad_orientation = math.degrees(math.atan(abs(diff2/diff1)))\n"
     ]
    },
    {
     "name": "stdout",
     "output_type": "stream",
     "text": [
      "26989\n",
      "22381\n",
      "26331\n",
      "23259\n",
      "18212\n"
     ]
    },
    {
     "name": "stderr",
     "output_type": "stream",
     "text": [
      "C:\\Users\\KIIT\\AppData\\Local\\Temp\\ipykernel_4448\\2248056373.py:13: RuntimeWarning: divide by zero encountered in double_scalars\n",
      "  grad_orientation = math.degrees(math.atan(abs(diff2/diff1)))\n"
     ]
    },
    {
     "name": "stdout",
     "output_type": "stream",
     "text": [
      "20845\n"
     ]
    },
    {
     "name": "stderr",
     "output_type": "stream",
     "text": [
      "C:\\Users\\KIIT\\AppData\\Local\\Temp\\ipykernel_4448\\2248056373.py:13: RuntimeWarning: divide by zero encountered in double_scalars\n",
      "  grad_orientation = math.degrees(math.atan(abs(diff2/diff1)))\n"
     ]
    },
    {
     "name": "stdout",
     "output_type": "stream",
     "text": [
      "15360\n"
     ]
    },
    {
     "name": "stderr",
     "output_type": "stream",
     "text": [
      "C:\\Users\\KIIT\\AppData\\Local\\Temp\\ipykernel_4448\\2248056373.py:13: RuntimeWarning: divide by zero encountered in double_scalars\n",
      "  grad_orientation = math.degrees(math.atan(abs(diff2/diff1)))\n"
     ]
    },
    {
     "name": "stdout",
     "output_type": "stream",
     "text": [
      "32036\n",
      "37083\n"
     ]
    },
    {
     "name": "stderr",
     "output_type": "stream",
     "text": [
      "C:\\Users\\KIIT\\AppData\\Local\\Temp\\ipykernel_4448\\2248056373.py:13: RuntimeWarning: divide by zero encountered in double_scalars\n",
      "  grad_orientation = math.degrees(math.atan(abs(diff2/diff1)))\n"
     ]
    },
    {
     "name": "stdout",
     "output_type": "stream",
     "text": [
      "23259\n",
      "27428\n"
     ]
    },
    {
     "name": "stderr",
     "output_type": "stream",
     "text": [
      "C:\\Users\\KIIT\\AppData\\Local\\Temp\\ipykernel_4448\\2248056373.py:13: RuntimeWarning: divide by zero encountered in double_scalars\n",
      "  grad_orientation = math.degrees(math.atan(abs(diff2/diff1)))\n"
     ]
    },
    {
     "name": "stdout",
     "output_type": "stream",
     "text": [
      "22601\n"
     ]
    },
    {
     "name": "stderr",
     "output_type": "stream",
     "text": [
      "C:\\Users\\KIIT\\AppData\\Local\\Temp\\ipykernel_4448\\2248056373.py:13: RuntimeWarning: divide by zero encountered in double_scalars\n",
      "  grad_orientation = math.degrees(math.atan(abs(diff2/diff1)))\n"
     ]
    },
    {
     "name": "stdout",
     "output_type": "stream",
     "text": [
      "22601\n"
     ]
    },
    {
     "name": "stderr",
     "output_type": "stream",
     "text": [
      "C:\\Users\\KIIT\\AppData\\Local\\Temp\\ipykernel_4448\\2248056373.py:13: RuntimeWarning: divide by zero encountered in double_scalars\n",
      "  grad_orientation = math.degrees(math.atan(abs(diff2/diff1)))\n"
     ]
    },
    {
     "name": "stdout",
     "output_type": "stream",
     "text": [
      "22601\n"
     ]
    },
    {
     "name": "stderr",
     "output_type": "stream",
     "text": [
      "C:\\Users\\KIIT\\AppData\\Local\\Temp\\ipykernel_4448\\2248056373.py:13: RuntimeWarning: divide by zero encountered in double_scalars\n",
      "  grad_orientation = math.degrees(math.atan(abs(diff2/diff1)))\n"
     ]
    },
    {
     "name": "stdout",
     "output_type": "stream",
     "text": [
      "17993\n"
     ]
    },
    {
     "name": "stderr",
     "output_type": "stream",
     "text": [
      "C:\\Users\\KIIT\\AppData\\Local\\Temp\\ipykernel_4448\\2248056373.py:13: RuntimeWarning: divide by zero encountered in double_scalars\n",
      "  grad_orientation = math.degrees(math.atan(abs(diff2/diff1)))\n"
     ]
    },
    {
     "name": "stdout",
     "output_type": "stream",
     "text": [
      "20407\n",
      "15140\n",
      "30939\n"
     ]
    },
    {
     "name": "stderr",
     "output_type": "stream",
     "text": [
      "C:\\Users\\KIIT\\AppData\\Local\\Temp\\ipykernel_4448\\2248056373.py:13: RuntimeWarning: divide by zero encountered in double_scalars\n",
      "  grad_orientation = math.degrees(math.atan(abs(diff2/diff1)))\n"
     ]
    },
    {
     "name": "stdout",
     "output_type": "stream",
     "text": [
      "35328\n"
     ]
    },
    {
     "name": "stderr",
     "output_type": "stream",
     "text": [
      "C:\\Users\\KIIT\\AppData\\Local\\Temp\\ipykernel_4448\\2248056373.py:13: RuntimeWarning: divide by zero encountered in double_scalars\n",
      "  grad_orientation = math.degrees(math.atan(abs(diff2/diff1)))\n"
     ]
    },
    {
     "name": "stdout",
     "output_type": "stream",
     "text": [
      "23698\n",
      "26551\n",
      "23479\n",
      "26551\n"
     ]
    },
    {
     "name": "stderr",
     "output_type": "stream",
     "text": [
      "C:\\Users\\KIIT\\AppData\\Local\\Temp\\ipykernel_4448\\2248056373.py:13: RuntimeWarning: divide by zero encountered in double_scalars\n",
      "  grad_orientation = math.degrees(math.atan(abs(diff2/diff1)))\n"
     ]
    },
    {
     "name": "stdout",
     "output_type": "stream",
     "text": [
      "23040\n",
      "19090\n",
      "20845\n",
      "15799\n",
      "32036\n",
      "37083\n",
      "24356\n",
      "27209\n",
      "24576\n",
      "24576\n",
      "23259\n",
      "18871\n",
      "20187\n",
      "15579\n",
      "32914\n",
      "38400\n",
      "23698\n",
      "30720\n",
      "24137\n",
      "27428\n",
      "23259\n",
      "19748\n",
      "21065\n",
      "15799\n",
      "32695\n",
      "36864\n",
      "23259\n",
      "27867\n",
      "24356\n",
      "27648\n",
      "24356\n",
      "19090\n",
      "22820\n",
      "16237\n",
      "32914\n",
      "35547\n",
      "23917\n",
      "27648\n",
      "24356\n",
      "27209\n",
      "23917\n",
      "19309\n",
      "21504\n",
      "16018\n",
      "32914\n",
      "36425\n",
      "24137\n",
      "34011\n",
      "24356\n",
      "27648\n",
      "25234\n",
      "18651\n",
      "21943\n",
      "19309\n",
      "33133\n",
      "36864\n",
      "23698\n",
      "26989\n",
      "23259\n",
      "26551\n",
      "23917\n",
      "19309\n",
      "21284\n",
      "16457\n",
      "33133\n",
      "37083\n",
      "23040\n",
      "27648\n"
     ]
    },
    {
     "name": "stderr",
     "output_type": "stream",
     "text": [
      "C:\\Users\\KIIT\\AppData\\Local\\Temp\\ipykernel_4448\\2248056373.py:13: RuntimeWarning: divide by zero encountered in double_scalars\n",
      "  grad_orientation = math.degrees(math.atan(abs(diff2/diff1)))\n"
     ]
    },
    {
     "name": "stdout",
     "output_type": "stream",
     "text": [
      "23479\n",
      "27209\n",
      "24137\n",
      "19309\n",
      "19968\n",
      "15579\n",
      "33353\n",
      "37522\n",
      "23698\n",
      "28964\n",
      "24137\n",
      "26989\n",
      "24137\n",
      "19748\n",
      "20187\n",
      "16018\n",
      "32475\n",
      "36425\n",
      "22820\n",
      "27867\n",
      "24137\n"
     ]
    },
    {
     "name": "stderr",
     "output_type": "stream",
     "text": [
      "C:\\Users\\KIIT\\AppData\\Local\\Temp\\ipykernel_4448\\2248056373.py:13: RuntimeWarning: divide by zero encountered in double_scalars\n",
      "  grad_orientation = math.degrees(math.atan(abs(diff2/diff1)))\n"
     ]
    },
    {
     "name": "stdout",
     "output_type": "stream",
     "text": [
      "26989\n",
      "23479\n",
      "19748\n",
      "21284\n",
      "15579\n",
      "32475\n",
      "35547\n",
      "23040\n"
     ]
    },
    {
     "name": "stderr",
     "output_type": "stream",
     "text": [
      "C:\\Users\\KIIT\\AppData\\Local\\Temp\\ipykernel_4448\\2248056373.py:13: RuntimeWarning: divide by zero encountered in double_scalars\n",
      "  grad_orientation = math.degrees(math.atan(abs(diff2/diff1)))\n"
     ]
    },
    {
     "name": "stdout",
     "output_type": "stream",
     "text": [
      "27209\n"
     ]
    },
    {
     "name": "stderr",
     "output_type": "stream",
     "text": [
      "C:\\Users\\KIIT\\AppData\\Local\\Temp\\ipykernel_4448\\2248056373.py:13: RuntimeWarning: divide by zero encountered in double_scalars\n",
      "  grad_orientation = math.degrees(math.atan(abs(diff2/diff1)))\n"
     ]
    },
    {
     "name": "stdout",
     "output_type": "stream",
     "text": [
      "24137\n",
      "26989\n",
      "24795\n",
      "19748\n",
      "files saved\n"
     ]
    }
   ],
   "source": [
    "result_features = []\n",
    "for i in range(1,21):\n",
    "        folder_path = base_path3 + 'S' + str(i) +'_3' + '\\\\'\n",
    "        for j in range(0,10):\n",
    "            if i < 10:\n",
    "                file_name = folder_path + 's0' + str(i) + '_video' + str(j) + '.csv'\n",
    "                f_name = folder_path + 's0' + str(i) + '_video' + str(j)\n",
    "            else:\n",
    "                file_name = folder_path + 's' + str(i) + '_video' + str(j) + '.csv'\n",
    "                f_name = folder_path + 's' + str(i) + '_video' + str(j)\n",
    "            #print(file_name)\n",
    "            data = pd.read_csv(file_name,header=None)\n",
    "            arr = np.array(data)\n",
    "            #print(data)\n",
    "            result = arr.flatten()\n",
    "            #print(result)\n",
    "            #print(len(result))\n",
    "            feature_matrix = get_feature_matrix(result)\n",
    "            #print(feature_matrix)\n",
    "            print(len(feature_matrix))\n",
    "            feature_matrix_list=feature_matrix.tolist()\n",
    "            output_file = f_name + '_features(seven_block).csv'\n",
    "            with open(output_file, 'w', newline='') as file:\n",
    "                writer = csv.writer(file)\n",
    "                for row in feature_matrix_list:\n",
    "                    writer.writerow([row])\n",
    "print('files saved')"
   ]
  },
  {
   "cell_type": "code",
   "execution_count": null,
   "id": "644c805d",
   "metadata": {},
   "outputs": [],
   "source": []
  }
 ],
 "metadata": {
  "kernelspec": {
   "display_name": "Python 3 (ipykernel)",
   "language": "python",
   "name": "python3"
  },
  "language_info": {
   "codemirror_mode": {
    "name": "ipython",
    "version": 3
   },
   "file_extension": ".py",
   "mimetype": "text/x-python",
   "name": "python",
   "nbconvert_exporter": "python",
   "pygments_lexer": "ipython3",
   "version": "3.9.13"
  }
 },
 "nbformat": 4,
 "nbformat_minor": 5
}
